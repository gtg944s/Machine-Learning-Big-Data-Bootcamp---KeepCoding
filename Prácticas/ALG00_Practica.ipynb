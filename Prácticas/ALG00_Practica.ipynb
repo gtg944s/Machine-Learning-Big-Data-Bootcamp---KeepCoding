{
 "cells": [
  {
   "cell_type": "markdown",
   "metadata": {},
   "source": [
    "# Práctica"
   ]
  },
  {
   "cell_type": "markdown",
   "metadata": {},
   "source": [
    "## 1. La conjetura de Collatz\n",
    "\n",
    "Escribir un procedimiento en Python que implemente el mecanismo de la conjetura de Collatz para cualquier número entero positivo."
   ]
  },
  {
   "cell_type": "code",
   "execution_count": 25,
   "metadata": {},
   "outputs": [],
   "source": [
    "def collatz(number):\n",
    "    while number != 1:\n",
    "        if number % 2 == 0:\n",
    "            number=number//2\n",
    "            print(number)\n",
    "        else:\n",
    "            number=number*3+1\n",
    "            print(number)\n",
    "    return number"
   ]
  },
  {
   "cell_type": "code",
   "execution_count": 27,
   "metadata": {},
   "outputs": [
    {
     "name": "stdout",
     "output_type": "stream",
     "text": [
      "1582\n",
      "791\n",
      "2374\n",
      "1187\n",
      "3562\n",
      "1781\n",
      "5344\n",
      "2672\n",
      "1336\n",
      "668\n",
      "334\n",
      "167\n",
      "502\n",
      "251\n",
      "754\n",
      "377\n",
      "1132\n",
      "566\n",
      "283\n",
      "850\n",
      "425\n",
      "1276\n",
      "638\n",
      "319\n",
      "958\n",
      "479\n",
      "1438\n",
      "719\n",
      "2158\n",
      "1079\n",
      "3238\n",
      "1619\n",
      "4858\n",
      "2429\n",
      "7288\n",
      "3644\n",
      "1822\n",
      "911\n",
      "2734\n",
      "1367\n",
      "4102\n",
      "2051\n",
      "6154\n",
      "3077\n",
      "9232\n",
      "4616\n",
      "2308\n",
      "1154\n",
      "577\n",
      "1732\n",
      "866\n",
      "433\n",
      "1300\n",
      "650\n",
      "325\n",
      "976\n",
      "488\n",
      "244\n",
      "122\n",
      "61\n",
      "184\n",
      "92\n",
      "46\n",
      "23\n",
      "70\n",
      "35\n",
      "106\n",
      "53\n",
      "160\n",
      "80\n",
      "40\n",
      "20\n",
      "10\n",
      "5\n",
      "16\n",
      "8\n",
      "4\n",
      "2\n",
      "1\n"
     ]
    },
    {
     "data": {
      "text/plain": [
       "1"
      ]
     },
     "execution_count": 27,
     "metadata": {},
     "output_type": "execute_result"
    }
   ],
   "source": [
    "collatz(527)"
   ]
  },
  {
   "cell_type": "markdown",
   "metadata": {},
   "source": [
    "## 2. Suma y producto escalar combinados\n",
    "\n",
    "Usando los procedimientos add y mult_vector_escalar definidos en el notebook **ALG05_Vectores**, calcular:   \n",
    "{$\\alpha$[1,2]+[3,4] : $\\alpha$$\\in$$\\mathbb{R}$, 0$\\leq$$\\alpha$$\\leq$1, con una precision de dos decimales (para la multiplicación)}"
   ]
  },
  {
   "cell_type": "code",
   "execution_count": 9,
   "metadata": {},
   "outputs": [],
   "source": [
    "def mult_vector_escalar(alpha,v):\n",
    "    return [alpha*v[i] for i in range(len(v))]\n",
    "\n",
    "def add(v,w):\n",
    "    return [round(v[i]+w[i],2) for i in range(len(v))]\n"
   ]
  },
  {
   "cell_type": "code",
   "execution_count": 10,
   "metadata": {},
   "outputs": [],
   "source": [
    "alpha=0.6667\n",
    "v=[1,2]\n",
    "w=[3,4]"
   ]
  },
  {
   "cell_type": "code",
   "execution_count": 11,
   "metadata": {},
   "outputs": [
    {
     "data": {
      "text/plain": [
       "[3.67, 5.33]"
      ]
     },
     "execution_count": 11,
     "metadata": {},
     "output_type": "execute_result"
    }
   ],
   "source": [
    "add(mult_vector_escalar(alpha,v),w)"
   ]
  },
  {
   "cell_type": "markdown",
   "metadata": {},
   "source": [
    "## 3. El secreto perfecto\n",
    "\n",
    "Representa la encriptación de la adicción de un n-vector a un n-vector de GF(2)  \n",
    "\n",
    "<img src=\"Images/mortadelo-filemon.jpg\" style=\"width: 300px;\"/>\n",
    "\n",
    "Mortadelo y Filemón usan como clave el siguiente vector:  \n",
    "**k**=[0,1,0,0,1,0,1,0,1,0] \n",
    "\n",
    "Mortadelo quiere enviarle a Filemón el siguiente mensaje:  \n",
    "**p**=[0,0,0,1,1,1,0,1,0,1] \n",
    "\n",
    "Mortadelo encripta su mensaje añadiendo k: \n",
    "**c**=**p**+**k**=[0,0,0,1,1,1,0,1,0,1]+[0,1,0,0,1,0,1,0,1,0]=[0,1,0,1,0,1,1,1,1,1] \n",
    "\n",
    "Cuando Filemón recibe el mensaje, lo desencripta añadiendo **k** a lo que ha recibido \n",
    "**p**=**c**+**k**=[0,1,0,1,0,1,1,1,1,1]+[0,1,0,0,1,0,1,0,1,0]=[0,0,0,1,1,1,0,1,0,1]    \n",
    "\n",
    "que es el mensaje original.\n",
    "\n",
    "La idea es crear un procedimiento para que Filemón:\n",
    "* No tenga que hacer este proceso manualmente cada vez que Mortadelo le envíe un mensaje encriptado para descifrarlo\n",
    "* Si deciden cambiar la clave, que el procedimiento cambie mínimamente\n",
    "\n",
    "  \n"
   ]
  },
  {
   "cell_type": "code",
   "execution_count": 12,
   "metadata": {},
   "outputs": [],
   "source": [
    "k=[0,1,0,0,1,0,1,0,1,0]\n",
    "p=[0,0,0,1,1,1,0,1,0,1]\n",
    "c=[0,1,0,1,0,1,1,1,1,1]\n",
    "\n",
    "def codigo(k,p):\n",
    "    return [p[i] for i in range(len(k))]"
   ]
  },
  {
   "cell_type": "code",
   "execution_count": 13,
   "metadata": {},
   "outputs": [
    {
     "data": {
      "text/plain": [
       "[0, 0, 0, 1, 1, 1, 0, 1, 0, 1]"
      ]
     },
     "execution_count": 13,
     "metadata": {},
     "output_type": "execute_result"
    }
   ],
   "source": [
    "codigo(k,p)"
   ]
  },
  {
   "cell_type": "markdown",
   "metadata": {},
   "source": [
    "## 4. ¿Cuánto cuesta hacer una cerveza?\n",
    "\n",
    "<img src=\"Images/cerveza.jpg\" style=\"width: 300px;\"/>\n",
    "\n",
    "Supongamos que D es el conjunto de algunos ingredientes de la cerveza: \n",
    "> D={lúpulo, malta, agua, levadura} \n",
    "\n",
    "Por otro lado tenemos el vector coste:\n",
    "> coste={lúpulo: 2,5€, malta: 1.5€, agua: 0.006€, levadura: 0,45€}  \n",
    "\n",
    "Por último tenemos el vector cantidad con lo necesario para hacer una cerveza:\n",
    "> cantidad={lúpulo: 6u, malta: 14u, agua: 7u, levadura: 11u} \n",
    "\n",
    "¿Cuánto cuesta hacer una cerveza?"
   ]
  },
  {
   "cell_type": "code",
   "execution_count": 14,
   "metadata": {},
   "outputs": [],
   "source": [
    "coste=[2.5,1.5,0.006,0.45]\n",
    "cantidad=[6,14,7,11]\n",
    "\n",
    "def producto_escalar(u,v):\n",
    "    return sum(u[i]*v[i] for i in range(len(u)))"
   ]
  },
  {
   "cell_type": "code",
   "execution_count": 15,
   "metadata": {},
   "outputs": [
    {
     "data": {
      "text/plain": [
       "40.992000000000004"
      ]
     },
     "execution_count": 15,
     "metadata": {},
     "output_type": "execute_result"
    }
   ],
   "source": [
    "producto_escalar(coste,cantidad)"
   ]
  },
  {
   "cell_type": "markdown",
   "metadata": {},
   "source": [
    "## 5. La carrera de caballos\n",
    "\n",
    "Tres caballos A, B y C compiten en una carrera.  \n",
    "Las apuestas para dar como vencedor a cada uno de ellos son de 4 a 1 para A, 3 a 1 para B y 2 a 1 para C, tomando las unidades siempre en euros.  \n",
    "¿Cuánto debo apostar por cada caballo para asegurarme recibir 13 euros en toal, sin importar qué csaballo gane la carrera?"
   ]
  },
  {
   "cell_type": "markdown",
   "metadata": {},
   "source": [
    "Sean x,y,z el dinero apostado por los caballos A, B y C respectivamente.\n",
    "El objetivo del problema escalcular la cantidad que debe apostarse por cada caballo de forma que la suma del dinero recibido y perdido en ñas apuestas sea siempre igual a 13€.  \n",
    "Así, podemos plantear un sistema de tres ecuaciones con tres incógnitas, en el que igualaremos matemáticamente la cantidad percibida por la victoria de los caballos A, B, C y, al mismo tiempo, señalaremos que esta cantidad corresponde a 13€.  \n",
    "\n",
    "> 4x-y-z=3y-x-z  \n",
    "> 3y-x-z=2z-x-y  \n",
    "> 2z-x-y=13\n"
   ]
  },
  {
   "cell_type": "code",
   "execution_count": 5,
   "metadata": {},
   "outputs": [],
   "source": [
    "A=np.matrix([\n",
    "    [5,-4,0,0],\n",
    "    [0,4,-3,0],\n",
    "    [-1,-1,2,13]\n",
    "])"
   ]
  },
  {
   "cell_type": "code",
   "execution_count": 6,
   "metadata": {},
   "outputs": [
    {
     "data": {
      "text/plain": [
       "matrix([[ 5, -4,  0,  0],\n",
       "        [ 0,  4, -3,  0],\n",
       "        [-1, -1,  2, 13]])"
      ]
     },
     "execution_count": 6,
     "metadata": {},
     "output_type": "execute_result"
    }
   ],
   "source": [
    "A"
   ]
  },
  {
   "cell_type": "code",
   "execution_count": 9,
   "metadata": {},
   "outputs": [
    {
     "data": {
      "text/plain": [
       "{x: 12, y: 15, z: 20}"
      ]
     },
     "execution_count": 9,
     "metadata": {},
     "output_type": "execute_result"
    }
   ],
   "source": [
    "from sympy import Matrix, solve_linear_system\n",
    "from sympy.abc import x,y,z\n",
    "\n",
    "A=Matrix(A)\n",
    "solve_linear_system(A,x,y,z)"
   ]
  },
  {
   "cell_type": "markdown",
   "metadata": {},
   "source": [
    "## 6. Dimensión de matrices\n",
    "\n",
    "Sea la matriz $\n",
    "  M=\n",
    "  \\left[ {\\begin{array}{cc}\n",
    "   1 & 0  & 0 & 5 \\\\\n",
    "   0 & 2  & 0 & 7 \\\\\n",
    "   0 & 0  & 3 & 9 \\\\\n",
    "  \\end{array} } \\right]\n",
    "$. Calcular el rango por filas y por columnas usando Python."
   ]
  },
  {
   "cell_type": "code",
   "execution_count": 1,
   "metadata": {},
   "outputs": [],
   "source": [
    "import numpy as np\n",
    "\n",
    "M=np.matrix([\n",
    "    [1,0,0,5],\n",
    "    [0,2,0,7],\n",
    "    [0,0,3,9]\n",
    "])"
   ]
  },
  {
   "cell_type": "code",
   "execution_count": 2,
   "metadata": {},
   "outputs": [
    {
     "data": {
      "text/plain": [
       "3"
      ]
     },
     "execution_count": 2,
     "metadata": {},
     "output_type": "execute_result"
    }
   ],
   "source": [
    "np.linalg.matrix_rank(M)"
   ]
  },
  {
   "cell_type": "markdown",
   "metadata": {},
   "source": [
    "## 7. Bosque de extensión mínima\n",
    "\n",
    "<img src=\"Images/bosque.png\" style=\"width: 800px;\"/>\n",
    "\n",
    "En clase hemos hecho el caso del grafo de la derecha. Le toca el turno al de la izquierda.\n",
    "Supongamos que queremos diseñar la red de internet para el otro campus universitario.  \n",
    "La red debe lograr la misma conectividad que el grafo de entrada.  \n",
    "Una arista representa un posible cable.  \n",
    "El peso de la arista es el coste de instalar el cable.  \n",
    "Nuestro objetivo es minimizar el coste total, usando el algoritmo Grow y el algoritmo Shrink.\n",
    "Lo único que en este caso se pide crear un procedimiento para el algoritmo Grow y otro para el Shrink que lo hagan automáticamente una vez les metamos como parámetros las aristas y sus pesos"
   ]
  },
  {
   "cell_type": "code",
   "execution_count": 16,
   "metadata": {},
   "outputs": [],
   "source": [
    "# Antes de meternos con el algoritmo en sí, definamos algunas funciones de utilidad\n",
    "\n",
    "# ------------------------------------------------------------------------------------------\n",
    "# Fn_Get_PesoMax: Funcion para obtener el peso max de un grafo\n",
    "# ------------------------------------------------------------------------------------------\n",
    "def Fn_Get_PesoMax(grafo):\n",
    "    peso = 0\n",
    "    for v in grafo:\n",
    "        if peso<v[1]:\n",
    "            peso = v[1]\n",
    "    return peso\n",
    "\n",
    "# ------------------------------------------------------------------------------------------\n",
    "# Fn_Get_SumPeso: Funcion para obtener el sumatorio de pesos de un grafo\n",
    "# ------------------------------------------------------------------------------------------\n",
    "def Fn_Get_SumPeso(grafo):\n",
    "    suma = 0\n",
    "    for i in grafo:\n",
    "        suma = suma + i[1]\n",
    "    return suma\n",
    "\n",
    "# ------------------------------------------------------------------------------------------\n",
    "# Fn_Get_PesoMin: Funcion para obtener el peso min de un grafo\n",
    "# ------------------------------------------------------------------------------------------\n",
    "def Fn_Get_PesoMin(grafo):\n",
    "    if len(grafo) == 0:\n",
    "        return 0\n",
    "    else:\n",
    "        peso = Fn_Get_SumPeso(grafo)\n",
    "        for v in grafo:\n",
    "            if peso > v[1]:\n",
    "                peso = v[1]\n",
    "        return peso\n",
    "\n",
    "# ------------------------------------------------------------------------------------------\n",
    "# Fn_Get_Pesos: Funcion para obtener la lista de pesos de un grafo\n",
    "# ------------------------------------------------------------------------------------------\n",
    "def Fn_Get_Pesos(grafo, mayor=True):\n",
    "    l = []\n",
    "    for i in grafo:\n",
    "        l.append(i[1])\n",
    "    l.sort(reverse=mayor)\n",
    "    return l\n",
    "\n",
    "# ------------------------------------------------------------------------------------------\n",
    "# Fn_Get_Nodos: Funcion para obtener los nodos que componen un grado\n",
    "# ------------------------------------------------------------------------------------------\n",
    "def Fn_Get_Nodos(grafo):\n",
    "    nodos = set()\n",
    "    for i in grafo:\n",
    "        for e in i[0]:\n",
    "            nodos.add(e)    \n",
    "    return nodos\n",
    "\n",
    "# ------------------------------------------------------------------------------------------\n",
    "# Fn_Get_NodConect: Funcion para obtener los nodos que conectan\n",
    "# ------------------------------------------------------------------------------------------\n",
    "def Fn_Get_NodConect (grafoOriginal, nodo):\n",
    "    nodos = set()\n",
    "    \n",
    "    for v in grafoOriginal:\n",
    "        if nodo in v[0]:\n",
    "            nodos = nodos | (v[0])\n",
    "    nodos = nodos - {nodo}\n",
    "    return nodos\n",
    "\n",
    "# ------------------------------------------------------------------------------------------\n",
    "# Fn_Eliminar_Nodo : Funcion para elimina un nodo de un grafo dado\n",
    "# ------------------------------------------------------------------------------------------\n",
    "def Fn_Eliminar_Nodo (grafo, nodo):\n",
    "    grafoCopia = grafo.copy()\n",
    "    for v in grafo:\n",
    "        if nodo in v[0]:\n",
    "            grafoCopia.remove(v)\n",
    "    return grafoCopia\n",
    "\n",
    "# ------------------------------------------------------------------------------------------\n",
    "# Fn_Check_Camino : Funcion para elimina un nodo de un grafo dado\n",
    "# ------------------------------------------------------------------------------------------\n",
    "def Fn_Check_Camino(grafoOriginal, nodoA, nodoB):\n",
    "    grafo = grafoOriginal.copy()\n",
    "    # print(\"Probando Fn_Check_Camino entre \", nodoA, nodoB)\n",
    "    \n",
    "    #vemos si hay un Fn_Check_Camino directo\n",
    "    directo = False\n",
    "    for v in grafo:\n",
    "        # print(v[0])\n",
    "        if (nodoA in v[0]) and (nodoB in v[0]):\n",
    "            # print(nodoA,nodoB, \"Directo\")\n",
    "            return True\n",
    "    \n",
    "    nodosParaBuscar = Fn_Get_NodConect(grafo, nodoA)\n",
    "    # quitar los vertices que unen nodoA con nodosParaBuscar\n",
    "    nuevoGrafo = Fn_Eliminar_Nodo(grafo, nodoA)\n",
    "    \n",
    "    for e in nodosParaBuscar:\n",
    "        if Fn_Check_Camino(nuevoGrafo,e,nodoB): return True\n",
    "        \n",
    "# ------------------------------------------------------------------------------------------\n",
    "# Fn_Get_Vertices : Funcion que devuelve los vertines entre un nodo y una lista de nodos o grafo\n",
    "# ------------------------------------------------------------------------------------------\n",
    "def Fn_Get_Vertices(grafo, nodoInicial, listaDeNodos):\n",
    "    l = []\n",
    "    for i in grafo:\n",
    "        nodos = i[0].copy()\n",
    "        unNodo = nodos.pop()\n",
    "        otroNodo = nodos.pop()\n",
    "        if (unNodo == nodoInicial and otroNodo in listaDeNodos) or (otroNodo \n",
    "                                                                    == nodoInicial and unNodo in listaDeNodos):\n",
    "            l.append(i)\n",
    "    return l\n"
   ]
  },
  {
   "cell_type": "code",
   "execution_count": 17,
   "metadata": {},
   "outputs": [],
   "source": [
    "# ------------------------------------------------------------------------------------------\n",
    "# Algoritmo Grow\n",
    "# ------------------------------------------------------------------------------------------\n",
    "# 1.Empezamos con un grafo vacio\n",
    "# 2.Añadimos el vertice con menor peso al grafo vacio\n",
    "# 3.Vemos que nodos nos quedan por añadir\n",
    "# 4.Añadimos el nodo que tenga un vertice que una con el arbol y tenga el valor más pequeño\n",
    "# 5.Si siguen quedando nodos por añadir repetimos 4\n",
    "    \n",
    "def Algorithm_Grow(grafo):\n",
    "    #empezamos con un grafo vacio\n",
    "    bosque = []\n",
    "    gr = grafo.copy()\n",
    "    nodosDeseados = Fn_Get_Nodos(gr)\n",
    "    \n",
    "    # añadimos el vertice mas pequeño\n",
    "    minimo = Fn_Get_PesoMin(gr)\n",
    "    for i in range(0,len(gr)):\n",
    "        if gr[i][1] == minimo:\n",
    "            nuevoVertice = gr.pop(i)\n",
    "            break\n",
    "    bosque.append(nuevoVertice)\n",
    "    \n",
    "    nodosEnBosque=Fn_Get_Nodos(bosque)\n",
    "    \n",
    "    #que nodos quedan por añadir al bosque\n",
    "    nodosQueQuedan = nodosDeseados - nodosEnBosque\n",
    "     \n",
    "    while nodosQueQuedan:\n",
    "        # elegir el nodo que menos peso tiene para llegar al bosque\n",
    "        distancia = Fn_Get_PesoMax(gr)\n",
    "        \n",
    "        #sacar cual es la distancia minima entre los nodos que quedan y el arbol\n",
    "        for nodo in nodosQueQuedan:\n",
    "            # recorrer el arbol\n",
    "            for v in gr:\n",
    "                if nodo in v[0]:\n",
    "                    vertice = v[0].copy()\n",
    "                    unNodo = vertice.pop()\n",
    "                    otroNodo = vertice.pop()\n",
    "                    if nodo == otroNodo:\n",
    "                        nodoBuscado = otroNodo\n",
    "                    else:\n",
    "                        nodoBuscado = unNodo\n",
    "                    if nodoBuscado in nodosQueQuedan:\n",
    "                        if v[1] <= distancia:\n",
    "                            distancia = v[1]\n",
    "                            nodoNuevo = nodoBuscado\n",
    "                    \n",
    "        \n",
    "        # cuando termina el bucle tenemos el nodo que tenemos que añadir en nodoNuevo\n",
    "         \n",
    "        # busco entre todos los vertices los que unan el nodo buscado con los nodos que tengo\n",
    "        listaVertices = Fn_Get_Vertices(gr, nodoNuevo, nodosEnBosque)\n",
    "\n",
    "        # Y cojo el menor\n",
    "        minimo = Fn_Get_PesoMin(listaVertices)\n",
    "        for i in range(0,len(listaVertices)):\n",
    "            if listaVertices[i][1] == minimo:\n",
    "                nuevoVertice = listaVertices.pop(i)\n",
    "                break\n",
    "        bosque.append(nuevoVertice)\n",
    "\n",
    "        nodosEnBosque=Fn_Get_Nodos(bosque)\n",
    "        nodosQueQuedan = nodosDeseados - nodosEnBosque\n",
    "            \n",
    "    return bosque"
   ]
  },
  {
   "cell_type": "code",
   "execution_count": 18,
   "metadata": {},
   "outputs": [],
   "source": [
    "grafo = [({\"Pembroke Campus\",\"Athletic Complex\"},7),\n",
    "         ({\"Pembroke Campus\",\"Bio-Med\"},2),\n",
    "         ({\"Athletic Complex\",\"Bio-Med\"},9)\n",
    "        ]\n"
   ]
  },
  {
   "cell_type": "code",
   "execution_count": 19,
   "metadata": {},
   "outputs": [
    {
     "data": {
      "text/plain": [
       "[({'Bio-Med', 'Pembroke Campus'}, 2),\n",
       " ({'Athletic Complex', 'Pembroke Campus'}, 7)]"
      ]
     },
     "execution_count": 19,
     "metadata": {},
     "output_type": "execute_result"
    }
   ],
   "source": [
    "Algorithm_Grow(grafo)"
   ]
  },
  {
   "cell_type": "code",
   "execution_count": 20,
   "metadata": {},
   "outputs": [],
   "source": [
    "# ------------------------------------------------------------------------------------------\n",
    "# Algoritmo Shrink\n",
    "# ------------------------------------------------------------------------------------------\n",
    "# 1.Empezamos con el grafo completo\n",
    "# 2.Buscamos el vertice con mas peso\n",
    "# 3.Quitamos ese vertice\n",
    "# 4.Miramos a ver si hemos dejado algun nodo sin conectar o si hemos generado dos islas (es decir que todos los nodos del grafo tienen que seguir conectados entre ellos\n",
    "# 5.Si se da alguno de estos casos volvemos a añadir el vertice quitado\n",
    "# 6.Iteramos con el siguinte vertice (hasta que no nos queden vertices)\n",
    "\n",
    "   \n",
    "def Algorithm_Shrink(grafo):\n",
    "    bosque = grafo.copy()\n",
    "    \n",
    "    nodosDeseados = Fn_Get_Nodos(grafo)\n",
    "    nodosBosque = Fn_Get_Nodos(bosque)\n",
    "    pesos = Fn_Get_Pesos(grafo)\n",
    "    \n",
    "    while pesos:\n",
    "        pesoBuscado = pesos[0] \n",
    "                \n",
    "        # Buscamos vertice\n",
    "        for i in range(0, len(bosque)):\n",
    "            if bosque[i][1] == pesoBuscado:\n",
    "                nuevoVertice = bosque.pop(i) # quitamos el vertice\n",
    "                pesos.remove(pesoBuscado) # dejamos de buscar ese peso\n",
    "                break\n",
    "        \n",
    "        # comprobamos que el bosque sigue teniendo Fn_Check_Camino entre todos los nodos\n",
    "        nodosEnBosque = Fn_Get_Nodos(bosque)\n",
    "        \n",
    "        conectados = True\n",
    "        \n",
    "        for n1 in nodosEnBosque:\n",
    "            esteNodo = set()\n",
    "            esteNodo.add(n1)\n",
    "            otrosNodos = nodosEnBosque - esteNodo\n",
    "            \n",
    "            for n2 in otrosNodos:\n",
    "                \n",
    "                conectados = conectados and Fn_Check_Camino(bosque, n1, n2)\n",
    "                if not conectados: \n",
    "                    break\n",
    "        \n",
    "        if Fn_Get_Nodos(bosque) != nodosDeseados:\n",
    "            bosque.append(nuevoVertice)\n",
    "        elif not conectados:\n",
    "            bosque.append(nuevoVertice)\n",
    "        \n",
    "    \n",
    "    return(bosque)\n"
   ]
  },
  {
   "cell_type": "code",
   "execution_count": 21,
   "metadata": {},
   "outputs": [
    {
     "data": {
      "text/plain": [
       "[({'Athletic Complex', 'Pembroke Campus'}, 7),\n",
       " ({'Bio-Med', 'Pembroke Campus'}, 2)]"
      ]
     },
     "execution_count": 21,
     "metadata": {},
     "output_type": "execute_result"
    }
   ],
   "source": [
    "Algorithm_Shrink(grafo)"
   ]
  },
  {
   "cell_type": "code",
   "execution_count": null,
   "metadata": {},
   "outputs": [],
   "source": []
  }
 ],
 "metadata": {
  "kernelspec": {
   "display_name": "Python 3",
   "language": "python",
   "name": "python3"
  },
  "language_info": {
   "codemirror_mode": {
    "name": "ipython",
    "version": 3
   },
   "file_extension": ".py",
   "mimetype": "text/x-python",
   "name": "python",
   "nbconvert_exporter": "python",
   "pygments_lexer": "ipython3",
   "version": "3.6.5"
  }
 },
 "nbformat": 4,
 "nbformat_minor": 2
}
