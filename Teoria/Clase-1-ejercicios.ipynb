{
 "cells": [
  {
   "cell_type": "markdown",
   "metadata": {},
   "source": [
    "## Calcular el Factorial de un número\n",
    "\n",
    "Crear una función en R que calcule el factorial de un número. Se puede hacer recursivo o iterativo."
   ]
  },
  {
   "cell_type": "code",
   "execution_count": 12,
   "metadata": {},
   "outputs": [],
   "source": [
    "#recursiva \n",
    "myFactorialRecursivo<-function(X){\n",
    "    x<-as.integer(X)\n",
    "    if (X==0){\n",
    "        return(1)\n",
    "    }else{\n",
    "        X*myFactorialRecursivo(X-1)\n",
    "    }\n",
    "}\n",
    "\n",
    "#Iterativo\n",
    "myFactorialIterativo<-function(X){\n",
    "    f<-1\n",
    "    X<-as.integer(X)\n",
    "    if (X<=1){\n",
    "        return(1)\n",
    "    }else{\n",
    "        for(i in 1:X){\n",
    "            f<-i*f\n",
    "        }\n",
    "    }\n",
    "    f\n",
    "}\n"
   ]
  },
  {
   "cell_type": "code",
   "execution_count": 13,
   "metadata": {},
   "outputs": [
    {
     "data": {
      "text/html": [
       "24"
      ],
      "text/latex": [
       "24"
      ],
      "text/markdown": [
       "24"
      ],
      "text/plain": [
       "[1] 24"
      ]
     },
     "metadata": {},
     "output_type": "display_data"
    },
    {
     "data": {
      "text/html": [
       "24"
      ],
      "text/latex": [
       "24"
      ],
      "text/markdown": [
       "24"
      ],
      "text/plain": [
       "[1] 24"
      ]
     },
     "metadata": {},
     "output_type": "display_data"
    },
    {
     "data": {
      "text/html": [
       "24"
      ],
      "text/latex": [
       "24"
      ],
      "text/markdown": [
       "24"
      ],
      "text/plain": [
       "[1] 24"
      ]
     },
     "metadata": {},
     "output_type": "display_data"
    }
   ],
   "source": [
    "myFactorialRecursivo(4)\n",
    "myFactorialIterativo(4)\n",
    "factorial(4)"
   ]
  },
  {
   "cell_type": "markdown",
   "metadata": {},
   "source": [
    "## Percentiles\n",
    "\n",
    "Hacer una función que calcule el percentil de un vector. Recibirá dos parámetros, el vector y el percentil que queremos ver, sino se indica el percentil se supondrá que es el 50%."
   ]
  },
  {
   "cell_type": "code",
   "execution_count": 19,
   "metadata": {},
   "outputs": [],
   "source": [
    "calcPercentile<-function(x,p=50){\n",
    "    p<-p/100\n",
    "    x<-sort(na.omit(x))\n",
    "    \n",
    "    idx = 1+(length(x)-1)*p\n",
    "    \n",
    "    err<-ceiling(idx)-idx\n",
    " \n",
    "    xl<-x[floor(idx)]\n",
    "    xh<-x[ceiling(idx)]\n",
    "    \n",
    "    xl*err+xh*(1-err)    \n",
    "}"
   ]
  },
  {
   "cell_type": "code",
   "execution_count": null,
   "metadata": {},
   "outputs": [],
   "source": [
    "10 20 30 40"
   ]
  },
  {
   "cell_type": "code",
   "execution_count": 16,
   "metadata": {},
   "outputs": [
    {
     "data": {
      "text/html": [
       "2"
      ],
      "text/latex": [
       "2"
      ],
      "text/markdown": [
       "2"
      ],
      "text/plain": [
       "[1] 2"
      ]
     },
     "metadata": {},
     "output_type": "display_data"
    },
    {
     "data": {
      "text/html": [
       "3"
      ],
      "text/latex": [
       "3"
      ],
      "text/markdown": [
       "3"
      ],
      "text/plain": [
       "[1] 3"
      ]
     },
     "metadata": {},
     "output_type": "display_data"
    }
   ],
   "source": [
    "idx<-2.5\n",
    "floor(idx)\n",
    "ceiling(idx)\n"
   ]
  },
  {
   "cell_type": "code",
   "execution_count": 22,
   "metadata": {},
   "outputs": [
    {
     "data": {
      "text/html": [
       "5.24755336926319"
      ],
      "text/latex": [
       "5.24755336926319"
      ],
      "text/markdown": [
       "5.24755336926319"
      ],
      "text/plain": [
       "[1] 5.247553"
      ]
     },
     "metadata": {},
     "output_type": "display_data"
    },
    {
     "data": {
      "text/html": [
       "5.24755336926319"
      ],
      "text/latex": [
       "5.24755336926319"
      ],
      "text/markdown": [
       "5.24755336926319"
      ],
      "text/plain": [
       "[1] 5.247553"
      ]
     },
     "metadata": {},
     "output_type": "display_data"
    }
   ],
   "source": [
    "x <- runif(100, min=0, max=10)\n",
    "calcPercentile(x)\n",
    "median(x)"
   ]
  },
  {
   "cell_type": "code",
   "execution_count": 23,
   "metadata": {},
   "outputs": [
    {
     "data": {
      "text/html": [
       "9.45008550388738"
      ],
      "text/latex": [
       "9.45008550388738"
      ],
      "text/markdown": [
       "9.45008550388738"
      ],
      "text/plain": [
       "[1] 9.450086"
      ]
     },
     "metadata": {},
     "output_type": "display_data"
    },
    {
     "data": {
      "text/html": [
       "<strong>92%:</strong> 9.45008550388738"
      ],
      "text/latex": [
       "\\textbf{92\\textbackslash{}\\%:} 9.45008550388738"
      ],
      "text/markdown": [
       "**92%:** 9.45008550388738"
      ],
      "text/plain": [
       "     92% \n",
       "9.450086 "
      ]
     },
     "metadata": {},
     "output_type": "display_data"
    }
   ],
   "source": [
    "calcPercentile(x,92)\n",
    "quantile(x,0.92)"
   ]
  },
  {
   "cell_type": "markdown",
   "metadata": {},
   "source": [
    " ## CSV edad española\n",
    " \n",
    " Usando el CSV del INE.¿Cual es la media de edad de la población española? ¿y la mediana? ¿la moda?"
   ]
  },
  {
   "cell_type": "markdown",
   "metadata": {},
   "source": [
    "\\\\[ \n",
    "    \\bar{x} =  \\frac{1}{\\text{poblaciónTotal}} \\sum _{i=1}^N edad_i · poblaciónConEdad_i \n",
    "\\\\]"
   ]
  },
  {
   "cell_type": "code",
   "execution_count": 25,
   "metadata": {},
   "outputs": [],
   "source": [
    "poblacion<-read.csv(\"data/9663c.csv\",skip=6,\n",
    "                    fileEncoding=\"ISO-8859-1\",header=F)\n",
    "poblacion$V5<-NULL\n",
    "colnames(poblacion)<-c(\"edadTxt\",\"Total\",\"Hombres\",\"Mujeres\")\n",
    "poblacion<-poblacion[1:105,]\n",
    "poblacion$edad<-0:104"
   ]
  },
  {
   "cell_type": "code",
   "execution_count": 32,
   "metadata": {},
   "outputs": [
    {
     "data": {
      "text/html": [
       "<table>\n",
       "<caption>A data.frame: 6 × 5</caption>\n",
       "<thead>\n",
       "\t<tr><th></th><th scope=col>edadTxt</th><th scope=col>Total</th><th scope=col>Hombres</th><th scope=col>Mujeres</th><th scope=col>edad</th></tr>\n",
       "\t<tr><th></th><th scope=col>&lt;fct&gt;</th><th scope=col>&lt;dbl&gt;</th><th scope=col>&lt;dbl&gt;</th><th scope=col>&lt;dbl&gt;</th><th scope=col>&lt;int&gt;</th></tr>\n",
       "</thead>\n",
       "<tbody>\n",
       "\t<tr><th scope=row>100</th><td>    99 años </td><td>7894</td><td>1773</td><td>6121</td><td> 99</td></tr>\n",
       "\t<tr><th scope=row>101</th><td>    100 años</td><td>5381</td><td>1204</td><td>4177</td><td>100</td></tr>\n",
       "\t<tr><th scope=row>102</th><td>    101 años</td><td>3266</td><td> 675</td><td>2591</td><td>101</td></tr>\n",
       "\t<tr><th scope=row>103</th><td>    102 años</td><td>1762</td><td> 285</td><td>1477</td><td>102</td></tr>\n",
       "\t<tr><th scope=row>104</th><td>    103 años</td><td>1103</td><td> 169</td><td> 935</td><td>103</td></tr>\n",
       "\t<tr><th scope=row>105</th><td>    104 años</td><td> 638</td><td>  97</td><td> 542</td><td>104</td></tr>\n",
       "</tbody>\n",
       "</table>\n"
      ],
      "text/latex": [
       "A data.frame: 6 × 5\n",
       "\\begin{tabular}{r|lllll}\n",
       "  & edadTxt & Total & Hombres & Mujeres & edad\\\\\n",
       "  & <fct> & <dbl> & <dbl> & <dbl> & <int>\\\\\n",
       "\\hline\n",
       "\t100 &     99 años  & 7894 & 1773 & 6121 &  99\\\\\n",
       "\t101 &     100 años & 5381 & 1204 & 4177 & 100\\\\\n",
       "\t102 &     101 años & 3266 &  675 & 2591 & 101\\\\\n",
       "\t103 &     102 años & 1762 &  285 & 1477 & 102\\\\\n",
       "\t104 &     103 años & 1103 &  169 &  935 & 103\\\\\n",
       "\t105 &     104 años &  638 &   97 &  542 & 104\\\\\n",
       "\\end{tabular}\n"
      ],
      "text/markdown": [
       "\n",
       "A data.frame: 6 × 5\n",
       "\n",
       "| <!--/--> | edadTxt &lt;fct&gt; | Total &lt;dbl&gt; | Hombres &lt;dbl&gt; | Mujeres &lt;dbl&gt; | edad &lt;int&gt; |\n",
       "|---|---|---|---|---|---|\n",
       "| 100 |     99 años  | 7894 | 1773 | 6121 |  99 |\n",
       "| 101 |     100 años | 5381 | 1204 | 4177 | 100 |\n",
       "| 102 |     101 años | 3266 |  675 | 2591 | 101 |\n",
       "| 103 |     102 años | 1762 |  285 | 1477 | 102 |\n",
       "| 104 |     103 años | 1103 |  169 |  935 | 103 |\n",
       "| 105 |     104 años |  638 |   97 |  542 | 104 |\n",
       "\n"
      ],
      "text/plain": [
       "    edadTxt      Total Hombres Mujeres edad\n",
       "100     99 años  7894  1773    6121     99 \n",
       "101     100 años 5381  1204    4177    100 \n",
       "102     101 años 3266   675    2591    101 \n",
       "103     102 años 1762   285    1477    102 \n",
       "104     103 años 1103   169     935    103 \n",
       "105     104 años  638    97     542    104 "
      ]
     },
     "metadata": {},
     "output_type": "display_data"
    }
   ],
   "source": [
    "poblacion <- poblacion[1:105,]\n",
    "#poblacion$edad <- 0:104\n",
    "poblacion$edad <- as.integer(gsub(\"año(|s)\",\"\",poblacion$edadTxt))\n",
    "tail(poblacion)"
   ]
  },
  {
   "cell_type": "code",
   "execution_count": 39,
   "metadata": {},
   "outputs": [
    {
     "data": {
      "text/html": [
       "<span style=white-space:pre-wrap>'La moda está en     41 años'</span>"
      ],
      "text/latex": [
       "'La moda está en     41 años'"
      ],
      "text/markdown": [
       "<span style=white-space:pre-wrap>'La moda está en     41 años'</span>"
      ],
      "text/plain": [
       "[1] \"La moda está en     41 años\""
      ]
     },
     "metadata": {},
     "output_type": "display_data"
    },
    {
     "data": {
      "text/html": [
       "<span style=white-space:pre-wrap>'La moda está en     41 años'</span>"
      ],
      "text/latex": [
       "'La moda está en     41 años'"
      ],
      "text/markdown": [
       "<span style=white-space:pre-wrap>'La moda está en     41 años'</span>"
      ],
      "text/plain": [
       "[1] \"La moda está en     41 años\""
      ]
     },
     "metadata": {},
     "output_type": "display_data"
    }
   ],
   "source": [
    "paste(\"La moda está en\",poblacion[which.max(poblacion$Total),\"edadTxt\"])\n",
    "paste(\"La moda está en\",poblacion$edadTxt[which.max(poblacion$Total)])"
   ]
  },
  {
   "cell_type": "code",
   "execution_count": 42,
   "metadata": {},
   "outputs": [
    {
     "data": {
      "text/html": [
       "'La edad media es 42.6'"
      ],
      "text/latex": [
       "'La edad media es 42.6'"
      ],
      "text/markdown": [
       "'La edad media es 42.6'"
      ],
      "text/plain": [
       "[1] \"La edad media es 42.6\""
      ]
     },
     "metadata": {},
     "output_type": "display_data"
    }
   ],
   "source": [
    "paste(\"La edad media es\",round(sum(poblacion$edad*poblacion$Total)/sum(poblacion$Total),1))"
   ]
  },
  {
   "cell_type": "code",
   "execution_count": 45,
   "metadata": {},
   "outputs": [
    {
     "data": {
      "text/html": [
       "'La edad media es 42.586387378654'"
      ],
      "text/latex": [
       "'La edad media es 42.586387378654'"
      ],
      "text/markdown": [
       "'La edad media es 42.586387378654'"
      ],
      "text/plain": [
       "[1] \"La edad media es 42.586387378654\""
      ]
     },
     "metadata": {},
     "output_type": "display_data"
    }
   ],
   "source": [
    "paste(\"La edad media es\",mean(rep(poblacion$edad,poblacion$Total)))"
   ]
  },
  {
   "cell_type": "code",
   "execution_count": 46,
   "metadata": {},
   "outputs": [
    {
     "data": {
      "text/html": [
       "'La edad mediana es 43'"
      ],
      "text/latex": [
       "'La edad mediana es 43'"
      ],
      "text/markdown": [
       "'La edad mediana es 43'"
      ],
      "text/plain": [
       "[1] \"La edad mediana es 43\""
      ]
     },
     "metadata": {},
     "output_type": "display_data"
    }
   ],
   "source": [
    "paste(\"La edad mediana es\",median(rep(poblacion$edad,poblacion$Total)))"
   ]
  },
  {
   "cell_type": "code",
   "execution_count": 52,
   "metadata": {},
   "outputs": [
    {
     "data": {
      "text/html": [
       "<ol class=list-inline>\n",
       "\t<li>1</li>\n",
       "\t<li>1</li>\n",
       "\t<li>1</li>\n",
       "\t<li>1</li>\n",
       "\t<li>1</li>\n",
       "\t<li>1</li>\n",
       "\t<li>1</li>\n",
       "\t<li>1</li>\n",
       "\t<li>1</li>\n",
       "\t<li>1</li>\n",
       "\t<li>2</li>\n",
       "\t<li>3</li>\n",
       "\t<li>3</li>\n",
       "\t<li>4</li>\n",
       "\t<li>4</li>\n",
       "\t<li>4</li>\n",
       "\t<li>4</li>\n",
       "\t<li>4</li>\n",
       "</ol>\n"
      ],
      "text/latex": [
       "\\begin{enumerate*}\n",
       "\\item 1\n",
       "\\item 1\n",
       "\\item 1\n",
       "\\item 1\n",
       "\\item 1\n",
       "\\item 1\n",
       "\\item 1\n",
       "\\item 1\n",
       "\\item 1\n",
       "\\item 1\n",
       "\\item 2\n",
       "\\item 3\n",
       "\\item 3\n",
       "\\item 4\n",
       "\\item 4\n",
       "\\item 4\n",
       "\\item 4\n",
       "\\item 4\n",
       "\\end{enumerate*}\n"
      ],
      "text/markdown": [
       "1. 1\n",
       "2. 1\n",
       "3. 1\n",
       "4. 1\n",
       "5. 1\n",
       "6. 1\n",
       "7. 1\n",
       "8. 1\n",
       "9. 1\n",
       "10. 1\n",
       "11. 2\n",
       "12. 3\n",
       "13. 3\n",
       "14. 4\n",
       "15. 4\n",
       "16. 4\n",
       "17. 4\n",
       "18. 4\n",
       "\n",
       "\n"
      ],
      "text/plain": [
       " [1] 1 1 1 1 1 1 1 1 1 1 2 3 3 4 4 4 4 4"
      ]
     },
     "metadata": {},
     "output_type": "display_data"
    }
   ],
   "source": [
    "rep(c(1,2,3,4),c(10,1,2,5))"
   ]
  },
  {
   "cell_type": "code",
   "execution_count": 50,
   "metadata": {},
   "outputs": [
    {
     "data": {
      "text/html": [
       "<ol class=list-inline>\n",
       "\t<li>1</li>\n",
       "\t<li>3</li>\n",
       "\t<li>6</li>\n",
       "\t<li>10</li>\n",
       "</ol>\n"
      ],
      "text/latex": [
       "\\begin{enumerate*}\n",
       "\\item 1\n",
       "\\item 3\n",
       "\\item 6\n",
       "\\item 10\n",
       "\\end{enumerate*}\n"
      ],
      "text/markdown": [
       "1. 1\n",
       "2. 3\n",
       "3. 6\n",
       "4. 10\n",
       "\n",
       "\n"
      ],
      "text/plain": [
       "[1]  1  3  6 10"
      ]
     },
     "metadata": {},
     "output_type": "display_data"
    }
   ],
   "source": [
    "cumsum(c(1,2,3,4))"
   ]
  },
  {
   "cell_type": "code",
   "execution_count": 56,
   "metadata": {},
   "outputs": [
    {
     "data": {
      "image/png": "[encoded data removed]",
      "text/plain": [
       "plot without title"
      ]
     },
     "metadata": {},
     "output_type": "display_data"
    }
   ],
   "source": [
    "options(repr.plot.height=4,repr.plot.width=6)\n",
    "\n",
    "pobNorm<-cumsum(poblacion$Total)/sum(poblacion$Total)\n",
    "plot(poblacion$edad,pobNorm)\n",
    "grid()"
   ]
  },
  {
   "cell_type": "code",
   "execution_count": 60,
   "metadata": {},
   "outputs": [
    {
     "data": {
      "image/png": "[encoded data removed]",
      "text/plain": [
       "plot without title"
      ]
     },
     "metadata": {},
     "output_type": "display_data"
    }
   ],
   "source": [
    "plot(abs(pobNorm-0.5))"
   ]
  },
  {
   "cell_type": "code",
   "execution_count": 65,
   "metadata": {},
   "outputs": [
    {
     "data": {
      "text/html": [
       "'La edad mediana es 42'"
      ],
      "text/latex": [
       "'La edad mediana es 42'"
      ],
      "text/markdown": [
       "'La edad mediana es 42'"
      ],
      "text/plain": [
       "[1] \"La edad mediana es 42\""
      ]
     },
     "metadata": {},
     "output_type": "display_data"
    }
   ],
   "source": [
    "paste(\"La edad mediana es\", poblacion$edad[which.min(abs(pobNorm-0.5))])"
   ]
  },
  {
   "cell_type": "markdown",
   "metadata": {},
   "source": [
    "## Peso al nacer\n",
    "\n",
    "Leer el dataset que se encuentra en tests/birthweight_reduced.csv. \n",
    "Quedarse con la columna Birthweight.\n",
    "Calcular cuantiles, media, desigualdad Chebyshev para k=sqrt(2), y compararla con cuantiles. Boxplot.\n",
    "Pinta su histograma y función de densidad."
   ]
  },
  {
   "cell_type": "code",
   "execution_count": 66,
   "metadata": {},
   "outputs": [],
   "source": [
    "bwt<-read.csv(\"data/birthweight_reduced.csv\")\n",
    "weight<-bwt$Birthweight"
   ]
  },
  {
   "cell_type": "code",
   "execution_count": 67,
   "metadata": {},
   "outputs": [
    {
     "data": {
      "text/html": [
       "<dl class=dl-horizontal>\n",
       "\t<dt>25%</dt>\n",
       "\t\t<dd>6.45</dd>\n",
       "\t<dt>50%</dt>\n",
       "\t\t<dd>7.25</dd>\n",
       "\t<dt>75%</dt>\n",
       "\t\t<dd>8</dd>\n",
       "</dl>\n"
      ],
      "text/latex": [
       "\\begin{description*}\n",
       "\\item[25\\textbackslash{}\\%] 6.45\n",
       "\\item[50\\textbackslash{}\\%] 7.25\n",
       "\\item[75\\textbackslash{}\\%] 8\n",
       "\\end{description*}\n"
      ],
      "text/markdown": [
       "25%\n",
       ":   6.4550%\n",
       ":   7.2575%\n",
       ":   8\n",
       "\n"
      ],
      "text/plain": [
       " 25%  50%  75% \n",
       "6.45 7.25 8.00 "
      ]
     },
     "metadata": {},
     "output_type": "display_data"
    }
   ],
   "source": [
    "quantile(weight,c(0.25,0.5,0.75))"
   ]
  },
  {
   "cell_type": "code",
   "execution_count": 77,
   "metadata": {},
   "outputs": [
    {
     "data": {
      "text/html": [
       "<span style=white-space:pre-wrap>'Como máximo el  0.5  de las muestras estaran fuera del intervalo [ 5.38375091008086 , 9.14482051849057 ]'</span>"
      ],
      "text/latex": [
       "'Como máximo el  0.5  de las muestras estaran fuera del intervalo {[} 5.38375091008086 , 9.14482051849057 {]}'"
      ],
      "text/markdown": [
       "<span style=white-space:pre-wrap>'Como máximo el  0.5  de las muestras estaran fuera del intervalo [ 5.38375091008086 , 9.14482051849057 ]'</span>"
      ],
      "text/plain": [
       "[1] \"Como máximo el  0.5  de las muestras estaran fuera del intervalo [ 5.38375091008086 , 9.14482051849057 ]\""
      ]
     },
     "metadata": {},
     "output_type": "display_data"
    }
   ],
   "source": [
    "k=sqrt(2)\n",
    "lim_inf<-mean(weight)-k*sd(weight)\n",
    "lim_sup<-mean(weight)+k*sd(weight)\n",
    "paste(\"Como máximo el \",1/k^2, \" de las muestras estaran fuera del intervalo [\",\n",
    "      lim_inf,\",\",lim_sup,\"]\")"
   ]
  },
  {
   "cell_type": "code",
   "execution_count": 72,
   "metadata": {},
   "outputs": [
    {
     "data": {
      "image/png": "[encoded data removed]",
      "text/plain": [
       "Plot with title “Peso al nacer”"
      ]
     },
     "metadata": {},
     "output_type": "display_data"
    }
   ],
   "source": [
    "boxplot(weight,main=\"Peso al nacer\")"
   ]
  },
  {
   "cell_type": "code",
   "execution_count": 76,
   "metadata": {},
   "outputs": [
    {
     "data": {
      "image/png": "[encoded data removed]",
      "text/plain": [
       "plot without title"
      ]
     },
     "metadata": {},
     "output_type": "display_data"
    }
   ],
   "source": [
    "library(ggplot2)\n",
    "options(repr.plot.height=4,repr.plot.width=2)\n",
    "\n",
    "ggplot(bwt,aes(y=Birthweight))+geom_boxplot(color=\"red\")"
   ]
  },
  {
   "cell_type": "code",
   "execution_count": 79,
   "metadata": {},
   "outputs": [
    {
     "data": {
      "text/html": [
       "<ol class=list-inline>\n",
       "\t<li>4.2</li>\n",
       "\t<li>4.5</li>\n",
       "\t<li>5.2</li>\n",
       "\t<li>5.5</li>\n",
       "\t<li>5.8</li>\n",
       "\t<li>5.8</li>\n",
       "\t<li>6</li>\n",
       "\t<li>6</li>\n",
       "\t<li>6.1</li>\n",
       "\t<li>6.3</li>\n",
       "\t<li>6.4</li>\n",
       "\t<li>6.6</li>\n",
       "\t<li>6.6</li>\n",
       "\t<li>6.8</li>\n",
       "\t<li>6.9</li>\n",
       "\t<li>6.9</li>\n",
       "\t<li>7</li>\n",
       "\t<li>7</li>\n",
       "\t<li>7</li>\n",
       "\t<li>7.1</li>\n",
       "\t<li>7.2</li>\n",
       "\t<li>7.3</li>\n",
       "\t<li>7.3</li>\n",
       "\t<li>7.3</li>\n",
       "\t<li>7.5</li>\n",
       "\t<li>7.5</li>\n",
       "\t<li>7.7</li>\n",
       "\t<li>7.8</li>\n",
       "\t<li>7.9</li>\n",
       "\t<li>8</li>\n",
       "\t<li>8</li>\n",
       "\t<li>8</li>\n",
       "\t<li>8.3</li>\n",
       "\t<li>8.5</li>\n",
       "\t<li>8.5</li>\n",
       "\t<li>8.6</li>\n",
       "\t<li>8.6</li>\n",
       "\t<li>8.9</li>\n",
       "\t<li>9</li>\n",
       "\t<li>9.5</li>\n",
       "\t<li>10</li>\n",
       "\t<li>10</li>\n",
       "</ol>\n"
      ],
      "text/latex": [
       "\\begin{enumerate*}\n",
       "\\item 4.2\n",
       "\\item 4.5\n",
       "\\item 5.2\n",
       "\\item 5.5\n",
       "\\item 5.8\n",
       "\\item 5.8\n",
       "\\item 6\n",
       "\\item 6\n",
       "\\item 6.1\n",
       "\\item 6.3\n",
       "\\item 6.4\n",
       "\\item 6.6\n",
       "\\item 6.6\n",
       "\\item 6.8\n",
       "\\item 6.9\n",
       "\\item 6.9\n",
       "\\item 7\n",
       "\\item 7\n",
       "\\item 7\n",
       "\\item 7.1\n",
       "\\item 7.2\n",
       "\\item 7.3\n",
       "\\item 7.3\n",
       "\\item 7.3\n",
       "\\item 7.5\n",
       "\\item 7.5\n",
       "\\item 7.7\n",
       "\\item 7.8\n",
       "\\item 7.9\n",
       "\\item 8\n",
       "\\item 8\n",
       "\\item 8\n",
       "\\item 8.3\n",
       "\\item 8.5\n",
       "\\item 8.5\n",
       "\\item 8.6\n",
       "\\item 8.6\n",
       "\\item 8.9\n",
       "\\item 9\n",
       "\\item 9.5\n",
       "\\item 10\n",
       "\\item 10\n",
       "\\end{enumerate*}\n"
      ],
      "text/markdown": [
       "1. 4.2\n",
       "2. 4.5\n",
       "3. 5.2\n",
       "4. 5.5\n",
       "5. 5.8\n",
       "6. 5.8\n",
       "7. 6\n",
       "8. 6\n",
       "9. 6.1\n",
       "10. 6.3\n",
       "11. 6.4\n",
       "12. 6.6\n",
       "13. 6.6\n",
       "14. 6.8\n",
       "15. 6.9\n",
       "16. 6.9\n",
       "17. 7\n",
       "18. 7\n",
       "19. 7\n",
       "20. 7.1\n",
       "21. 7.2\n",
       "22. 7.3\n",
       "23. 7.3\n",
       "24. 7.3\n",
       "25. 7.5\n",
       "26. 7.5\n",
       "27. 7.7\n",
       "28. 7.8\n",
       "29. 7.9\n",
       "30. 8\n",
       "31. 8\n",
       "32. 8\n",
       "33. 8.3\n",
       "34. 8.5\n",
       "35. 8.5\n",
       "36. 8.6\n",
       "37. 8.6\n",
       "38. 8.9\n",
       "39. 9\n",
       "40. 9.5\n",
       "41. 10\n",
       "42. 10\n",
       "\n",
       "\n"
      ],
      "text/plain": [
       " [1]  4.2  4.5  5.2  5.5  5.8  5.8  6.0  6.0  6.1  6.3  6.4  6.6  6.6  6.8  6.9\n",
       "[16]  6.9  7.0  7.0  7.0  7.1  7.2  7.3  7.3  7.3  7.5  7.5  7.7  7.8  7.9  8.0\n",
       "[31]  8.0  8.0  8.3  8.5  8.5  8.6  8.6  8.9  9.0  9.5 10.0 10.0"
      ]
     },
     "metadata": {},
     "output_type": "display_data"
    }
   ],
   "source": [
    "sort(bwt$Birthweight)"
   ]
  },
  {
   "cell_type": "code",
   "execution_count": 83,
   "metadata": {},
   "outputs": [
    {
     "data": {
      "image/png": "[encoded data removed]",
      "text/plain": [
       "plot without title"
      ]
     },
     "metadata": {},
     "output_type": "display_data"
    }
   ],
   "source": [
    "ggplot(bwt,aes(x=Birthweight))+geom_histogram(bins=10,color=\"red\",fill=\"blue\")"
   ]
  },
  {
   "cell_type": "code",
   "execution_count": 106,
   "metadata": {},
   "outputs": [
    {
     "data": {
      "image/png": "[encoded data removed]",
      "text/plain": [
       "plot without title"
      ]
     },
     "metadata": {},
     "output_type": "display_data"
    }
   ],
   "source": [
    "ggplot(bwt,aes(x=Birthweight))+geom_density(bw=0.5)"
   ]
  },
  {
   "cell_type": "code",
   "execution_count": 88,
   "metadata": {},
   "outputs": [
    {
     "data": {
      "image/png": "[encoded data removed]",
      "text/plain": [
       "plot without title"
      ]
     },
     "metadata": {},
     "output_type": "display_data"
    }
   ],
   "source": [
    "options(repr.plot.height=4,repr.plot.width=5)\n",
    "\n",
    "ggplot(bwt,aes(x=Birthweight,y=length))+geom_point(color=\"red\")+geom_smooth(method=\"lm\")"
   ]
  },
  {
   "cell_type": "code",
   "execution_count": null,
   "metadata": {},
   "outputs": [],
   "source": []
  }
 ],
 "metadata": {
  "kernelspec": {
   "display_name": "R",
   "language": "R",
   "name": "ir"
  },
  "language_info": {
   "codemirror_mode": "r",
   "file_extension": ".r",
   "mimetype": "text/x-r-source",
   "name": "R",
   "pygments_lexer": "r",
   "version": "3.6.0"
  }
 },
 "nbformat": 4,
 "nbformat_minor": 1
}
