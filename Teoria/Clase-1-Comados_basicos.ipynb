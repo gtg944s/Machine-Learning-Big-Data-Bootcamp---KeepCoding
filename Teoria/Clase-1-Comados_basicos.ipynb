{
 "cells": [
  {
   "cell_type": "markdown",
   "metadata": {
    "slideshow": {
     "slide_type": "-"
    }
   },
   "source": [
    "# Bienvenidos\n",
    "\n",
    "Esto es un notebook. Podemos escribir en lenguaje Markdown, el cual nos permite:\n",
    "* Listas\n",
    "* Podemos escribir\n",
    "* Escribir en **negrita** y *cursiva*\n",
    "* Más información aquí: [Markdown-Cheatsheet](https://github.com/adam-p/markdown-here/wiki/Markdown-Cheatsheet)\n"
   ]
  },
  {
   "cell_type": "markdown",
   "metadata": {},
   "source": [
    "### PREGUNTAD!!\n",
    "\n",
    "Sobretodo si os perdeis, no lleguemos a casos donde no sepais que estamos haciendo.\n",
    "\n",
    "![Imagen no cargada. Edita y borra la @ ](https://img.buzzfeed.com/buzzfeed-static/static/2014-10/26/6/enhanced/webdr08/longform-original-14836-1414320930-10.jpg )"
   ]
  },
  {
   "cell_type": "markdown",
   "metadata": {},
   "source": [
    "# Introducción\n",
    "\n",
    "![ ](diagrama_resumen.png)"
   ]
  },
  {
   "cell_type": "markdown",
   "metadata": {},
   "source": [
    "# Bibliografía \n",
    "\n",
    "Sobre **estadística**: [Practical Statistics for Data Scientists: 50 Essential Concepts](https://www.amazon.com/Practical-Statistics-Data-Scientists-Essential/dp/1491952962/ref=sr_1_3?ie=UTF8&qid=1518719786)\n",
    "\n",
    "\n",
    "Sobre **R**: [R for Data Science: Import, Tidy, Transform, Visualize, and Model Data](https://www.amazon.com/Data-Science-Transform-Visualize-Model/dp/1491910399/ref=sr_1_1?ie=UTF8&qid=1518791084) Este libro es bastante completo, abarca mucho temario que no veremos por falta de tiempo.\n",
    "                    \n"
   ]
  },
  {
   "cell_type": "markdown",
   "metadata": {},
   "source": [
    "## Estadística vs Machine Learning\n",
    "\n",
    "\n",
    "Más información aquí: [Markdown-Cheatsheet](https://www.reddit.com/r/MachineLearningLounge/comments/9soaw4/let_me_fix_that_for_you/)\n",
    "\n",
    "\n",
    "* Estadística: Trata de entender las variables y su relación entre ellas. Las estadísitcas te ayudan a entender como es tu población de datos.\n",
    "\n",
    "* Machine Learning: Trata de hacer predicciones, crear modelos que, a partir de una población limitada puedan **generalizar** y aprender como se comportarán los datos.\n",
    "\n"
   ]
  },
  {
   "cell_type": "markdown",
   "metadata": {},
   "source": [
    "# Introducción a R\n",
    "\n",
    "R es un lenguaje de programación orientado a la estadística.\n",
    "\n",
    "Algo parecido a SPSS o Matlab.\n",
    "\n",
    "Es código abierto y se entrega bajo licencia GPL (versión 2 o posterior). Además existen multitud de paquetes que complementan su funcionalidad."
   ]
  },
  {
   "cell_type": "markdown",
   "metadata": {},
   "source": [
    "## Asignaciones\n",
    "\n",
    "Podemos usar <- o el símbolo = para asignar un valor a una variable"
   ]
  },
  {
   "cell_type": "code",
   "execution_count": 1,
   "metadata": {},
   "outputs": [],
   "source": [
    "a = 5"
   ]
  },
  {
   "cell_type": "code",
   "execution_count": 2,
   "metadata": {},
   "outputs": [
    {
     "name": "stdout",
     "output_type": "stream",
     "text": [
      "[1] 5\n"
     ]
    }
   ],
   "source": [
    "print(a)"
   ]
  },
  {
   "cell_type": "code",
   "execution_count": 3,
   "metadata": {},
   "outputs": [
    {
     "data": {
      "text/html": [
       "5"
      ],
      "text/latex": [
       "5"
      ],
      "text/markdown": [
       "5"
      ],
      "text/plain": [
       "[1] 5"
      ]
     },
     "metadata": {},
     "output_type": "display_data"
    }
   ],
   "source": [
    "a"
   ]
  },
  {
   "cell_type": "code",
   "execution_count": 10,
   "metadata": {},
   "outputs": [
    {
     "name": "stdout",
     "output_type": "stream",
     "text": [
      "[1] \"Hola mundo\"\n"
     ]
    }
   ],
   "source": [
    "print(\"Hola mundo\")"
   ]
  },
  {
   "cell_type": "code",
   "execution_count": 11,
   "metadata": {},
   "outputs": [
    {
     "name": "stdout",
     "output_type": "stream",
     "text": [
      "[1] 2\n",
      "[1] -3\n"
     ]
    }
   ],
   "source": [
    "b <- 2\n",
    "print(b)\n",
    "c <--3\n",
    "print(c)"
   ]
  },
  {
   "cell_type": "markdown",
   "metadata": {},
   "source": [
    "## Operaciones"
   ]
  },
  {
   "cell_type": "code",
   "execution_count": 13,
   "metadata": {},
   "outputs": [
    {
     "data": {
      "text/html": [
       "5"
      ],
      "text/latex": [
       "5"
      ],
      "text/markdown": [
       "5"
      ],
      "text/plain": [
       "[1] 5"
      ]
     },
     "metadata": {},
     "output_type": "display_data"
    },
    {
     "data": {
      "text/html": [
       "2"
      ],
      "text/latex": [
       "2"
      ],
      "text/markdown": [
       "2"
      ],
      "text/plain": [
       "[1] 2"
      ]
     },
     "metadata": {},
     "output_type": "display_data"
    },
    {
     "data": {
      "text/html": [
       "7"
      ],
      "text/latex": [
       "7"
      ],
      "text/markdown": [
       "7"
      ],
      "text/plain": [
       "[1] 7"
      ]
     },
     "metadata": {},
     "output_type": "display_data"
    },
    {
     "data": {
      "text/html": [
       "25"
      ],
      "text/latex": [
       "25"
      ],
      "text/markdown": [
       "25"
      ],
      "text/plain": [
       "[1] 25"
      ]
     },
     "metadata": {},
     "output_type": "display_data"
    },
    {
     "data": {
      "text/html": [
       "1"
      ],
      "text/latex": [
       "1"
      ],
      "text/markdown": [
       "1"
      ],
      "text/plain": [
       "[1] 1"
      ]
     },
     "metadata": {},
     "output_type": "display_data"
    },
    {
     "data": {
      "text/html": [
       "2.5"
      ],
      "text/latex": [
       "2.5"
      ],
      "text/markdown": [
       "2.5"
      ],
      "text/plain": [
       "[1] 2.5"
      ]
     },
     "metadata": {},
     "output_type": "display_data"
    },
    {
     "data": {
      "text/html": [
       "3"
      ],
      "text/latex": [
       "3"
      ],
      "text/markdown": [
       "3"
      ],
      "text/plain": [
       "[1] 3"
      ]
     },
     "metadata": {},
     "output_type": "display_data"
    }
   ],
   "source": [
    "a\n",
    "b\n",
    "\n",
    "a+b #Suma\n",
    "\n",
    "a^b #potencia\n",
    "\n",
    "a %% b #módulo\n",
    "\n",
    "a / b # División\n",
    "\n",
    "a - b # Resta\n"
   ]
  },
  {
   "cell_type": "markdown",
   "metadata": {},
   "source": [
    "## Funciones básicas\n",
    "\n",
    "Las funciones \n",
    " * siempre acaban en ()\n",
    " * pueden recibir un número variable de parámetros\n",
    " * pueden existir parámetros por defecto"
   ]
  },
  {
   "cell_type": "markdown",
   "metadata": {},
   "source": [
    "Ver las variables en memoria, función ls()"
   ]
  },
  {
   "cell_type": "code",
   "execution_count": 14,
   "metadata": {},
   "outputs": [
    {
     "data": {
      "text/html": [
       "<ol class=list-inline>\n",
       "\t<li>'a'</li>\n",
       "\t<li>'b'</li>\n",
       "\t<li>'c'</li>\n",
       "</ol>\n"
      ],
      "text/latex": [
       "\\begin{enumerate*}\n",
       "\\item 'a'\n",
       "\\item 'b'\n",
       "\\item 'c'\n",
       "\\end{enumerate*}\n"
      ],
      "text/markdown": [
       "1. 'a'\n",
       "2. 'b'\n",
       "3. 'c'\n",
       "\n",
       "\n"
      ],
      "text/plain": [
       "[1] \"a\" \"b\" \"c\""
      ]
     },
     "metadata": {},
     "output_type": "display_data"
    }
   ],
   "source": [
    "ls()"
   ]
  },
  {
   "cell_type": "markdown",
   "metadata": {},
   "source": [
    "Ver el tipo de variable, función typeof(x):"
   ]
  },
  {
   "cell_type": "code",
   "execution_count": 15,
   "metadata": {},
   "outputs": [
    {
     "data": {
      "text/html": [
       "'double'"
      ],
      "text/latex": [
       "'double'"
      ],
      "text/markdown": [
       "'double'"
      ],
      "text/plain": [
       "[1] \"double\""
      ]
     },
     "metadata": {},
     "output_type": "display_data"
    }
   ],
   "source": [
    "typeof(a)"
   ]
  },
  {
   "cell_type": "markdown",
   "metadata": {},
   "source": [
    "# Tipos de datos"
   ]
  },
  {
   "cell_type": "markdown",
   "metadata": {},
   "source": [
    "## double"
   ]
  },
  {
   "cell_type": "code",
   "execution_count": 16,
   "metadata": {},
   "outputs": [
    {
     "data": {
      "text/html": [
       "2018"
      ],
      "text/latex": [
       "2018"
      ],
      "text/markdown": [
       "2018"
      ],
      "text/plain": [
       "[1] 2018"
      ]
     },
     "metadata": {},
     "output_type": "display_data"
    },
    {
     "data": {
      "text/html": [
       "'double'"
      ],
      "text/latex": [
       "'double'"
      ],
      "text/markdown": [
       "'double'"
      ],
      "text/plain": [
       "[1] \"double\""
      ]
     },
     "metadata": {},
     "output_type": "display_data"
    }
   ],
   "source": [
    "a<-2018\n",
    "a\n",
    "typeof(a)"
   ]
  },
  {
   "cell_type": "code",
   "execution_count": 17,
   "metadata": {},
   "outputs": [
    {
     "data": {
      "text/html": [
       "2.71828182845905"
      ],
      "text/latex": [
       "2.71828182845905"
      ],
      "text/markdown": [
       "2.71828182845905"
      ],
      "text/plain": [
       "[1] 2.718282"
      ]
     },
     "metadata": {},
     "output_type": "display_data"
    }
   ],
   "source": [
    "b<-exp(1)\n",
    "b"
   ]
  },
  {
   "cell_type": "code",
   "execution_count": 19,
   "metadata": {},
   "outputs": [],
   "source": [
    "?exp"
   ]
  },
  {
   "cell_type": "markdown",
   "metadata": {},
   "source": [
    "## integer"
   ]
  },
  {
   "cell_type": "code",
   "execution_count": 21,
   "metadata": {},
   "outputs": [
    {
     "data": {
      "text/html": [
       "3"
      ],
      "text/latex": [
       "3"
      ],
      "text/markdown": [
       "3"
      ],
      "text/plain": [
       "[1] 3"
      ]
     },
     "metadata": {},
     "output_type": "display_data"
    },
    {
     "data": {
      "text/html": [
       "'integer'"
      ],
      "text/latex": [
       "'integer'"
      ],
      "text/markdown": [
       "'integer'"
      ],
      "text/plain": [
       "[1] \"integer\""
      ]
     },
     "metadata": {},
     "output_type": "display_data"
    }
   ],
   "source": [
    "ai<-as.integer(3.789)\n",
    "ai\n",
    "typeof(ai)"
   ]
  },
  {
   "cell_type": "markdown",
   "metadata": {},
   "source": [
    "## Diferencias entre  integer y double"
   ]
  },
  {
   "cell_type": "markdown",
   "metadata": {},
   "source": [
    "El número más grande que podemos representar es diferente:"
   ]
  },
  {
   "cell_type": "code",
   "execution_count": 22,
   "metadata": {},
   "outputs": [
    {
     "data": {
      "text/html": [
       "2147483647"
      ],
      "text/latex": [
       "2147483647"
      ],
      "text/markdown": [
       "2147483647"
      ],
      "text/plain": [
       "[1] 2147483647"
      ]
     },
     "metadata": {},
     "output_type": "display_data"
    },
    {
     "data": {
      "text/html": [
       "1.79769313486232e+308"
      ],
      "text/latex": [
       "1.79769313486232e+308"
      ],
      "text/markdown": [
       "1.79769313486232e+308"
      ],
      "text/plain": [
       "[1] 1.797693e+308"
      ]
     },
     "metadata": {},
     "output_type": "display_data"
    }
   ],
   "source": [
    ".Machine$integer.max\n",
    ".Machine$double.xmax"
   ]
  },
  {
   "cell_type": "markdown",
   "metadata": {},
   "source": [
    "El tamaño que ocupan en memoria es:"
   ]
  },
  {
   "cell_type": "code",
   "execution_count": 23,
   "metadata": {},
   "outputs": [
    {
     "data": {
      "text/plain": [
       "56 bytes"
      ]
     },
     "metadata": {},
     "output_type": "display_data"
    },
    {
     "data": {
      "text/plain": [
       "56 bytes"
      ]
     },
     "metadata": {},
     "output_type": "display_data"
    }
   ],
   "source": [
    "object.size(ai)\n",
    "object.size(b)"
   ]
  },
  {
   "cell_type": "markdown",
   "metadata": {},
   "source": [
    "## character"
   ]
  },
  {
   "cell_type": "code",
   "execution_count": 25,
   "metadata": {},
   "outputs": [
    {
     "data": {
      "text/html": [
       "' Discovery'"
      ],
      "text/latex": [
       "' Discovery'"
      ],
      "text/markdown": [
       "' Discovery'"
      ],
      "text/plain": [
       "[1] \" Discovery\""
      ]
     },
     "metadata": {},
     "output_type": "display_data"
    },
    {
     "data": {
      "text/html": [
       "'character'"
      ],
      "text/latex": [
       "'character'"
      ],
      "text/markdown": [
       "'character'"
      ],
      "text/plain": [
       "[1] \"character\""
      ]
     },
     "metadata": {},
     "output_type": "display_data"
    }
   ],
   "source": [
    "s1<-' Discovery'\n",
    "s1\n",
    "typeof(s1)"
   ]
  },
  {
   "cell_type": "markdown",
   "metadata": {},
   "source": [
    "Las cadenas de texto se pueden concatenar usando la función paste(x,y,z...)"
   ]
  },
  {
   "cell_type": "code",
   "execution_count": 26,
   "metadata": {},
   "outputs": [],
   "source": [
    "?paste"
   ]
  },
  {
   "cell_type": "code",
   "execution_count": 28,
   "metadata": {},
   "outputs": [
    {
     "data": {
      "text/html": [
       "' Discovery------Loca------Tardigrado'"
      ],
      "text/latex": [
       "' Discovery------Loca------Tardigrado'"
      ],
      "text/markdown": [
       "' Discovery------Loca------Tardigrado'"
      ],
      "text/plain": [
       "[1] \" Discovery------Loca------Tardigrado\""
      ]
     },
     "metadata": {},
     "output_type": "display_data"
    }
   ],
   "source": [
    "paste(s1,\"Loca\",\"Tardigrado\",sep=\"------\")"
   ]
  },
  {
   "cell_type": "markdown",
   "metadata": {},
   "source": [
    "## Logical"
   ]
  },
  {
   "cell_type": "code",
   "execution_count": 31,
   "metadata": {},
   "outputs": [
    {
     "data": {
      "text/html": [
       "'El valor de b1 es TRUE'"
      ],
      "text/latex": [
       "'El valor de b1 es TRUE'"
      ],
      "text/markdown": [
       "'El valor de b1 es TRUE'"
      ],
      "text/plain": [
       "[1] \"El valor de b1 es TRUE\""
      ]
     },
     "metadata": {},
     "output_type": "display_data"
    },
    {
     "data": {
      "text/html": [
       "'El valor de b2 es TRUE'"
      ],
      "text/latex": [
       "'El valor de b2 es TRUE'"
      ],
      "text/markdown": [
       "'El valor de b2 es TRUE'"
      ],
      "text/plain": [
       "[1] \"El valor de b2 es TRUE\""
      ]
     },
     "metadata": {},
     "output_type": "display_data"
    },
    {
     "data": {
      "text/html": [
       "'El valor de b3 es FALSE'"
      ],
      "text/latex": [
       "'El valor de b3 es FALSE'"
      ],
      "text/markdown": [
       "'El valor de b3 es FALSE'"
      ],
      "text/plain": [
       "[1] \"El valor de b3 es FALSE\""
      ]
     },
     "metadata": {},
     "output_type": "display_data"
    }
   ],
   "source": [
    "b1 <- TRUE\n",
    "b2 <- T\n",
    "b3 <- FALSE\n",
    "paste(\"El valor de b1 es\",b1)\n",
    "paste(\"El valor de b2 es\",b2)\n",
    "paste(\"El valor de b3 es\",b3)"
   ]
  },
  {
   "cell_type": "code",
   "execution_count": 32,
   "metadata": {},
   "outputs": [
    {
     "name": "stdout",
     "output_type": "stream",
     "text": [
      "[1] \"b1 AND b3: FALSE\"\n",
      "[1] \"b1 OR  b3: TRUE\"\n",
      "[1] \"b1 XOR b3: TRUE\"\n",
      "[1] \"   NOT b1: FALSE\"\n"
     ]
    }
   ],
   "source": [
    "print(paste(\"b1 AND b3:\",b1 & b3))\n",
    "print(paste(\"b1 OR  b3:\",b1 | b3))\n",
    "print(paste(\"b1 XOR b3:\",xor(b1 ,b3)))\n",
    "print(paste(\"   NOT b1:\",!b1))"
   ]
  },
  {
   "cell_type": "markdown",
   "metadata": {},
   "source": [
    "## Vectores"
   ]
  },
  {
   "cell_type": "markdown",
   "metadata": {},
   "source": [
    "Los vectores se crean con la función c(), todos los elementos de un vector son del mimo tipo. Es decir, no se podrían mezclar caracteres y double."
   ]
  },
  {
   "cell_type": "markdown",
   "metadata": {},
   "source": [
    "En python:\n",
    "\n",
    "   a = [1,2,3,40]\n",
    "   \n",
    "En R:\n",
    "\n",
    "   a = c(1,2,3,40)"
   ]
  },
  {
   "cell_type": "code",
   "execution_count": 37,
   "metadata": {},
   "outputs": [],
   "source": [
    "?c"
   ]
  },
  {
   "cell_type": "code",
   "execution_count": 34,
   "metadata": {},
   "outputs": [
    {
     "data": {
      "text/html": [
       "<ol class=list-inline>\n",
       "\t<li>1</li>\n",
       "\t<li>2</li>\n",
       "\t<li>4</li>\n",
       "\t<li>7</li>\n",
       "\t<li>8</li>\n",
       "</ol>\n"
      ],
      "text/latex": [
       "\\begin{enumerate*}\n",
       "\\item 1\n",
       "\\item 2\n",
       "\\item 4\n",
       "\\item 7\n",
       "\\item 8\n",
       "\\end{enumerate*}\n"
      ],
      "text/markdown": [
       "1. 1\n",
       "2. 2\n",
       "3. 4\n",
       "4. 7\n",
       "5. 8\n",
       "\n",
       "\n"
      ],
      "text/plain": [
       "[1] 1 2 4 7 8"
      ]
     },
     "metadata": {},
     "output_type": "display_data"
    }
   ],
   "source": [
    "c(1,2,4,7,8)"
   ]
  },
  {
   "cell_type": "code",
   "execution_count": 35,
   "metadata": {},
   "outputs": [
    {
     "name": "stdout",
     "output_type": "stream",
     "text": [
      "[1] \"alturas es una variable de tipo: double\"\n"
     ]
    }
   ],
   "source": [
    "alturas<-c(1.80,1.60,1.50,1.90,1.75,1.63,1.65)\n",
    "print(paste(\"alturas es una variable de tipo:\",typeof(alturas)))"
   ]
  },
  {
   "cell_type": "code",
   "execution_count": 36,
   "metadata": {},
   "outputs": [
    {
     "name": "stdout",
     "output_type": "stream",
     "text": [
      "[1] \"Podemos ver la estructura de un objeto con la función str():\"\n",
      " num [1:7] 1.8 1.6 1.5 1.9 1.75 1.63 1.65\n"
     ]
    }
   ],
   "source": [
    "print(\"Podemos ver la estructura de un objeto con la función str():\")\n",
    "str(alturas)"
   ]
  },
  {
   "cell_type": "code",
   "execution_count": 39,
   "metadata": {},
   "outputs": [
    {
     "data": {
      "text/html": [
       "<ol class=list-inline>\n",
       "\t<li>'uno'</li>\n",
       "\t<li>'2'</li>\n",
       "\t<li>'tres'</li>\n",
       "\t<li>'14.0'</li>\n",
       "</ol>\n"
      ],
      "text/latex": [
       "\\begin{enumerate*}\n",
       "\\item 'uno'\n",
       "\\item '2'\n",
       "\\item 'tres'\n",
       "\\item '14.0'\n",
       "\\end{enumerate*}\n"
      ],
      "text/markdown": [
       "1. 'uno'\n",
       "2. '2'\n",
       "3. 'tres'\n",
       "4. '14.0'\n",
       "\n",
       "\n"
      ],
      "text/plain": [
       "[1] \"uno\"  \"2\"    \"tres\" \"14.0\""
      ]
     },
     "metadata": {},
     "output_type": "display_data"
    }
   ],
   "source": [
    "otroVector <- c(\"uno\",2.0,\"tres\",\"14.0\")\n",
    "otroVector"
   ]
  },
  {
   "cell_type": "code",
   "execution_count": 40,
   "metadata": {},
   "outputs": [
    {
     "name": "stdout",
     "output_type": "stream",
     "text": [
      " chr [1:4] \"uno\" \"2\" \"tres\" \"14.0\"\n"
     ]
    }
   ],
   "source": [
    "str(otroVector)"
   ]
  },
  {
   "cell_type": "markdown",
   "metadata": {},
   "source": [
    "### Acceso a elementos"
   ]
  },
  {
   "cell_type": "code",
   "execution_count": 41,
   "metadata": {},
   "outputs": [
    {
     "name": "stdout",
     "output_type": "stream",
     "text": [
      "[1] \"El valor del tercer elemento es: 1.5\"\n"
     ]
    }
   ],
   "source": [
    "print(paste(\"El valor del tercer elemento es:\",alturas[3]))"
   ]
  },
  {
   "cell_type": "markdown",
   "metadata": {},
   "source": [
    "**¡¡En R los arrays empiezan en 1!!**\n",
    "![Imagen no cargada. Edita y borra la @ ](https://i.redd.it/iwnqgrrbls5z.png @ )"
   ]
  },
  {
   "cell_type": "markdown",
   "metadata": {},
   "source": [
    "Podemos dar nombres a cada elemento"
   ]
  },
  {
   "cell_type": "code",
   "execution_count": 42,
   "metadata": {},
   "outputs": [],
   "source": [
    "myVector <- c(nombre=\"Philip\",apellido=\"García\",teléfono=600100100)"
   ]
  },
  {
   "cell_type": "code",
   "execution_count": 43,
   "metadata": {},
   "outputs": [
    {
     "data": {
      "text/html": [
       "<dl class=dl-horizontal>\n",
       "\t<dt>nombre</dt>\n",
       "\t\t<dd>'Philip'</dd>\n",
       "\t<dt>apellido</dt>\n",
       "\t\t<dd>'García'</dd>\n",
       "\t<dt>teléfono</dt>\n",
       "\t\t<dd>'600100100'</dd>\n",
       "</dl>\n"
      ],
      "text/latex": [
       "\\begin{description*}\n",
       "\\item[nombre] 'Philip'\n",
       "\\item[apellido] 'García'\n",
       "\\item[teléfono] '600100100'\n",
       "\\end{description*}\n"
      ],
      "text/markdown": [
       "nombre\n",
       ":   'Philip'apellido\n",
       ":   'García'teléfono\n",
       ":   '600100100'\n",
       "\n"
      ],
      "text/plain": [
       "     nombre    apellido    teléfono \n",
       "   \"Philip\"    \"García\" \"600100100\" "
      ]
     },
     "metadata": {},
     "output_type": "display_data"
    }
   ],
   "source": [
    "myVector"
   ]
  },
  {
   "cell_type": "code",
   "execution_count": 44,
   "metadata": {},
   "outputs": [
    {
     "name": "stdout",
     "output_type": "stream",
     "text": [
      " Named chr [1:3] \"Philip\" \"García\" \"600100100\"\n",
      " - attr(*, \"names\")= chr [1:3] \"nombre\" \"apellido\" \"teléfono\"\n"
     ]
    }
   ],
   "source": [
    "str(myVector)"
   ]
  },
  {
   "cell_type": "code",
   "execution_count": 48,
   "metadata": {},
   "outputs": [
    {
     "data": {
      "text/html": [
       "<strong>apellido:</strong> 'García'"
      ],
      "text/latex": [
       "\\textbf{apellido:} 'García'"
      ],
      "text/markdown": [
       "**apellido:** 'García'"
      ],
      "text/plain": [
       "apellido \n",
       "\"García\" "
      ]
     },
     "metadata": {},
     "output_type": "display_data"
    }
   ],
   "source": [
    "myVector[\"apellido\"]"
   ]
  },
  {
   "cell_type": "code",
   "execution_count": 49,
   "metadata": {},
   "outputs": [
    {
     "data": {
      "text/html": [
       "<strong>apellido:</strong> 'García'"
      ],
      "text/latex": [
       "\\textbf{apellido:} 'García'"
      ],
      "text/markdown": [
       "**apellido:** 'García'"
      ],
      "text/plain": [
       "apellido \n",
       "\"García\" "
      ]
     },
     "metadata": {},
     "output_type": "display_data"
    }
   ],
   "source": [
    "myVector[2]"
   ]
  },
  {
   "cell_type": "code",
   "execution_count": 50,
   "metadata": {},
   "outputs": [
    {
     "data": {
      "text/html": [
       "<strong>teléfono:</strong> '600100100'"
      ],
      "text/latex": [
       "\\textbf{teléfono:} '600100100'"
      ],
      "text/markdown": [
       "**teléfono:** '600100100'"
      ],
      "text/plain": [
       "   teléfono \n",
       "\"600100100\" "
      ]
     },
     "metadata": {},
     "output_type": "display_data"
    }
   ],
   "source": [
    "myVector[\"teléfono\"]"
   ]
  },
  {
   "cell_type": "code",
   "execution_count": 51,
   "metadata": {},
   "outputs": [
    {
     "data": {
      "text/html": [
       "<ol class=list-inline>\n",
       "\t<li>'nombre'</li>\n",
       "\t<li>'apellido'</li>\n",
       "\t<li>'teléfono'</li>\n",
       "</ol>\n"
      ],
      "text/latex": [
       "\\begin{enumerate*}\n",
       "\\item 'nombre'\n",
       "\\item 'apellido'\n",
       "\\item 'teléfono'\n",
       "\\end{enumerate*}\n"
      ],
      "text/markdown": [
       "1. 'nombre'\n",
       "2. 'apellido'\n",
       "3. 'teléfono'\n",
       "\n",
       "\n"
      ],
      "text/plain": [
       "[1] \"nombre\"   \"apellido\" \"teléfono\""
      ]
     },
     "metadata": {},
     "output_type": "display_data"
    }
   ],
   "source": [
    "#Los nombres de una variable se pueden ver con la función names()\n",
    "names(myVector)"
   ]
  },
  {
   "cell_type": "code",
   "execution_count": 52,
   "metadata": {},
   "outputs": [],
   "source": [
    "?names"
   ]
  },
  {
   "cell_type": "code",
   "execution_count": 57,
   "metadata": {},
   "outputs": [],
   "source": [
    "names(myVector) <- c(\"nombre_actualizado\",\"apellido_actualizado\", \"telefono_actualizado\")"
   ]
  },
  {
   "cell_type": "code",
   "execution_count": 58,
   "metadata": {},
   "outputs": [
    {
     "data": {
      "text/html": [
       "<dl class=dl-horizontal>\n",
       "\t<dt>nombre_actualizado</dt>\n",
       "\t\t<dd>'Philip'</dd>\n",
       "\t<dt>apellido_actualizado</dt>\n",
       "\t\t<dd>'García'</dd>\n",
       "\t<dt>telefono_actualizado</dt>\n",
       "\t\t<dd>'600100100'</dd>\n",
       "</dl>\n"
      ],
      "text/latex": [
       "\\begin{description*}\n",
       "\\item[nombre\\textbackslash{}\\_actualizado] 'Philip'\n",
       "\\item[apellido\\textbackslash{}\\_actualizado] 'García'\n",
       "\\item[telefono\\textbackslash{}\\_actualizado] '600100100'\n",
       "\\end{description*}\n"
      ],
      "text/markdown": [
       "nombre_actualizado\n",
       ":   'Philip'apellido_actualizado\n",
       ":   'García'telefono_actualizado\n",
       ":   '600100100'\n",
       "\n"
      ],
      "text/plain": [
       "  nombre_actualizado apellido_actualizado telefono_actualizado \n",
       "            \"Philip\"             \"García\"          \"600100100\" "
      ]
     },
     "metadata": {},
     "output_type": "display_data"
    }
   ],
   "source": [
    "myVector"
   ]
  },
  {
   "cell_type": "markdown",
   "metadata": {},
   "source": [
    "### Operaciones con vectores"
   ]
  },
  {
   "cell_type": "markdown",
   "metadata": {},
   "source": [
    "Al operar contra una variable se aplica esa operación a todos los elementos del vector"
   ]
  },
  {
   "cell_type": "code",
   "execution_count": 59,
   "metadata": {},
   "outputs": [
    {
     "data": {
      "text/html": [
       "<ol class=list-inline>\n",
       "\t<li>5.905512</li>\n",
       "\t<li>5.249344</li>\n",
       "\t<li>4.92126</li>\n",
       "\t<li>6.233596</li>\n",
       "\t<li>5.74147</li>\n",
       "\t<li>5.3477692</li>\n",
       "\t<li>5.413386</li>\n",
       "</ol>\n"
      ],
      "text/latex": [
       "\\begin{enumerate*}\n",
       "\\item 5.905512\n",
       "\\item 5.249344\n",
       "\\item 4.92126\n",
       "\\item 6.233596\n",
       "\\item 5.74147\n",
       "\\item 5.3477692\n",
       "\\item 5.413386\n",
       "\\end{enumerate*}\n"
      ],
      "text/markdown": [
       "1. 5.905512\n",
       "2. 5.249344\n",
       "3. 4.92126\n",
       "4. 6.233596\n",
       "5. 5.74147\n",
       "6. 5.3477692\n",
       "7. 5.413386\n",
       "\n",
       "\n"
      ],
      "text/plain": [
       "[1] 5.905512 5.249344 4.921260 6.233596 5.741470 5.347769 5.413386"
      ]
     },
     "metadata": {},
     "output_type": "display_data"
    }
   ],
   "source": [
    "metro2pie <- 3.28084\n",
    "alturasEnPies <- alturas*metro2pie\n",
    "alturasEnPies"
   ]
  },
  {
   "cell_type": "markdown",
   "metadata": {},
   "source": [
    "Si se opera con dos vectores de la misma longitud se aplica elemento a elemento."
   ]
  },
  {
   "cell_type": "code",
   "execution_count": 61,
   "metadata": {},
   "outputs": [
    {
     "data": {
      "text/html": [
       "<ol class=list-inline>\n",
       "\t<li>1.8</li>\n",
       "\t<li>1.6</li>\n",
       "\t<li>1.5</li>\n",
       "\t<li>1.9</li>\n",
       "\t<li>1.75</li>\n",
       "\t<li>1.63</li>\n",
       "\t<li>1.65</li>\n",
       "</ol>\n"
      ],
      "text/latex": [
       "\\begin{enumerate*}\n",
       "\\item 1.8\n",
       "\\item 1.6\n",
       "\\item 1.5\n",
       "\\item 1.9\n",
       "\\item 1.75\n",
       "\\item 1.63\n",
       "\\item 1.65\n",
       "\\end{enumerate*}\n"
      ],
      "text/markdown": [
       "1. 1.8\n",
       "2. 1.6\n",
       "3. 1.5\n",
       "4. 1.9\n",
       "5. 1.75\n",
       "6. 1.63\n",
       "7. 1.65\n",
       "\n",
       "\n"
      ],
      "text/plain": [
       "[1] 1.80 1.60 1.50 1.90 1.75 1.63 1.65"
      ]
     },
     "metadata": {},
     "output_type": "display_data"
    }
   ],
   "source": [
    "alturas"
   ]
  },
  {
   "cell_type": "code",
   "execution_count": 64,
   "metadata": {},
   "outputs": [
    {
     "data": {
      "text/html": [
       "<ol class=list-inline>\n",
       "\t<li>1.78</li>\n",
       "\t<li>1.6</li>\n",
       "\t<li>1.49</li>\n",
       "\t<li>1.87</li>\n",
       "\t<li>1.7</li>\n",
       "\t<li>1.56</li>\n",
       "\t<li>1.65</li>\n",
       "</ol>\n"
      ],
      "text/latex": [
       "\\begin{enumerate*}\n",
       "\\item 1.78\n",
       "\\item 1.6\n",
       "\\item 1.49\n",
       "\\item 1.87\n",
       "\\item 1.7\n",
       "\\item 1.56\n",
       "\\item 1.65\n",
       "\\end{enumerate*}\n"
      ],
      "text/markdown": [
       "1. 1.78\n",
       "2. 1.6\n",
       "3. 1.49\n",
       "4. 1.87\n",
       "5. 1.7\n",
       "6. 1.56\n",
       "7. 1.65\n",
       "\n",
       "\n"
      ],
      "text/plain": [
       "[1] 1.78 1.60 1.49 1.87 1.70 1.56 1.65"
      ]
     },
     "metadata": {},
     "output_type": "display_data"
    }
   ],
   "source": [
    "alturaDeLosZapatos<-c(2,0,1,3,5,7,0)/100\n",
    "\n",
    "alturaReal<-alturas-alturaDeLosZapatos\n",
    "alturaReal"
   ]
  },
  {
   "cell_type": "markdown",
   "metadata": {},
   "source": [
    "Se puede operar con vectores de tamaños diferentes, en este caso el vector más pequeño se replica"
   ]
  },
  {
   "cell_type": "code",
   "execution_count": 67,
   "metadata": {},
   "outputs": [
    {
     "name": "stderr",
     "output_type": "stream",
     "text": [
      "Warning message in alturas * c(1, 0):\n",
      "“longer object length is not a multiple of shorter object length”"
     ]
    },
    {
     "data": {
      "text/html": [
       "<ol class=list-inline>\n",
       "\t<li>1.8</li>\n",
       "\t<li>0</li>\n",
       "\t<li>1.5</li>\n",
       "\t<li>0</li>\n",
       "\t<li>1.75</li>\n",
       "\t<li>0</li>\n",
       "\t<li>1.65</li>\n",
       "</ol>\n"
      ],
      "text/latex": [
       "\\begin{enumerate*}\n",
       "\\item 1.8\n",
       "\\item 0\n",
       "\\item 1.5\n",
       "\\item 0\n",
       "\\item 1.75\n",
       "\\item 0\n",
       "\\item 1.65\n",
       "\\end{enumerate*}\n"
      ],
      "text/markdown": [
       "1. 1.8\n",
       "2. 0\n",
       "3. 1.5\n",
       "4. 0\n",
       "5. 1.75\n",
       "6. 0\n",
       "7. 1.65\n",
       "\n",
       "\n"
      ],
      "text/plain": [
       "[1] 1.80 0.00 1.50 0.00 1.75 0.00 1.65"
      ]
     },
     "metadata": {},
     "output_type": "display_data"
    }
   ],
   "source": [
    "alturas*c(1,0)"
   ]
  },
  {
   "cell_type": "markdown",
   "metadata": {},
   "source": [
    "Concatenar vectores"
   ]
  },
  {
   "cell_type": "code",
   "execution_count": 76,
   "metadata": {},
   "outputs": [
    {
     "data": {
      "text/html": [
       "<ol class=list-inline>\n",
       "\t<li>1.8</li>\n",
       "\t<li>1.7</li>\n",
       "\t<li>1.5</li>\n",
       "\t<li>1.9</li>\n",
       "\t<li>1.75</li>\n",
       "\t<li>1.63</li>\n",
       "\t<li>1.65</li>\n",
       "\t<li>2</li>\n",
       "\t<li>1.8</li>\n",
       "\t<li>17</li>\n",
       "</ol>\n"
      ],
      "text/latex": [
       "\\begin{enumerate*}\n",
       "\\item 1.8\n",
       "\\item 1.7\n",
       "\\item 1.5\n",
       "\\item 1.9\n",
       "\\item 1.75\n",
       "\\item 1.63\n",
       "\\item 1.65\n",
       "\\item 2\n",
       "\\item 1.8\n",
       "\\item 17\n",
       "\\end{enumerate*}\n"
      ],
      "text/markdown": [
       "1. 1.8\n",
       "2. 1.7\n",
       "3. 1.5\n",
       "4. 1.9\n",
       "5. 1.75\n",
       "6. 1.63\n",
       "7. 1.65\n",
       "8. 2\n",
       "9. 1.8\n",
       "10. 17\n",
       "\n",
       "\n"
      ],
      "text/plain": [
       " [1]  1.80  1.70  1.50  1.90  1.75  1.63  1.65  2.00  1.80 17.00"
      ]
     },
     "metadata": {},
     "output_type": "display_data"
    }
   ],
   "source": [
    "c(alturas,2,1.8,17)"
   ]
  },
  {
   "cell_type": "markdown",
   "metadata": {},
   "source": [
    "Longitud de un vector se obtiene con la función length()"
   ]
  },
  {
   "cell_type": "code",
   "execution_count": 69,
   "metadata": {},
   "outputs": [
    {
     "data": {
      "text/html": [
       "7"
      ],
      "text/latex": [
       "7"
      ],
      "text/markdown": [
       "7"
      ],
      "text/plain": [
       "[1] 7"
      ]
     },
     "metadata": {},
     "output_type": "display_data"
    }
   ],
   "source": [
    "length(alturas)"
   ]
  },
  {
   "cell_type": "markdown",
   "metadata": {},
   "source": [
    "La estructura de la variable se puede ver con la función str()"
   ]
  },
  {
   "cell_type": "code",
   "execution_count": 70,
   "metadata": {},
   "outputs": [
    {
     "name": "stdout",
     "output_type": "stream",
     "text": [
      " num [1:7] 1.8 1.6 1.5 1.9 1.75 1.63 1.65\n"
     ]
    }
   ],
   "source": [
    "str(alturas)"
   ]
  },
  {
   "cell_type": "code",
   "execution_count": 74,
   "metadata": {},
   "outputs": [
    {
     "data": {
      "text/html": [
       "<ol class=list-inline>\n",
       "\t<li>1.8</li>\n",
       "\t<li>1.7</li>\n",
       "\t<li>1.5</li>\n",
       "\t<li>1.9</li>\n",
       "\t<li>1.75</li>\n",
       "\t<li>1.63</li>\n",
       "\t<li>1.65</li>\n",
       "</ol>\n"
      ],
      "text/latex": [
       "\\begin{enumerate*}\n",
       "\\item 1.8\n",
       "\\item 1.7\n",
       "\\item 1.5\n",
       "\\item 1.9\n",
       "\\item 1.75\n",
       "\\item 1.63\n",
       "\\item 1.65\n",
       "\\end{enumerate*}\n"
      ],
      "text/markdown": [
       "1. 1.8\n",
       "2. 1.7\n",
       "3. 1.5\n",
       "4. 1.9\n",
       "5. 1.75\n",
       "6. 1.63\n",
       "7. 1.65\n",
       "\n",
       "\n"
      ],
      "text/plain": [
       "[1] 1.80 1.70 1.50 1.90 1.75 1.63 1.65"
      ]
     },
     "metadata": {},
     "output_type": "display_data"
    }
   ],
   "source": [
    "#Para modificar un valor\n",
    "alturas[2]<-1.7\n",
    "alturas"
   ]
  },
  {
   "cell_type": "code",
   "execution_count": 77,
   "metadata": {},
   "outputs": [],
   "source": [
    "alturas[18]<-1.9"
   ]
  },
  {
   "cell_type": "code",
   "execution_count": 78,
   "metadata": {},
   "outputs": [
    {
     "data": {
      "text/html": [
       "<ol class=list-inline>\n",
       "\t<li>1.8</li>\n",
       "\t<li>1.7</li>\n",
       "\t<li>1.5</li>\n",
       "\t<li>1.9</li>\n",
       "\t<li>1.75</li>\n",
       "\t<li>1.63</li>\n",
       "\t<li>1.65</li>\n",
       "\t<li>&lt;NA&gt;</li>\n",
       "\t<li>&lt;NA&gt;</li>\n",
       "\t<li>&lt;NA&gt;</li>\n",
       "\t<li>&lt;NA&gt;</li>\n",
       "\t<li>&lt;NA&gt;</li>\n",
       "\t<li>&lt;NA&gt;</li>\n",
       "\t<li>&lt;NA&gt;</li>\n",
       "\t<li>&lt;NA&gt;</li>\n",
       "\t<li>&lt;NA&gt;</li>\n",
       "\t<li>&lt;NA&gt;</li>\n",
       "\t<li>1.9</li>\n",
       "</ol>\n"
      ],
      "text/latex": [
       "\\begin{enumerate*}\n",
       "\\item 1.8\n",
       "\\item 1.7\n",
       "\\item 1.5\n",
       "\\item 1.9\n",
       "\\item 1.75\n",
       "\\item 1.63\n",
       "\\item 1.65\n",
       "\\item <NA>\n",
       "\\item <NA>\n",
       "\\item <NA>\n",
       "\\item <NA>\n",
       "\\item <NA>\n",
       "\\item <NA>\n",
       "\\item <NA>\n",
       "\\item <NA>\n",
       "\\item <NA>\n",
       "\\item <NA>\n",
       "\\item 1.9\n",
       "\\end{enumerate*}\n"
      ],
      "text/markdown": [
       "1. 1.8\n",
       "2. 1.7\n",
       "3. 1.5\n",
       "4. 1.9\n",
       "5. 1.75\n",
       "6. 1.63\n",
       "7. 1.65\n",
       "8. &lt;NA&gt;\n",
       "9. &lt;NA&gt;\n",
       "10. &lt;NA&gt;\n",
       "11. &lt;NA&gt;\n",
       "12. &lt;NA&gt;\n",
       "13. &lt;NA&gt;\n",
       "14. &lt;NA&gt;\n",
       "15. &lt;NA&gt;\n",
       "16. &lt;NA&gt;\n",
       "17. &lt;NA&gt;\n",
       "18. 1.9\n",
       "\n",
       "\n"
      ],
      "text/plain": [
       " [1] 1.80 1.70 1.50 1.90 1.75 1.63 1.65   NA   NA   NA   NA   NA   NA   NA   NA\n",
       "[16]   NA   NA 1.90"
      ]
     },
     "metadata": {},
     "output_type": "display_data"
    }
   ],
   "source": [
    "alturas"
   ]
  },
  {
   "cell_type": "markdown",
   "metadata": {},
   "source": [
    "## Listas"
   ]
  },
  {
   "cell_type": "markdown",
   "metadata": {},
   "source": [
    "Las listas se pueden considerar como vectores que pueden almacenar cualquier tipo de dato."
   ]
  },
  {
   "cell_type": "code",
   "execution_count": 79,
   "metadata": {},
   "outputs": [
    {
     "data": {
      "text/html": [
       "<ol class=list-inline>\n",
       "\t<li>'1'</li>\n",
       "\t<li>'3'</li>\n",
       "\t<li>'catorce'</li>\n",
       "\t<li>'panama'</li>\n",
       "</ol>\n"
      ],
      "text/latex": [
       "\\begin{enumerate*}\n",
       "\\item '1'\n",
       "\\item '3'\n",
       "\\item 'catorce'\n",
       "\\item 'panama'\n",
       "\\end{enumerate*}\n"
      ],
      "text/markdown": [
       "1. '1'\n",
       "2. '3'\n",
       "3. 'catorce'\n",
       "4. 'panama'\n",
       "\n",
       "\n"
      ],
      "text/plain": [
       "[1] \"1\"       \"3\"       \"catorce\" \"panama\" "
      ]
     },
     "metadata": {},
     "output_type": "display_data"
    }
   ],
   "source": [
    "c(1,3,\"catorce\",\"panama\")"
   ]
  },
  {
   "cell_type": "code",
   "execution_count": 80,
   "metadata": {},
   "outputs": [
    {
     "name": "stdout",
     "output_type": "stream",
     "text": [
      "List of 4\n",
      " $ : num 1\n",
      " $ : num 3\n",
      " $ : chr \"catorce\"\n",
      " $ : chr \"panama\"\n"
     ]
    }
   ],
   "source": [
    "myList<-list(1,3,\"catorce\",\"panama\")\n",
    "str(myList)"
   ]
  },
  {
   "cell_type": "code",
   "execution_count": 81,
   "metadata": {},
   "outputs": [
    {
     "data": {
      "text/html": [
       "<ol>\n",
       "\t<li>1</li>\n",
       "\t<li>3</li>\n",
       "\t<li>'catorce'</li>\n",
       "\t<li>'panama'</li>\n",
       "</ol>\n"
      ],
      "text/latex": [
       "\\begin{enumerate}\n",
       "\\item 1\n",
       "\\item 3\n",
       "\\item 'catorce'\n",
       "\\item 'panama'\n",
       "\\end{enumerate}\n"
      ],
      "text/markdown": [
       "1. 1\n",
       "2. 3\n",
       "3. 'catorce'\n",
       "4. 'panama'\n",
       "\n",
       "\n"
      ],
      "text/plain": [
       "[[1]]\n",
       "[1] 1\n",
       "\n",
       "[[2]]\n",
       "[1] 3\n",
       "\n",
       "[[3]]\n",
       "[1] \"catorce\"\n",
       "\n",
       "[[4]]\n",
       "[1] \"panama\"\n"
      ]
     },
     "metadata": {},
     "output_type": "display_data"
    }
   ],
   "source": [
    "myList"
   ]
  },
  {
   "cell_type": "markdown",
   "metadata": {},
   "source": [
    "Podemos asignar un nombre a cada valor"
   ]
  },
  {
   "cell_type": "code",
   "execution_count": 84,
   "metadata": {},
   "outputs": [
    {
     "data": {
      "text/html": [
       "<dl>\n",
       "\t<dt>$nombre</dt>\n",
       "\t\t<dd>'Philip'</dd>\n",
       "\t<dt>$apellido</dt>\n",
       "\t\t<dd>'García'</dd>\n",
       "\t<dt>$teléfono</dt>\n",
       "\t\t<dd>600100100</dd>\n",
       "</dl>\n"
      ],
      "text/latex": [
       "\\begin{description}\n",
       "\\item[\\$nombre] 'Philip'\n",
       "\\item[\\$apellido] 'García'\n",
       "\\item[\\$teléfono] 600100100\n",
       "\\end{description}\n"
      ],
      "text/markdown": [
       "$nombre\n",
       ":   'Philip'\n",
       "$apellido\n",
       ":   'García'\n",
       "$teléfono\n",
       ":   600100100\n",
       "\n",
       "\n"
      ],
      "text/plain": [
       "$nombre\n",
       "[1] \"Philip\"\n",
       "\n",
       "$apellido\n",
       "[1] \"García\"\n",
       "\n",
       "$teléfono\n",
       "[1] 600100100\n"
      ]
     },
     "metadata": {},
     "output_type": "display_data"
    }
   ],
   "source": [
    "datosPersonales<-list(nombre=\"Philip\",\n",
    "                   apellido=\"García\",\n",
    "                   teléfono=600100100)\n",
    "datosPersonales"
   ]
  },
  {
   "cell_type": "code",
   "execution_count": 85,
   "metadata": {},
   "outputs": [
    {
     "name": "stdout",
     "output_type": "stream",
     "text": [
      "List of 3\n",
      " $ nombre  : chr \"Philip\"\n",
      " $ apellido: chr \"García\"\n",
      " $ teléfono: num 6e+08\n"
     ]
    }
   ],
   "source": [
    "str(datosPersonales)"
   ]
  },
  {
   "cell_type": "markdown",
   "metadata": {},
   "source": [
    "### Acceso a elementos"
   ]
  },
  {
   "cell_type": "markdown",
   "metadata": {},
   "source": [
    "Podemos acceder a los distintos elementos utilizando su índice o nombre:"
   ]
  },
  {
   "cell_type": "code",
   "execution_count": 91,
   "metadata": {},
   "outputs": [
    {
     "data": {
      "text/html": [
       "'Philip'"
      ],
      "text/latex": [
       "'Philip'"
      ],
      "text/markdown": [
       "'Philip'"
      ],
      "text/plain": [
       "[1] \"Philip\""
      ]
     },
     "metadata": {},
     "output_type": "display_data"
    }
   ],
   "source": [
    "datosPersonales[[1]]"
   ]
  },
  {
   "cell_type": "code",
   "execution_count": 92,
   "metadata": {},
   "outputs": [
    {
     "data": {
      "text/html": [
       "'Philip'"
      ],
      "text/latex": [
       "'Philip'"
      ],
      "text/markdown": [
       "'Philip'"
      ],
      "text/plain": [
       "[1] \"Philip\""
      ]
     },
     "metadata": {},
     "output_type": "display_data"
    }
   ],
   "source": [
    "datosPersonales[[\"nombre\"]]"
   ]
  },
  {
   "cell_type": "code",
   "execution_count": 99,
   "metadata": {},
   "outputs": [
    {
     "data": {
      "text/plain": [
       "NULL"
      ]
     },
     "metadata": {},
     "output_type": "display_data"
    }
   ],
   "source": [
    "datosPersonales$direccion"
   ]
  },
  {
   "cell_type": "code",
   "execution_count": 100,
   "metadata": {},
   "outputs": [
    {
     "data": {
      "text/html": [
       "TRUE"
      ],
      "text/latex": [
       "TRUE"
      ],
      "text/markdown": [
       "TRUE"
      ],
      "text/plain": [
       "[1] TRUE"
      ]
     },
     "metadata": {},
     "output_type": "display_data"
    }
   ],
   "source": [
    "is.null(datosPersonales[[\"direccion\"]])"
   ]
  },
  {
   "cell_type": "code",
   "execution_count": 105,
   "metadata": {},
   "outputs": [],
   "source": [
    "?is.null"
   ]
  },
  {
   "cell_type": "code",
   "execution_count": 106,
   "metadata": {},
   "outputs": [
    {
     "data": {
      "text/html": [
       "<ol class=list-inline>\n",
       "\t<li>'nombre'</li>\n",
       "\t<li>'apellido'</li>\n",
       "\t<li>'teléfono'</li>\n",
       "</ol>\n"
      ],
      "text/latex": [
       "\\begin{enumerate*}\n",
       "\\item 'nombre'\n",
       "\\item 'apellido'\n",
       "\\item 'teléfono'\n",
       "\\end{enumerate*}\n"
      ],
      "text/markdown": [
       "1. 'nombre'\n",
       "2. 'apellido'\n",
       "3. 'teléfono'\n",
       "\n",
       "\n"
      ],
      "text/plain": [
       "[1] \"nombre\"   \"apellido\" \"teléfono\""
      ]
     },
     "metadata": {},
     "output_type": "display_data"
    }
   ],
   "source": [
    "names(datosPersonales)"
   ]
  },
  {
   "cell_type": "code",
   "execution_count": 107,
   "metadata": {},
   "outputs": [
    {
     "data": {
      "text/html": [
       "<dl>\n",
       "\t<dt>$ciudad</dt>\n",
       "\t\t<dd>'Madrid'</dd>\n",
       "\t<dt>$calle</dt>\n",
       "\t\t<dd>'Desengaño'</dd>\n",
       "\t<dt>$numero</dt>\n",
       "\t\t<dd>21</dd>\n",
       "</dl>\n"
      ],
      "text/latex": [
       "\\begin{description}\n",
       "\\item[\\$ciudad] 'Madrid'\n",
       "\\item[\\$calle] 'Desengaño'\n",
       "\\item[\\$numero] 21\n",
       "\\end{description}\n"
      ],
      "text/markdown": [
       "$ciudad\n",
       ":   'Madrid'\n",
       "$calle\n",
       ":   'Desengaño'\n",
       "$numero\n",
       ":   21\n",
       "\n",
       "\n"
      ],
      "text/plain": [
       "$ciudad\n",
       "[1] \"Madrid\"\n",
       "\n",
       "$calle\n",
       "[1] \"Desengaño\"\n",
       "\n",
       "$numero\n",
       "[1] 21\n"
      ]
     },
     "metadata": {},
     "output_type": "display_data"
    }
   ],
   "source": [
    "datosPersonales[[\"direccion\"]]<-list(ciudad=\"Madrid\",calle=\"Desengaño\",numero=21)\n",
    "datosPersonales[[\"direccion\"]]"
   ]
  },
  {
   "cell_type": "code",
   "execution_count": 108,
   "metadata": {},
   "outputs": [
    {
     "data": {
      "text/html": [
       "<dl>\n",
       "\t<dt>$nombre</dt>\n",
       "\t\t<dd>'Philip'</dd>\n",
       "\t<dt>$apellido</dt>\n",
       "\t\t<dd>'García'</dd>\n",
       "\t<dt>$teléfono</dt>\n",
       "\t\t<dd>600100100</dd>\n",
       "\t<dt>$direccion</dt>\n",
       "\t\t<dd><dl>\n",
       "\t<dt>$ciudad</dt>\n",
       "\t\t<dd>'Madrid'</dd>\n",
       "\t<dt>$calle</dt>\n",
       "\t\t<dd>'Desengaño'</dd>\n",
       "\t<dt>$numero</dt>\n",
       "\t\t<dd>21</dd>\n",
       "</dl>\n",
       "</dd>\n",
       "</dl>\n"
      ],
      "text/latex": [
       "\\begin{description}\n",
       "\\item[\\$nombre] 'Philip'\n",
       "\\item[\\$apellido] 'García'\n",
       "\\item[\\$teléfono] 600100100\n",
       "\\item[\\$direccion] \\begin{description}\n",
       "\\item[\\$ciudad] 'Madrid'\n",
       "\\item[\\$calle] 'Desengaño'\n",
       "\\item[\\$numero] 21\n",
       "\\end{description}\n",
       "\n",
       "\\end{description}\n"
      ],
      "text/markdown": [
       "$nombre\n",
       ":   'Philip'\n",
       "$apellido\n",
       ":   'García'\n",
       "$teléfono\n",
       ":   600100100\n",
       "$direccion\n",
       ":   $ciudad\n",
       ":   'Madrid'\n",
       "$calle\n",
       ":   'Desengaño'\n",
       "$numero\n",
       ":   21\n",
       "\n",
       "\n",
       "\n",
       "\n",
       "\n"
      ],
      "text/plain": [
       "$nombre\n",
       "[1] \"Philip\"\n",
       "\n",
       "$apellido\n",
       "[1] \"García\"\n",
       "\n",
       "$teléfono\n",
       "[1] 600100100\n",
       "\n",
       "$direccion\n",
       "$direccion$ciudad\n",
       "[1] \"Madrid\"\n",
       "\n",
       "$direccion$calle\n",
       "[1] \"Desengaño\"\n",
       "\n",
       "$direccion$numero\n",
       "[1] 21\n",
       "\n"
      ]
     },
     "metadata": {},
     "output_type": "display_data"
    }
   ],
   "source": [
    "datosPersonales"
   ]
  },
  {
   "cell_type": "code",
   "execution_count": 116,
   "metadata": {},
   "outputs": [
    {
     "data": {
      "text/html": [
       "'Desengaño'"
      ],
      "text/latex": [
       "'Desengaño'"
      ],
      "text/markdown": [
       "'Desengaño'"
      ],
      "text/plain": [
       "[1] \"Desengaño\""
      ]
     },
     "metadata": {},
     "output_type": "display_data"
    }
   ],
   "source": [
    "datosPersonales[[\"direccion\"]]$calle"
   ]
  },
  {
   "cell_type": "code",
   "execution_count": 117,
   "metadata": {},
   "outputs": [
    {
     "name": "stdout",
     "output_type": "stream",
     "text": [
      "[1] \"La longitud total de la lista es 4\"\n"
     ]
    }
   ],
   "source": [
    "print(paste(\"La longitud total de la lista es\",length(datosPersonales)))"
   ]
  },
  {
   "cell_type": "code",
   "execution_count": 123,
   "metadata": {},
   "outputs": [
    {
     "name": "stdout",
     "output_type": "stream",
     "text": [
      "[1] \"La longitud del campo dirección 3\"\n"
     ]
    }
   ],
   "source": [
    "print(paste(\"La longitud del campo dirección\",length(datosPersonales$d)))"
   ]
  },
  {
   "cell_type": "markdown",
   "metadata": {},
   "source": [
    "## Factores"
   ]
  },
  {
   "cell_type": "markdown",
   "metadata": {},
   "source": [
    "Útiles cuando trabajamos con variables categóricas. Ej: Población de origen, colores, sabores"
   ]
  },
  {
   "cell_type": "code",
   "execution_count": 125,
   "metadata": {},
   "outputs": [
    {
     "data": {
      "text/plain": [
       "   Length     Class      Mode \n",
       "       11 character character "
      ]
     },
     "metadata": {},
     "output_type": "display_data"
    },
    {
     "data": {
      "text/html": [
       "<dl class=dl-horizontal>\n",
       "\t<dt>Ácido</dt>\n",
       "\t\t<dd>2</dd>\n",
       "\t<dt>Amargo</dt>\n",
       "\t\t<dd>1</dd>\n",
       "\t<dt>Dulce</dt>\n",
       "\t\t<dd>2</dd>\n",
       "\t<dt>Salado</dt>\n",
       "\t\t<dd>3</dd>\n",
       "\t<dt>Umami</dt>\n",
       "\t\t<dd>3</dd>\n",
       "</dl>\n"
      ],
      "text/latex": [
       "\\begin{description*}\n",
       "\\item[Ácido] 2\n",
       "\\item[Amargo] 1\n",
       "\\item[Dulce] 2\n",
       "\\item[Salado] 3\n",
       "\\item[Umami] 3\n",
       "\\end{description*}\n"
      ],
      "text/markdown": [
       "Ácido\n",
       ":   2Amargo\n",
       ":   1Dulce\n",
       ":   2Salado\n",
       ":   3Umami\n",
       ":   3\n",
       "\n"
      ],
      "text/plain": [
       " Ácido Amargo  Dulce Salado  Umami \n",
       "     2      1      2      3      3 "
      ]
     },
     "metadata": {},
     "output_type": "display_data"
    }
   ],
   "source": [
    "saboresDePlatos<-c(\"Dulce\",\"Salado\",\"Ácido\",\"Amargo\",\"Umami\",\"Dulce\",\"Salado\",\"Ácido\",\"Umami\",\"Umami\",\"Salado\")\n",
    "saboresDePlatosFactor<-factor(saboresDePlatos)\n",
    "\n",
    "summary(saboresDePlatos)\n",
    "summary(saboresDePlatosFactor)"
   ]
  },
  {
   "cell_type": "code",
   "execution_count": 126,
   "metadata": {},
   "outputs": [
    {
     "name": "stdout",
     "output_type": "stream",
     "text": [
      " chr [1:11] \"Dulce\" \"Salado\" \"Ácido\" \"Amargo\" \"Umami\" \"Dulce\" \"Salado\" ...\n"
     ]
    }
   ],
   "source": [
    "str(saboresDePlatos)"
   ]
  },
  {
   "cell_type": "code",
   "execution_count": 127,
   "metadata": {},
   "outputs": [
    {
     "name": "stdout",
     "output_type": "stream",
     "text": [
      " Factor w/ 5 levels \"Ácido\",\"Amargo\",..: 3 4 1 2 5 3 4 1 5 5 ...\n"
     ]
    }
   ],
   "source": [
    "str(saboresDePlatosFactor)"
   ]
  },
  {
   "cell_type": "code",
   "execution_count": 128,
   "metadata": {},
   "outputs": [
    {
     "data": {
      "text/html": [
       "<ol class=list-inline>\n",
       "\t<li>Dulce</li>\n",
       "\t<li>Salado</li>\n",
       "\t<li>Ácido</li>\n",
       "\t<li>Amargo</li>\n",
       "\t<li>Umami</li>\n",
       "\t<li>Dulce</li>\n",
       "\t<li>Salado</li>\n",
       "\t<li>Ácido</li>\n",
       "\t<li>Umami</li>\n",
       "\t<li>Umami</li>\n",
       "\t<li>Salado</li>\n",
       "</ol>\n",
       "\n",
       "<details>\n",
       "\t<summary style=display:list-item;cursor:pointer>\n",
       "\t\t<strong>Levels</strong>:\n",
       "\t</summary>\n",
       "\t<ol class=list-inline>\n",
       "\t\t<li>'Ácido'</li>\n",
       "\t\t<li>'Amargo'</li>\n",
       "\t\t<li>'Dulce'</li>\n",
       "\t\t<li>'Salado'</li>\n",
       "\t\t<li>'Umami'</li>\n",
       "\t</ol>\n",
       "</details>"
      ],
      "text/latex": [
       "\\begin{enumerate*}\n",
       "\\item Dulce\n",
       "\\item Salado\n",
       "\\item Ácido\n",
       "\\item Amargo\n",
       "\\item Umami\n",
       "\\item Dulce\n",
       "\\item Salado\n",
       "\\item Ácido\n",
       "\\item Umami\n",
       "\\item Umami\n",
       "\\item Salado\n",
       "\\end{enumerate*}\n",
       "\n",
       "\\emph{Levels}: \\begin{enumerate*}\n",
       "\\item 'Ácido'\n",
       "\\item 'Amargo'\n",
       "\\item 'Dulce'\n",
       "\\item 'Salado'\n",
       "\\item 'Umami'\n",
       "\\end{enumerate*}\n"
      ],
      "text/markdown": [
       "1. Dulce\n",
       "2. Salado\n",
       "3. Ácido\n",
       "4. Amargo\n",
       "5. Umami\n",
       "6. Dulce\n",
       "7. Salado\n",
       "8. Ácido\n",
       "9. Umami\n",
       "10. Umami\n",
       "11. Salado\n",
       "\n",
       "\n",
       "\n",
       "**Levels**: 1. 'Ácido'\n",
       "2. 'Amargo'\n",
       "3. 'Dulce'\n",
       "4. 'Salado'\n",
       "5. 'Umami'\n",
       "\n",
       "\n"
      ],
      "text/plain": [
       " [1] Dulce  Salado Ácido  Amargo Umami  Dulce  Salado Ácido  Umami  Umami \n",
       "[11] Salado\n",
       "Levels: Ácido Amargo Dulce Salado Umami"
      ]
     },
     "metadata": {},
     "output_type": "display_data"
    }
   ],
   "source": [
    "saboresDePlatosFactor"
   ]
  },
  {
   "cell_type": "code",
   "execution_count": 132,
   "metadata": {},
   "outputs": [
    {
     "name": "stdout",
     "output_type": "stream",
     "text": [
      "[1] \"Los factores internamente se gestionan como enteros\"\n"
     ]
    },
    {
     "data": {
      "text/html": [
       "<ol class=list-inline>\n",
       "\t<li>3</li>\n",
       "\t<li>4</li>\n",
       "\t<li>1</li>\n",
       "\t<li>2</li>\n",
       "\t<li>5</li>\n",
       "\t<li>3</li>\n",
       "\t<li>4</li>\n",
       "\t<li>1</li>\n",
       "\t<li>5</li>\n",
       "\t<li>5</li>\n",
       "\t<li>4</li>\n",
       "</ol>\n"
      ],
      "text/latex": [
       "\\begin{enumerate*}\n",
       "\\item 3\n",
       "\\item 4\n",
       "\\item 1\n",
       "\\item 2\n",
       "\\item 5\n",
       "\\item 3\n",
       "\\item 4\n",
       "\\item 1\n",
       "\\item 5\n",
       "\\item 5\n",
       "\\item 4\n",
       "\\end{enumerate*}\n"
      ],
      "text/markdown": [
       "1. 3\n",
       "2. 4\n",
       "3. 1\n",
       "4. 2\n",
       "5. 5\n",
       "6. 3\n",
       "7. 4\n",
       "8. 1\n",
       "9. 5\n",
       "10. 5\n",
       "11. 4\n",
       "\n",
       "\n"
      ],
      "text/plain": [
       " [1] 3 4 1 2 5 3 4 1 5 5 4"
      ]
     },
     "metadata": {},
     "output_type": "display_data"
    }
   ],
   "source": [
    "print(\"Los factores internamente se gestionan como enteros\")\n",
    "as.numeric(saboresDePlatosFactor)"
   ]
  },
  {
   "cell_type": "code",
   "execution_count": 139,
   "metadata": {},
   "outputs": [
    {
     "data": {
      "text/html": [
       "<ol class=list-inline>\n",
       "\t<li>'Ácido'</li>\n",
       "\t<li>'Amargo'</li>\n",
       "\t<li>'Dulce'</li>\n",
       "\t<li>'Salado'</li>\n",
       "\t<li>'Umami'</li>\n",
       "</ol>\n"
      ],
      "text/latex": [
       "\\begin{enumerate*}\n",
       "\\item 'Ácido'\n",
       "\\item 'Amargo'\n",
       "\\item 'Dulce'\n",
       "\\item 'Salado'\n",
       "\\item 'Umami'\n",
       "\\end{enumerate*}\n"
      ],
      "text/markdown": [
       "1. 'Ácido'\n",
       "2. 'Amargo'\n",
       "3. 'Dulce'\n",
       "4. 'Salado'\n",
       "5. 'Umami'\n",
       "\n",
       "\n"
      ],
      "text/plain": [
       "[1] \"Ácido\"  \"Amargo\" \"Dulce\"  \"Salado\" \"Umami\" "
      ]
     },
     "metadata": {},
     "output_type": "display_data"
    }
   ],
   "source": [
    "levels(saboresDePlatosFactor)"
   ]
  },
  {
   "cell_type": "code",
   "execution_count": 130,
   "metadata": {},
   "outputs": [
    {
     "data": {
      "text/html": [
       "<ol class=list-inline>\n",
       "\t<li>'sabor: Ácido'</li>\n",
       "\t<li>'sabor: Amargo'</li>\n",
       "\t<li>'sabor: Dulce'</li>\n",
       "\t<li>'sabor: Salado'</li>\n",
       "\t<li>'sabor: Umami'</li>\n",
       "</ol>\n"
      ],
      "text/latex": [
       "\\begin{enumerate*}\n",
       "\\item 'sabor: Ácido'\n",
       "\\item 'sabor: Amargo'\n",
       "\\item 'sabor: Dulce'\n",
       "\\item 'sabor: Salado'\n",
       "\\item 'sabor: Umami'\n",
       "\\end{enumerate*}\n"
      ],
      "text/markdown": [
       "1. 'sabor: Ácido'\n",
       "2. 'sabor: Amargo'\n",
       "3. 'sabor: Dulce'\n",
       "4. 'sabor: Salado'\n",
       "5. 'sabor: Umami'\n",
       "\n",
       "\n"
      ],
      "text/plain": [
       "[1] \"sabor: Ácido\"  \"sabor: Amargo\" \"sabor: Dulce\"  \"sabor: Salado\"\n",
       "[5] \"sabor: Umami\" "
      ]
     },
     "metadata": {},
     "output_type": "display_data"
    }
   ],
   "source": [
    "paste(\"sabor:\",levels(saboresDePlatosFactor))"
   ]
  },
  {
   "cell_type": "code",
   "execution_count": 146,
   "metadata": {},
   "outputs": [
    {
     "data": {
      "text/html": [
       "'texto1----texto2----texto4'"
      ],
      "text/latex": [
       "'texto1----texto2----texto4'"
      ],
      "text/markdown": [
       "'texto1----texto2----texto4'"
      ],
      "text/plain": [
       "[1] \"texto1----texto2----texto4\""
      ]
     },
     "metadata": {},
     "output_type": "display_data"
    },
    {
     "data": {
      "text/html": [
       "'texto1----texto2----texto4'"
      ],
      "text/latex": [
       "'texto1----texto2----texto4'"
      ],
      "text/markdown": [
       "'texto1----texto2----texto4'"
      ],
      "text/plain": [
       "[1] \"texto1----texto2----texto4\""
      ]
     },
     "metadata": {},
     "output_type": "display_data"
    }
   ],
   "source": [
    "paste(\"texto1\",\"texto2\",\"texto4\",sep=\"----\")\n",
    "paste(c(\"texto1\",\"texto2\",\"texto4\"),collapse=\"----\")"
   ]
  },
  {
   "cell_type": "code",
   "execution_count": 140,
   "metadata": {},
   "outputs": [
    {
     "name": "stdout",
     "output_type": "stream",
     "text": [
      "[1] \"Podemos ver los niveles con el comando levels: Ácido,Amargo,Dulce,Salado,Umami\"\n"
     ]
    }
   ],
   "source": [
    "print(paste(\"Podemos ver los niveles con el comando levels:\",\n",
    "            paste(levels(saboresDePlatosFactor),collapse=\",\")))"
   ]
  },
  {
   "cell_type": "code",
   "execution_count": 149,
   "metadata": {},
   "outputs": [
    {
     "data": {
      "text/html": [
       "<ol class=list-inline>\n",
       "\t<li>SI</li>\n",
       "\t<li>NO</li>\n",
       "\t<li>NO</li>\n",
       "\t<li>SI</li>\n",
       "\t<li>NO</li>\n",
       "\t<li>SI</li>\n",
       "</ol>\n",
       "\n",
       "<details>\n",
       "\t<summary style=display:list-item;cursor:pointer>\n",
       "\t\t<strong>Levels</strong>:\n",
       "\t</summary>\n",
       "\t<ol class=list-inline>\n",
       "\t\t<li>'NO'</li>\n",
       "\t\t<li>'SI'</li>\n",
       "\t</ol>\n",
       "</details>"
      ],
      "text/latex": [
       "\\begin{enumerate*}\n",
       "\\item SI\n",
       "\\item NO\n",
       "\\item NO\n",
       "\\item SI\n",
       "\\item NO\n",
       "\\item SI\n",
       "\\end{enumerate*}\n",
       "\n",
       "\\emph{Levels}: \\begin{enumerate*}\n",
       "\\item 'NO'\n",
       "\\item 'SI'\n",
       "\\end{enumerate*}\n"
      ],
      "text/markdown": [
       "1. SI\n",
       "2. NO\n",
       "3. NO\n",
       "4. SI\n",
       "5. NO\n",
       "6. SI\n",
       "\n",
       "\n",
       "\n",
       "**Levels**: 1. 'NO'\n",
       "2. 'SI'\n",
       "\n",
       "\n"
      ],
      "text/plain": [
       "[1] SI NO NO SI NO SI\n",
       "Levels: NO SI"
      ]
     },
     "metadata": {},
     "output_type": "display_data"
    }
   ],
   "source": [
    "factor(c(1,0,0,1,0,1),labels=c(\"NO\",\"SI\"))"
   ]
  },
  {
   "cell_type": "code",
   "execution_count": 134,
   "metadata": {},
   "outputs": [
    {
     "data": {
      "text/html": [
       "<ol class=list-inline>\n",
       "\t<li>ALTO</li>\n",
       "\t<li>MEDIO</li>\n",
       "\t<li>MEDIO</li>\n",
       "\t<li>BAJO</li>\n",
       "\t<li>MEDIO</li>\n",
       "\t<li>BAJO</li>\n",
       "</ol>\n",
       "\n",
       "<details>\n",
       "\t<summary style=display:list-item;cursor:pointer>\n",
       "\t\t<strong>Levels</strong>:\n",
       "\t</summary>\n",
       "\t<ol class=list-inline>\n",
       "\t\t<li>'BAJO'</li>\n",
       "\t\t<li>'MEDIO'</li>\n",
       "\t\t<li>'ALTO'</li>\n",
       "\t</ol>\n",
       "</details>"
      ],
      "text/latex": [
       "\\begin{enumerate*}\n",
       "\\item ALTO\n",
       "\\item MEDIO\n",
       "\\item MEDIO\n",
       "\\item BAJO\n",
       "\\item MEDIO\n",
       "\\item BAJO\n",
       "\\end{enumerate*}\n",
       "\n",
       "\\emph{Levels}: \\begin{enumerate*}\n",
       "\\item 'BAJO'\n",
       "\\item 'MEDIO'\n",
       "\\item 'ALTO'\n",
       "\\end{enumerate*}\n"
      ],
      "text/markdown": [
       "1. ALTO\n",
       "2. MEDIO\n",
       "3. MEDIO\n",
       "4. BAJO\n",
       "5. MEDIO\n",
       "6. BAJO\n",
       "\n",
       "\n",
       "\n",
       "**Levels**: 1. 'BAJO'\n",
       "2. 'MEDIO'\n",
       "3. 'ALTO'\n",
       "\n",
       "\n"
      ],
      "text/plain": [
       "[1] ALTO  MEDIO MEDIO BAJO  MEDIO BAJO \n",
       "Levels: BAJO MEDIO ALTO"
      ]
     },
     "metadata": {},
     "output_type": "display_data"
    }
   ],
   "source": [
    "s<-factor(c(10,5,5,0,5,0),labels=c(\"BAJO\",\"MEDIO\",\"ALTO\"))\n",
    "s"
   ]
  },
  {
   "cell_type": "code",
   "execution_count": 135,
   "metadata": {},
   "outputs": [
    {
     "data": {
      "text/html": [
       "<ol class=list-inline>\n",
       "\t<li>3</li>\n",
       "\t<li>2</li>\n",
       "\t<li>2</li>\n",
       "\t<li>1</li>\n",
       "\t<li>2</li>\n",
       "\t<li>1</li>\n",
       "</ol>\n"
      ],
      "text/latex": [
       "\\begin{enumerate*}\n",
       "\\item 3\n",
       "\\item 2\n",
       "\\item 2\n",
       "\\item 1\n",
       "\\item 2\n",
       "\\item 1\n",
       "\\end{enumerate*}\n"
      ],
      "text/markdown": [
       "1. 3\n",
       "2. 2\n",
       "3. 2\n",
       "4. 1\n",
       "5. 2\n",
       "6. 1\n",
       "\n",
       "\n"
      ],
      "text/plain": [
       "[1] 3 2 2 1 2 1"
      ]
     },
     "metadata": {},
     "output_type": "display_data"
    }
   ],
   "source": [
    "as.numeric(s)"
   ]
  },
  {
   "cell_type": "markdown",
   "metadata": {},
   "source": [
    "# Matrices"
   ]
  },
  {
   "cell_type": "markdown",
   "metadata": {},
   "source": [
    "Podemos crear matrices con la función matrix. Como parámetros de entrada recibe un vector y el número de columnas (*ncol*) o filas (nrow). Un parámetro opcional (*byrow*) indica si la matriz se va a rellenar por filas o por columnas (valor por defecto)"
   ]
  },
  {
   "cell_type": "code",
   "execution_count": 151,
   "metadata": {},
   "outputs": [
    {
     "data": {
      "text/html": [
       "<ol class=list-inline>\n",
       "\t<li>1</li>\n",
       "\t<li>2</li>\n",
       "\t<li>3</li>\n",
       "\t<li>4</li>\n",
       "\t<li>5</li>\n",
       "\t<li>6</li>\n",
       "\t<li>7</li>\n",
       "\t<li>8</li>\n",
       "\t<li>9</li>\n",
       "\t<li>10</li>\n",
       "\t<li>11</li>\n",
       "\t<li>12</li>\n",
       "</ol>\n"
      ],
      "text/latex": [
       "\\begin{enumerate*}\n",
       "\\item 1\n",
       "\\item 2\n",
       "\\item 3\n",
       "\\item 4\n",
       "\\item 5\n",
       "\\item 6\n",
       "\\item 7\n",
       "\\item 8\n",
       "\\item 9\n",
       "\\item 10\n",
       "\\item 11\n",
       "\\item 12\n",
       "\\end{enumerate*}\n"
      ],
      "text/markdown": [
       "1. 1\n",
       "2. 2\n",
       "3. 3\n",
       "4. 4\n",
       "5. 5\n",
       "6. 6\n",
       "7. 7\n",
       "8. 8\n",
       "9. 9\n",
       "10. 10\n",
       "11. 11\n",
       "12. 12\n",
       "\n",
       "\n"
      ],
      "text/plain": [
       " [1]  1  2  3  4  5  6  7  8  9 10 11 12"
      ]
     },
     "metadata": {},
     "output_type": "display_data"
    }
   ],
   "source": [
    "c(1:12)"
   ]
  },
  {
   "cell_type": "code",
   "execution_count": 155,
   "metadata": {},
   "outputs": [
    {
     "data": {
      "text/html": [
       "<table>\n",
       "<caption>A matrix: 4 × 3 of type int</caption>\n",
       "<tbody>\n",
       "\t<tr><td>1</td><td>5</td><td> 9</td></tr>\n",
       "\t<tr><td>2</td><td>6</td><td>10</td></tr>\n",
       "\t<tr><td>3</td><td>7</td><td>11</td></tr>\n",
       "\t<tr><td>4</td><td>8</td><td>12</td></tr>\n",
       "</tbody>\n",
       "</table>\n"
      ],
      "text/latex": [
       "A matrix: 4 × 3 of type int\n",
       "\\begin{tabular}{lll}\n",
       "\t 1 & 5 &  9\\\\\n",
       "\t 2 & 6 & 10\\\\\n",
       "\t 3 & 7 & 11\\\\\n",
       "\t 4 & 8 & 12\\\\\n",
       "\\end{tabular}\n"
      ],
      "text/markdown": [
       "\n",
       "A matrix: 4 × 3 of type int\n",
       "\n",
       "| 1 | 5 |  9 |\n",
       "| 2 | 6 | 10 |\n",
       "| 3 | 7 | 11 |\n",
       "| 4 | 8 | 12 |\n",
       "\n"
      ],
      "text/plain": [
       "     [,1] [,2] [,3]\n",
       "[1,] 1    5     9  \n",
       "[2,] 2    6    10  \n",
       "[3,] 3    7    11  \n",
       "[4,] 4    8    12  "
      ]
     },
     "metadata": {},
     "output_type": "display_data"
    }
   ],
   "source": [
    "m1<-matrix(c(1:12),ncol=3)\n",
    "m1"
   ]
  },
  {
   "cell_type": "code",
   "execution_count": 156,
   "metadata": {},
   "outputs": [],
   "source": [
    "?matrix"
   ]
  },
  {
   "cell_type": "code",
   "execution_count": 165,
   "metadata": {},
   "outputs": [
    {
     "data": {
      "text/html": [
       "<table>\n",
       "<caption>A matrix: 4 × 3 of type int</caption>\n",
       "<tbody>\n",
       "\t<tr><td> 1</td><td> 2</td><td> 3</td></tr>\n",
       "\t<tr><td> 4</td><td> 5</td><td> 6</td></tr>\n",
       "\t<tr><td> 7</td><td> 8</td><td> 9</td></tr>\n",
       "\t<tr><td>10</td><td>11</td><td>12</td></tr>\n",
       "</tbody>\n",
       "</table>\n"
      ],
      "text/latex": [
       "A matrix: 4 × 3 of type int\n",
       "\\begin{tabular}{lll}\n",
       "\t  1 &  2 &  3\\\\\n",
       "\t  4 &  5 &  6\\\\\n",
       "\t  7 &  8 &  9\\\\\n",
       "\t 10 & 11 & 12\\\\\n",
       "\\end{tabular}\n"
      ],
      "text/markdown": [
       "\n",
       "A matrix: 4 × 3 of type int\n",
       "\n",
       "|  1 |  2 |  3 |\n",
       "|  4 |  5 |  6 |\n",
       "|  7 |  8 |  9 |\n",
       "| 10 | 11 | 12 |\n",
       "\n"
      ],
      "text/plain": [
       "     [,1] [,2] [,3]\n",
       "[1,]  1    2    3  \n",
       "[2,]  4    5    6  \n",
       "[3,]  7    8    9  \n",
       "[4,] 10   11   12  "
      ]
     },
     "metadata": {},
     "output_type": "display_data"
    }
   ],
   "source": [
    "m2<-matrix(c(1:12),ncol=3,byrow=T)\n",
    "m2"
   ]
  },
  {
   "cell_type": "markdown",
   "metadata": {},
   "source": [
    "La dimensión del array se puede ver con la función *dim()* o con *str()*"
   ]
  },
  {
   "cell_type": "code",
   "execution_count": 158,
   "metadata": {},
   "outputs": [
    {
     "data": {
      "text/html": [
       "<ol class=list-inline>\n",
       "\t<li>4</li>\n",
       "\t<li>3</li>\n",
       "</ol>\n"
      ],
      "text/latex": [
       "\\begin{enumerate*}\n",
       "\\item 4\n",
       "\\item 3\n",
       "\\end{enumerate*}\n"
      ],
      "text/markdown": [
       "1. 4\n",
       "2. 3\n",
       "\n",
       "\n"
      ],
      "text/plain": [
       "[1] 4 3"
      ]
     },
     "metadata": {},
     "output_type": "display_data"
    }
   ],
   "source": [
    "dim(m1)"
   ]
  },
  {
   "cell_type": "code",
   "execution_count": 159,
   "metadata": {},
   "outputs": [
    {
     "data": {
      "text/html": [
       "12"
      ],
      "text/latex": [
       "12"
      ],
      "text/markdown": [
       "12"
      ],
      "text/plain": [
       "[1] 12"
      ]
     },
     "metadata": {},
     "output_type": "display_data"
    }
   ],
   "source": [
    "length(m1)"
   ]
  },
  {
   "cell_type": "code",
   "execution_count": 160,
   "metadata": {},
   "outputs": [
    {
     "name": "stdout",
     "output_type": "stream",
     "text": [
      " int [1:4, 1:3] 1 4 7 10 2 5 8 11 3 6 ...\n"
     ]
    }
   ],
   "source": [
    "str(m2)"
   ]
  },
  {
   "cell_type": "markdown",
   "metadata": {},
   "source": [
    "### Acceso"
   ]
  },
  {
   "cell_type": "markdown",
   "metadata": {},
   "source": [
    "El acceso se realiza igual que los vectores, pero aquí tenemos dos dimensiones."
   ]
  },
  {
   "cell_type": "code",
   "execution_count": 167,
   "metadata": {},
   "outputs": [
    {
     "data": {
      "text/html": [
       "10"
      ],
      "text/latex": [
       "10"
      ],
      "text/markdown": [
       "10"
      ],
      "text/plain": [
       "[1] 10"
      ]
     },
     "metadata": {},
     "output_type": "display_data"
    }
   ],
   "source": [
    "m1[2,3]"
   ]
  },
  {
   "cell_type": "markdown",
   "metadata": {},
   "source": [
    "También podemos dar nombres a las filas y columnas para luego poder acceder utilizando el nombre"
   ]
  },
  {
   "cell_type": "code",
   "execution_count": 168,
   "metadata": {},
   "outputs": [],
   "source": [
    "?paste0"
   ]
  },
  {
   "cell_type": "code",
   "execution_count": 170,
   "metadata": {},
   "outputs": [
    {
     "data": {
      "text/html": [
       "'text1text2'"
      ],
      "text/latex": [
       "'text1text2'"
      ],
      "text/markdown": [
       "'text1text2'"
      ],
      "text/plain": [
       "[1] \"text1text2\""
      ]
     },
     "metadata": {},
     "output_type": "display_data"
    },
    {
     "data": {
      "text/html": [
       "'text1text2'"
      ],
      "text/latex": [
       "'text1text2'"
      ],
      "text/markdown": [
       "'text1text2'"
      ],
      "text/plain": [
       "[1] \"text1text2\""
      ]
     },
     "metadata": {},
     "output_type": "display_data"
    }
   ],
   "source": [
    "paste0(\"text1\",\"text2\")\n",
    "paste(\"text1\",\"text2\",sep=\"\")"
   ]
  },
  {
   "cell_type": "code",
   "execution_count": 171,
   "metadata": {},
   "outputs": [
    {
     "data": {
      "text/html": [
       "<ol class=list-inline>\n",
       "\t<li>'row1'</li>\n",
       "\t<li>'row2'</li>\n",
       "\t<li>'row3'</li>\n",
       "\t<li>'row4'</li>\n",
       "</ol>\n"
      ],
      "text/latex": [
       "\\begin{enumerate*}\n",
       "\\item 'row1'\n",
       "\\item 'row2'\n",
       "\\item 'row3'\n",
       "\\item 'row4'\n",
       "\\end{enumerate*}\n"
      ],
      "text/markdown": [
       "1. 'row1'\n",
       "2. 'row2'\n",
       "3. 'row3'\n",
       "4. 'row4'\n",
       "\n",
       "\n"
      ],
      "text/plain": [
       "[1] \"row1\" \"row2\" \"row3\" \"row4\""
      ]
     },
     "metadata": {},
     "output_type": "display_data"
    }
   ],
   "source": [
    "paste0(\"row\",1:4)"
   ]
  },
  {
   "cell_type": "code",
   "execution_count": 172,
   "metadata": {},
   "outputs": [
    {
     "data": {
      "text/html": [
       "<table>\n",
       "<caption>A matrix: 4 × 3 of type int</caption>\n",
       "<thead>\n",
       "\t<tr><th></th><th scope=col>col1</th><th scope=col>col2</th><th scope=col>col3</th></tr>\n",
       "</thead>\n",
       "<tbody>\n",
       "\t<tr><th scope=row>row1</th><td>1</td><td>5</td><td> 9</td></tr>\n",
       "\t<tr><th scope=row>row2</th><td>2</td><td>6</td><td>10</td></tr>\n",
       "\t<tr><th scope=row>row3</th><td>3</td><td>7</td><td>11</td></tr>\n",
       "\t<tr><th scope=row>row4</th><td>4</td><td>8</td><td>12</td></tr>\n",
       "</tbody>\n",
       "</table>\n"
      ],
      "text/latex": [
       "A matrix: 4 × 3 of type int\n",
       "\\begin{tabular}{r|lll}\n",
       "  & col1 & col2 & col3\\\\\n",
       "\\hline\n",
       "\trow1 & 1 & 5 &  9\\\\\n",
       "\trow2 & 2 & 6 & 10\\\\\n",
       "\trow3 & 3 & 7 & 11\\\\\n",
       "\trow4 & 4 & 8 & 12\\\\\n",
       "\\end{tabular}\n"
      ],
      "text/markdown": [
       "\n",
       "A matrix: 4 × 3 of type int\n",
       "\n",
       "| <!--/--> | col1 | col2 | col3 |\n",
       "|---|---|---|---|\n",
       "| row1 | 1 | 5 |  9 |\n",
       "| row2 | 2 | 6 | 10 |\n",
       "| row3 | 3 | 7 | 11 |\n",
       "| row4 | 4 | 8 | 12 |\n",
       "\n"
      ],
      "text/plain": [
       "     col1 col2 col3\n",
       "row1 1    5     9  \n",
       "row2 2    6    10  \n",
       "row3 3    7    11  \n",
       "row4 4    8    12  "
      ]
     },
     "metadata": {},
     "output_type": "display_data"
    }
   ],
   "source": [
    "colnames(m1)<-paste0(\"col\",1:3)\n",
    "rownames(m1)<-paste0(\"row\",1:4)\n",
    "m1"
   ]
  },
  {
   "cell_type": "code",
   "execution_count": 181,
   "metadata": {},
   "outputs": [
    {
     "data": {
      "text/html": [
       "'El valor de \"row1\" y \\'col3\\' es: 9'"
      ],
      "text/latex": [
       "'El valor de \"row1\" y \\textbackslash{}'col3\\textbackslash{}' es: 9'"
      ],
      "text/markdown": [
       "'El valor de \"row1\" y \\'col3\\' es: 9'"
      ],
      "text/plain": [
       "[1] \"El valor de \\\"row1\\\" y 'col3' es: 9\""
      ]
     },
     "metadata": {},
     "output_type": "display_data"
    },
    {
     "data": {
      "text/html": [
       "'El valor de \"row1\" y \\'col3\\' es: 9'"
      ],
      "text/latex": [
       "'El valor de \"row1\" y \\textbackslash{}'col3\\textbackslash{}' es: 9'"
      ],
      "text/markdown": [
       "'El valor de \"row1\" y \\'col3\\' es: 9'"
      ],
      "text/plain": [
       "[1] \"El valor de \\\"row1\\\" y 'col3' es: 9\""
      ]
     },
     "metadata": {},
     "output_type": "display_data"
    }
   ],
   "source": [
    "paste(\"El valor de \\\"row1\\\" y 'col3' es:\",m1[\"row1\",\"col3\"])\n",
    "paste('El valor de \"row1\" y \\'col3\\' es:',m1[1,3])"
   ]
  },
  {
   "cell_type": "markdown",
   "metadata": {},
   "source": [
    "Las funciones *colnames* y *rownames* "
   ]
  },
  {
   "cell_type": "code",
   "execution_count": 175,
   "metadata": {},
   "outputs": [
    {
     "data": {
      "text/html": [
       "<ol class=list-inline>\n",
       "\t<li>'row1'</li>\n",
       "\t<li>'row2'</li>\n",
       "\t<li>'row3'</li>\n",
       "\t<li>'row4'</li>\n",
       "</ol>\n"
      ],
      "text/latex": [
       "\\begin{enumerate*}\n",
       "\\item 'row1'\n",
       "\\item 'row2'\n",
       "\\item 'row3'\n",
       "\\item 'row4'\n",
       "\\end{enumerate*}\n"
      ],
      "text/markdown": [
       "1. 'row1'\n",
       "2. 'row2'\n",
       "3. 'row3'\n",
       "4. 'row4'\n",
       "\n",
       "\n"
      ],
      "text/plain": [
       "[1] \"row1\" \"row2\" \"row3\" \"row4\""
      ]
     },
     "metadata": {},
     "output_type": "display_data"
    }
   ],
   "source": [
    "rownames(m1)"
   ]
  },
  {
   "cell_type": "code",
   "execution_count": 176,
   "metadata": {},
   "outputs": [
    {
     "data": {
      "text/html": [
       "<ol class=list-inline>\n",
       "\t<li>'col1'</li>\n",
       "\t<li>'col2'</li>\n",
       "\t<li>'col3'</li>\n",
       "</ol>\n"
      ],
      "text/latex": [
       "\\begin{enumerate*}\n",
       "\\item 'col1'\n",
       "\\item 'col2'\n",
       "\\item 'col3'\n",
       "\\end{enumerate*}\n"
      ],
      "text/markdown": [
       "1. 'col1'\n",
       "2. 'col2'\n",
       "3. 'col3'\n",
       "\n",
       "\n"
      ],
      "text/plain": [
       "[1] \"col1\" \"col2\" \"col3\""
      ]
     },
     "metadata": {},
     "output_type": "display_data"
    }
   ],
   "source": [
    "colnames(m1)"
   ]
  },
  {
   "cell_type": "markdown",
   "metadata": {},
   "source": [
    "### Operaciones con matrices \n",
    "#### Álgebra lineal básica"
   ]
  },
  {
   "cell_type": "code",
   "execution_count": 182,
   "metadata": {},
   "outputs": [
    {
     "data": {
      "text/html": [
       "<table>\n",
       "<caption>A matrix: 4 × 3 of type int</caption>\n",
       "<thead>\n",
       "\t<tr><th></th><th scope=col>col1</th><th scope=col>col2</th><th scope=col>col3</th></tr>\n",
       "</thead>\n",
       "<tbody>\n",
       "\t<tr><th scope=row>row1</th><td>1</td><td>5</td><td> 9</td></tr>\n",
       "\t<tr><th scope=row>row2</th><td>2</td><td>6</td><td>10</td></tr>\n",
       "\t<tr><th scope=row>row3</th><td>3</td><td>7</td><td>11</td></tr>\n",
       "\t<tr><th scope=row>row4</th><td>4</td><td>8</td><td>12</td></tr>\n",
       "</tbody>\n",
       "</table>\n"
      ],
      "text/latex": [
       "A matrix: 4 × 3 of type int\n",
       "\\begin{tabular}{r|lll}\n",
       "  & col1 & col2 & col3\\\\\n",
       "\\hline\n",
       "\trow1 & 1 & 5 &  9\\\\\n",
       "\trow2 & 2 & 6 & 10\\\\\n",
       "\trow3 & 3 & 7 & 11\\\\\n",
       "\trow4 & 4 & 8 & 12\\\\\n",
       "\\end{tabular}\n"
      ],
      "text/markdown": [
       "\n",
       "A matrix: 4 × 3 of type int\n",
       "\n",
       "| <!--/--> | col1 | col2 | col3 |\n",
       "|---|---|---|---|\n",
       "| row1 | 1 | 5 |  9 |\n",
       "| row2 | 2 | 6 | 10 |\n",
       "| row3 | 3 | 7 | 11 |\n",
       "| row4 | 4 | 8 | 12 |\n",
       "\n"
      ],
      "text/plain": [
       "     col1 col2 col3\n",
       "row1 1    5     9  \n",
       "row2 2    6    10  \n",
       "row3 3    7    11  \n",
       "row4 4    8    12  "
      ]
     },
     "metadata": {},
     "output_type": "display_data"
    }
   ],
   "source": [
    "m1"
   ]
  },
  {
   "cell_type": "markdown",
   "metadata": {},
   "source": [
    "Transpuesta"
   ]
  },
  {
   "cell_type": "code",
   "execution_count": 183,
   "metadata": {},
   "outputs": [
    {
     "data": {
      "text/html": [
       "<table>\n",
       "<caption>A matrix: 3 × 4 of type int</caption>\n",
       "<thead>\n",
       "\t<tr><th></th><th scope=col>row1</th><th scope=col>row2</th><th scope=col>row3</th><th scope=col>row4</th></tr>\n",
       "</thead>\n",
       "<tbody>\n",
       "\t<tr><th scope=row>col1</th><td>1</td><td> 2</td><td> 3</td><td> 4</td></tr>\n",
       "\t<tr><th scope=row>col2</th><td>5</td><td> 6</td><td> 7</td><td> 8</td></tr>\n",
       "\t<tr><th scope=row>col3</th><td>9</td><td>10</td><td>11</td><td>12</td></tr>\n",
       "</tbody>\n",
       "</table>\n"
      ],
      "text/latex": [
       "A matrix: 3 × 4 of type int\n",
       "\\begin{tabular}{r|llll}\n",
       "  & row1 & row2 & row3 & row4\\\\\n",
       "\\hline\n",
       "\tcol1 & 1 &  2 &  3 &  4\\\\\n",
       "\tcol2 & 5 &  6 &  7 &  8\\\\\n",
       "\tcol3 & 9 & 10 & 11 & 12\\\\\n",
       "\\end{tabular}\n"
      ],
      "text/markdown": [
       "\n",
       "A matrix: 3 × 4 of type int\n",
       "\n",
       "| <!--/--> | row1 | row2 | row3 | row4 |\n",
       "|---|---|---|---|---|\n",
       "| col1 | 1 |  2 |  3 |  4 |\n",
       "| col2 | 5 |  6 |  7 |  8 |\n",
       "| col3 | 9 | 10 | 11 | 12 |\n",
       "\n"
      ],
      "text/plain": [
       "     row1 row2 row3 row4\n",
       "col1 1     2    3    4  \n",
       "col2 5     6    7    8  \n",
       "col3 9    10   11   12  "
      ]
     },
     "metadata": {},
     "output_type": "display_data"
    }
   ],
   "source": [
    "t(m1)"
   ]
  },
  {
   "cell_type": "markdown",
   "metadata": {},
   "source": [
    "Suma de constante"
   ]
  },
  {
   "cell_type": "code",
   "execution_count": 186,
   "metadata": {},
   "outputs": [
    {
     "data": {
      "text/html": [
       "<table>\n",
       "<caption>A matrix: 4 × 3 of type dbl</caption>\n",
       "<thead>\n",
       "\t<tr><th></th><th scope=col>col1</th><th scope=col>col2</th><th scope=col>col3</th></tr>\n",
       "</thead>\n",
       "<tbody>\n",
       "\t<tr><th scope=row>row1</th><td>11</td><td>15</td><td>19</td></tr>\n",
       "\t<tr><th scope=row>row2</th><td>12</td><td>16</td><td>20</td></tr>\n",
       "\t<tr><th scope=row>row3</th><td>13</td><td>17</td><td>21</td></tr>\n",
       "\t<tr><th scope=row>row4</th><td>14</td><td>18</td><td>22</td></tr>\n",
       "</tbody>\n",
       "</table>\n"
      ],
      "text/latex": [
       "A matrix: 4 × 3 of type dbl\n",
       "\\begin{tabular}{r|lll}\n",
       "  & col1 & col2 & col3\\\\\n",
       "\\hline\n",
       "\trow1 & 11 & 15 & 19\\\\\n",
       "\trow2 & 12 & 16 & 20\\\\\n",
       "\trow3 & 13 & 17 & 21\\\\\n",
       "\trow4 & 14 & 18 & 22\\\\\n",
       "\\end{tabular}\n"
      ],
      "text/markdown": [
       "\n",
       "A matrix: 4 × 3 of type dbl\n",
       "\n",
       "| <!--/--> | col1 | col2 | col3 |\n",
       "|---|---|---|---|\n",
       "| row1 | 11 | 15 | 19 |\n",
       "| row2 | 12 | 16 | 20 |\n",
       "| row3 | 13 | 17 | 21 |\n",
       "| row4 | 14 | 18 | 22 |\n",
       "\n"
      ],
      "text/plain": [
       "     col1 col2 col3\n",
       "row1 11   15   19  \n",
       "row2 12   16   20  \n",
       "row3 13   17   21  \n",
       "row4 14   18   22  "
      ]
     },
     "metadata": {},
     "output_type": "display_data"
    }
   ],
   "source": [
    "m1+10"
   ]
  },
  {
   "cell_type": "markdown",
   "metadata": {},
   "source": [
    "Suma de matrices"
   ]
  },
  {
   "cell_type": "code",
   "execution_count": 189,
   "metadata": {},
   "outputs": [
    {
     "data": {
      "text/html": [
       "<table>\n",
       "<caption>A matrix: 4 × 3 of type int</caption>\n",
       "<thead>\n",
       "\t<tr><th></th><th scope=col>col1</th><th scope=col>col2</th><th scope=col>col3</th></tr>\n",
       "</thead>\n",
       "<tbody>\n",
       "\t<tr><th scope=row>row1</th><td>1</td><td>5</td><td> 9</td></tr>\n",
       "\t<tr><th scope=row>row2</th><td>2</td><td>6</td><td>10</td></tr>\n",
       "\t<tr><th scope=row>row3</th><td>3</td><td>7</td><td>11</td></tr>\n",
       "\t<tr><th scope=row>row4</th><td>4</td><td>8</td><td>12</td></tr>\n",
       "</tbody>\n",
       "</table>\n"
      ],
      "text/latex": [
       "A matrix: 4 × 3 of type int\n",
       "\\begin{tabular}{r|lll}\n",
       "  & col1 & col2 & col3\\\\\n",
       "\\hline\n",
       "\trow1 & 1 & 5 &  9\\\\\n",
       "\trow2 & 2 & 6 & 10\\\\\n",
       "\trow3 & 3 & 7 & 11\\\\\n",
       "\trow4 & 4 & 8 & 12\\\\\n",
       "\\end{tabular}\n"
      ],
      "text/markdown": [
       "\n",
       "A matrix: 4 × 3 of type int\n",
       "\n",
       "| <!--/--> | col1 | col2 | col3 |\n",
       "|---|---|---|---|\n",
       "| row1 | 1 | 5 |  9 |\n",
       "| row2 | 2 | 6 | 10 |\n",
       "| row3 | 3 | 7 | 11 |\n",
       "| row4 | 4 | 8 | 12 |\n",
       "\n"
      ],
      "text/plain": [
       "     col1 col2 col3\n",
       "row1 1    5     9  \n",
       "row2 2    6    10  \n",
       "row3 3    7    11  \n",
       "row4 4    8    12  "
      ]
     },
     "metadata": {},
     "output_type": "display_data"
    },
    {
     "data": {
      "text/html": [
       "<table>\n",
       "<caption>A matrix: 4 × 3 of type int</caption>\n",
       "<tbody>\n",
       "\t<tr><td> 1</td><td> 2</td><td> 3</td></tr>\n",
       "\t<tr><td> 4</td><td> 5</td><td> 6</td></tr>\n",
       "\t<tr><td> 7</td><td> 8</td><td> 9</td></tr>\n",
       "\t<tr><td>10</td><td>11</td><td>12</td></tr>\n",
       "</tbody>\n",
       "</table>\n"
      ],
      "text/latex": [
       "A matrix: 4 × 3 of type int\n",
       "\\begin{tabular}{lll}\n",
       "\t  1 &  2 &  3\\\\\n",
       "\t  4 &  5 &  6\\\\\n",
       "\t  7 &  8 &  9\\\\\n",
       "\t 10 & 11 & 12\\\\\n",
       "\\end{tabular}\n"
      ],
      "text/markdown": [
       "\n",
       "A matrix: 4 × 3 of type int\n",
       "\n",
       "|  1 |  2 |  3 |\n",
       "|  4 |  5 |  6 |\n",
       "|  7 |  8 |  9 |\n",
       "| 10 | 11 | 12 |\n",
       "\n"
      ],
      "text/plain": [
       "     [,1] [,2] [,3]\n",
       "[1,]  1    2    3  \n",
       "[2,]  4    5    6  \n",
       "[3,]  7    8    9  \n",
       "[4,] 10   11   12  "
      ]
     },
     "metadata": {},
     "output_type": "display_data"
    }
   ],
   "source": [
    "m1\n",
    "m2"
   ]
  },
  {
   "cell_type": "code",
   "execution_count": 188,
   "metadata": {},
   "outputs": [
    {
     "data": {
      "text/html": [
       "<table>\n",
       "<caption>A matrix: 4 × 3 of type int</caption>\n",
       "<thead>\n",
       "\t<tr><th></th><th scope=col>col1</th><th scope=col>col2</th><th scope=col>col3</th></tr>\n",
       "</thead>\n",
       "<tbody>\n",
       "\t<tr><th scope=row>row1</th><td> 2</td><td> 7</td><td>12</td></tr>\n",
       "\t<tr><th scope=row>row2</th><td> 6</td><td>11</td><td>16</td></tr>\n",
       "\t<tr><th scope=row>row3</th><td>10</td><td>15</td><td>20</td></tr>\n",
       "\t<tr><th scope=row>row4</th><td>14</td><td>19</td><td>24</td></tr>\n",
       "</tbody>\n",
       "</table>\n"
      ],
      "text/latex": [
       "A matrix: 4 × 3 of type int\n",
       "\\begin{tabular}{r|lll}\n",
       "  & col1 & col2 & col3\\\\\n",
       "\\hline\n",
       "\trow1 &  2 &  7 & 12\\\\\n",
       "\trow2 &  6 & 11 & 16\\\\\n",
       "\trow3 & 10 & 15 & 20\\\\\n",
       "\trow4 & 14 & 19 & 24\\\\\n",
       "\\end{tabular}\n"
      ],
      "text/markdown": [
       "\n",
       "A matrix: 4 × 3 of type int\n",
       "\n",
       "| <!--/--> | col1 | col2 | col3 |\n",
       "|---|---|---|---|\n",
       "| row1 |  2 |  7 | 12 |\n",
       "| row2 |  6 | 11 | 16 |\n",
       "| row3 | 10 | 15 | 20 |\n",
       "| row4 | 14 | 19 | 24 |\n",
       "\n"
      ],
      "text/plain": [
       "     col1 col2 col3\n",
       "row1  2    7   12  \n",
       "row2  6   11   16  \n",
       "row3 10   15   20  \n",
       "row4 14   19   24  "
      ]
     },
     "metadata": {},
     "output_type": "display_data"
    }
   ],
   "source": [
    "m1+m2"
   ]
  },
  {
   "cell_type": "code",
   "execution_count": 190,
   "metadata": {},
   "outputs": [
    {
     "data": {
      "text/html": [
       "<table>\n",
       "<caption>A matrix: 4 × 3 of type int</caption>\n",
       "<thead>\n",
       "\t<tr><th></th><th scope=col>col1</th><th scope=col>col2</th><th scope=col>col3</th></tr>\n",
       "</thead>\n",
       "<tbody>\n",
       "\t<tr><th scope=row>row1</th><td>1</td><td>5</td><td> 9</td></tr>\n",
       "\t<tr><th scope=row>row2</th><td>2</td><td>6</td><td>10</td></tr>\n",
       "\t<tr><th scope=row>row3</th><td>3</td><td>7</td><td>11</td></tr>\n",
       "\t<tr><th scope=row>row4</th><td>4</td><td>8</td><td>12</td></tr>\n",
       "</tbody>\n",
       "</table>\n"
      ],
      "text/latex": [
       "A matrix: 4 × 3 of type int\n",
       "\\begin{tabular}{r|lll}\n",
       "  & col1 & col2 & col3\\\\\n",
       "\\hline\n",
       "\trow1 & 1 & 5 &  9\\\\\n",
       "\trow2 & 2 & 6 & 10\\\\\n",
       "\trow3 & 3 & 7 & 11\\\\\n",
       "\trow4 & 4 & 8 & 12\\\\\n",
       "\\end{tabular}\n"
      ],
      "text/markdown": [
       "\n",
       "A matrix: 4 × 3 of type int\n",
       "\n",
       "| <!--/--> | col1 | col2 | col3 |\n",
       "|---|---|---|---|\n",
       "| row1 | 1 | 5 |  9 |\n",
       "| row2 | 2 | 6 | 10 |\n",
       "| row3 | 3 | 7 | 11 |\n",
       "| row4 | 4 | 8 | 12 |\n",
       "\n"
      ],
      "text/plain": [
       "     col1 col2 col3\n",
       "row1 1    5     9  \n",
       "row2 2    6    10  \n",
       "row3 3    7    11  \n",
       "row4 4    8    12  "
      ]
     },
     "metadata": {},
     "output_type": "display_data"
    },
    {
     "data": {
      "text/html": [
       "<table>\n",
       "<caption>A matrix: 3 × 4 of type dbl</caption>\n",
       "<tbody>\n",
       "\t<tr><td>1</td><td>1</td><td>1</td><td>1</td></tr>\n",
       "\t<tr><td>1</td><td>1</td><td>1</td><td>1</td></tr>\n",
       "\t<tr><td>1</td><td>1</td><td>1</td><td>1</td></tr>\n",
       "</tbody>\n",
       "</table>\n"
      ],
      "text/latex": [
       "A matrix: 3 × 4 of type dbl\n",
       "\\begin{tabular}{llll}\n",
       "\t 1 & 1 & 1 & 1\\\\\n",
       "\t 1 & 1 & 1 & 1\\\\\n",
       "\t 1 & 1 & 1 & 1\\\\\n",
       "\\end{tabular}\n"
      ],
      "text/markdown": [
       "\n",
       "A matrix: 3 × 4 of type dbl\n",
       "\n",
       "| 1 | 1 | 1 | 1 |\n",
       "| 1 | 1 | 1 | 1 |\n",
       "| 1 | 1 | 1 | 1 |\n",
       "\n"
      ],
      "text/plain": [
       "     [,1] [,2] [,3] [,4]\n",
       "[1,] 1    1    1    1   \n",
       "[2,] 1    1    1    1   \n",
       "[3,] 1    1    1    1   "
      ]
     },
     "metadata": {},
     "output_type": "display_data"
    }
   ],
   "source": [
    "m1\n",
    "matrix(rep(1,12),nrow=3)"
   ]
  },
  {
   "cell_type": "markdown",
   "metadata": {},
   "source": [
    "Multiplicación de matrices"
   ]
  },
  {
   "cell_type": "code",
   "execution_count": 193,
   "metadata": {},
   "outputs": [
    {
     "data": {
      "text/html": [
       "<table>\n",
       "<caption>A matrix: 4 × 4 of type dbl</caption>\n",
       "<tbody>\n",
       "\t<tr><th scope=row>row1</th><td>15</td><td>15</td><td>15</td><td>15</td></tr>\n",
       "\t<tr><th scope=row>row2</th><td>18</td><td>18</td><td>18</td><td>18</td></tr>\n",
       "\t<tr><th scope=row>row3</th><td>21</td><td>21</td><td>21</td><td>21</td></tr>\n",
       "\t<tr><th scope=row>row4</th><td>24</td><td>24</td><td>24</td><td>24</td></tr>\n",
       "</tbody>\n",
       "</table>\n"
      ],
      "text/latex": [
       "A matrix: 4 × 4 of type dbl\n",
       "\\begin{tabular}{r|llll}\n",
       "\trow1 & 15 & 15 & 15 & 15\\\\\n",
       "\trow2 & 18 & 18 & 18 & 18\\\\\n",
       "\trow3 & 21 & 21 & 21 & 21\\\\\n",
       "\trow4 & 24 & 24 & 24 & 24\\\\\n",
       "\\end{tabular}\n"
      ],
      "text/markdown": [
       "\n",
       "A matrix: 4 × 4 of type dbl\n",
       "\n",
       "| row1 | 15 | 15 | 15 | 15 |\n",
       "| row2 | 18 | 18 | 18 | 18 |\n",
       "| row3 | 21 | 21 | 21 | 21 |\n",
       "| row4 | 24 | 24 | 24 | 24 |\n",
       "\n"
      ],
      "text/plain": [
       "     [,1] [,2] [,3] [,4]\n",
       "row1 15   15   15   15  \n",
       "row2 18   18   18   18  \n",
       "row3 21   21   21   21  \n",
       "row4 24   24   24   24  "
      ]
     },
     "metadata": {},
     "output_type": "display_data"
    }
   ],
   "source": [
    "m1 %*% matrix(rep(1,12),nrow=3)"
   ]
  },
  {
   "cell_type": "code",
   "execution_count": 202,
   "metadata": {},
   "outputs": [
    {
     "data": {
      "text/html": [
       "<ol class=list-inline>\n",
       "\t<li>'a'</li>\n",
       "\t<li>'a'</li>\n",
       "\t<li>'a'</li>\n",
       "\t<li>'a'</li>\n",
       "\t<li>'a'</li>\n",
       "</ol>\n"
      ],
      "text/latex": [
       "\\begin{enumerate*}\n",
       "\\item 'a'\n",
       "\\item 'a'\n",
       "\\item 'a'\n",
       "\\item 'a'\n",
       "\\item 'a'\n",
       "\\end{enumerate*}\n"
      ],
      "text/markdown": [
       "1. 'a'\n",
       "2. 'a'\n",
       "3. 'a'\n",
       "4. 'a'\n",
       "5. 'a'\n",
       "\n",
       "\n"
      ],
      "text/plain": [
       "[1] \"a\" \"a\" \"a\" \"a\" \"a\""
      ]
     },
     "metadata": {},
     "output_type": "display_data"
    }
   ],
   "source": [
    "rep(\"a\",5)"
   ]
  },
  {
   "cell_type": "markdown",
   "metadata": {},
   "source": [
    "Submatrices"
   ]
  },
  {
   "cell_type": "code",
   "execution_count": 203,
   "metadata": {},
   "outputs": [
    {
     "data": {
      "text/html": [
       "<table>\n",
       "<caption>A matrix: 3 × 2 of type int</caption>\n",
       "<thead>\n",
       "\t<tr><th></th><th scope=col>col2</th><th scope=col>col3</th></tr>\n",
       "</thead>\n",
       "<tbody>\n",
       "\t<tr><th scope=row>row2</th><td>6</td><td>10</td></tr>\n",
       "\t<tr><th scope=row>row3</th><td>7</td><td>11</td></tr>\n",
       "\t<tr><th scope=row>row4</th><td>8</td><td>12</td></tr>\n",
       "</tbody>\n",
       "</table>\n"
      ],
      "text/latex": [
       "A matrix: 3 × 2 of type int\n",
       "\\begin{tabular}{r|ll}\n",
       "  & col2 & col3\\\\\n",
       "\\hline\n",
       "\trow2 & 6 & 10\\\\\n",
       "\trow3 & 7 & 11\\\\\n",
       "\trow4 & 8 & 12\\\\\n",
       "\\end{tabular}\n"
      ],
      "text/markdown": [
       "\n",
       "A matrix: 3 × 2 of type int\n",
       "\n",
       "| <!--/--> | col2 | col3 |\n",
       "|---|---|---|\n",
       "| row2 | 6 | 10 |\n",
       "| row3 | 7 | 11 |\n",
       "| row4 | 8 | 12 |\n",
       "\n"
      ],
      "text/plain": [
       "     col2 col3\n",
       "row2 6    10  \n",
       "row3 7    11  \n",
       "row4 8    12  "
      ]
     },
     "metadata": {},
     "output_type": "display_data"
    }
   ],
   "source": [
    "m1[2:4,2:3]"
   ]
  },
  {
   "cell_type": "code",
   "execution_count": 204,
   "metadata": {},
   "outputs": [
    {
     "data": {
      "text/html": [
       "<table>\n",
       "<caption>A matrix: 3 × 2 of type int</caption>\n",
       "<thead>\n",
       "\t<tr><th></th><th scope=col>col2</th><th scope=col>col3</th></tr>\n",
       "</thead>\n",
       "<tbody>\n",
       "\t<tr><th scope=row>row3</th><td>7</td><td>11</td></tr>\n",
       "\t<tr><th scope=row>row2</th><td>6</td><td>10</td></tr>\n",
       "\t<tr><th scope=row>row4</th><td>8</td><td>12</td></tr>\n",
       "</tbody>\n",
       "</table>\n"
      ],
      "text/latex": [
       "A matrix: 3 × 2 of type int\n",
       "\\begin{tabular}{r|ll}\n",
       "  & col2 & col3\\\\\n",
       "\\hline\n",
       "\trow3 & 7 & 11\\\\\n",
       "\trow2 & 6 & 10\\\\\n",
       "\trow4 & 8 & 12\\\\\n",
       "\\end{tabular}\n"
      ],
      "text/markdown": [
       "\n",
       "A matrix: 3 × 2 of type int\n",
       "\n",
       "| <!--/--> | col2 | col3 |\n",
       "|---|---|---|\n",
       "| row3 | 7 | 11 |\n",
       "| row2 | 6 | 10 |\n",
       "| row4 | 8 | 12 |\n",
       "\n"
      ],
      "text/plain": [
       "     col2 col3\n",
       "row3 7    11  \n",
       "row2 6    10  \n",
       "row4 8    12  "
      ]
     },
     "metadata": {},
     "output_type": "display_data"
    }
   ],
   "source": [
    "m1[c(3,2,4),2:3]"
   ]
  },
  {
   "cell_type": "markdown",
   "metadata": {},
   "source": [
    "# Tablas"
   ]
  },
  {
   "cell_type": "markdown",
   "metadata": {},
   "source": [
    "Se utilizan para estudios de frecuencia. Cuentan el número de veces que ha ocurrido algo."
   ]
  },
  {
   "cell_type": "code",
   "execution_count": 205,
   "metadata": {},
   "outputs": [
    {
     "data": {
      "text/html": [
       "<ol class=list-inline>\n",
       "\t<li>'Dulce'</li>\n",
       "\t<li>'Salado'</li>\n",
       "\t<li>'Ácido'</li>\n",
       "\t<li>'Amargo'</li>\n",
       "\t<li>'Umami'</li>\n",
       "\t<li>'Dulce'</li>\n",
       "\t<li>'Salado'</li>\n",
       "\t<li>'Ácido'</li>\n",
       "\t<li>'Umami'</li>\n",
       "\t<li>'Umami'</li>\n",
       "\t<li>'Salado'</li>\n",
       "</ol>\n"
      ],
      "text/latex": [
       "\\begin{enumerate*}\n",
       "\\item 'Dulce'\n",
       "\\item 'Salado'\n",
       "\\item 'Ácido'\n",
       "\\item 'Amargo'\n",
       "\\item 'Umami'\n",
       "\\item 'Dulce'\n",
       "\\item 'Salado'\n",
       "\\item 'Ácido'\n",
       "\\item 'Umami'\n",
       "\\item 'Umami'\n",
       "\\item 'Salado'\n",
       "\\end{enumerate*}\n"
      ],
      "text/markdown": [
       "1. 'Dulce'\n",
       "2. 'Salado'\n",
       "3. 'Ácido'\n",
       "4. 'Amargo'\n",
       "5. 'Umami'\n",
       "6. 'Dulce'\n",
       "7. 'Salado'\n",
       "8. 'Ácido'\n",
       "9. 'Umami'\n",
       "10. 'Umami'\n",
       "11. 'Salado'\n",
       "\n",
       "\n"
      ],
      "text/plain": [
       " [1] \"Dulce\"  \"Salado\" \"Ácido\"  \"Amargo\" \"Umami\"  \"Dulce\"  \"Salado\" \"Ácido\" \n",
       " [9] \"Umami\"  \"Umami\"  \"Salado\""
      ]
     },
     "metadata": {},
     "output_type": "display_data"
    }
   ],
   "source": [
    "saboresDePlatos"
   ]
  },
  {
   "cell_type": "code",
   "execution_count": 218,
   "metadata": {},
   "outputs": [
    {
     "name": "stdout",
     "output_type": "stream",
     "text": [
      " Named int [1:5] 2 1 2 3 3\n",
      " - attr(*, \"names\")= chr [1:5] \"Ácido\" \"Amargo\" \"Dulce\" \"Salado\" ...\n"
     ]
    }
   ],
   "source": [
    "str(summary(saboresDePlatosFactor))"
   ]
  },
  {
   "cell_type": "code",
   "execution_count": 219,
   "metadata": {},
   "outputs": [
    {
     "name": "stdout",
     "output_type": "stream",
     "text": [
      " Named num [1:5] 2 1 2 3 3\n",
      " - attr(*, \"names\")= chr [1:5] \"acido\" \"amargo\" \"dulce\" \"salado\" ...\n"
     ]
    }
   ],
   "source": [
    "str(c(acido=2,amargo=1,dulce=2,salado=3,unami=3))"
   ]
  },
  {
   "cell_type": "code",
   "execution_count": 215,
   "metadata": {},
   "outputs": [
    {
     "data": {
      "text/plain": [
       "saboresDePlatosFactor\n",
       " Ácido Amargo  Dulce Salado  Umami \n",
       "     2      1      2      3      3 "
      ]
     },
     "metadata": {},
     "output_type": "display_data"
    }
   ],
   "source": [
    "tblSabores<-table(saboresDePlatosFactor)\n",
    "tblSabores"
   ]
  },
  {
   "cell_type": "code",
   "execution_count": 210,
   "metadata": {},
   "outputs": [
    {
     "data": {
      "text/html": [
       "<ol class=list-inline>\n",
       "\t<li>'Ácido'</li>\n",
       "\t<li>'Amargo'</li>\n",
       "\t<li>'Dulce'</li>\n",
       "\t<li>'Salado'</li>\n",
       "\t<li>'Umami'</li>\n",
       "</ol>\n"
      ],
      "text/latex": [
       "\\begin{enumerate*}\n",
       "\\item 'Ácido'\n",
       "\\item 'Amargo'\n",
       "\\item 'Dulce'\n",
       "\\item 'Salado'\n",
       "\\item 'Umami'\n",
       "\\end{enumerate*}\n"
      ],
      "text/markdown": [
       "1. 'Ácido'\n",
       "2. 'Amargo'\n",
       "3. 'Dulce'\n",
       "4. 'Salado'\n",
       "5. 'Umami'\n",
       "\n",
       "\n"
      ],
      "text/plain": [
       "[1] \"Ácido\"  \"Amargo\" \"Dulce\"  \"Salado\" \"Umami\" "
      ]
     },
     "metadata": {},
     "output_type": "display_data"
    }
   ],
   "source": [
    "names(tblSabores)"
   ]
  },
  {
   "cell_type": "code",
   "execution_count": 211,
   "metadata": {},
   "outputs": [
    {
     "name": "stdout",
     "output_type": "stream",
     "text": [
      " 'table' int [1:5(1d)] 2 1 2 3 3\n",
      " - attr(*, \"dimnames\")=List of 1\n",
      "  ..$ saboresDePlatos: chr [1:5] \"Ácido\" \"Amargo\" \"Dulce\" \"Salado\" ...\n"
     ]
    }
   ],
   "source": [
    "str(tblSabores)"
   ]
  },
  {
   "cell_type": "markdown",
   "metadata": {},
   "source": [
    "Los atributos son una lista de propiedades asociadas a un objeto en R"
   ]
  },
  {
   "cell_type": "code",
   "execution_count": 216,
   "metadata": {},
   "outputs": [
    {
     "data": {
      "text/html": [
       "<dl>\n",
       "\t<dt>$dim</dt>\n",
       "\t\t<dd>5</dd>\n",
       "\t<dt>$dimnames</dt>\n",
       "\t\t<dd><strong>$saboresDePlatosFactor</strong> = <ol class=list-inline>\n",
       "\t<li>'Ácido'</li>\n",
       "\t<li>'Amargo'</li>\n",
       "\t<li>'Dulce'</li>\n",
       "\t<li>'Salado'</li>\n",
       "\t<li>'Umami'</li>\n",
       "</ol>\n",
       "</dd>\n",
       "\t<dt>$class</dt>\n",
       "\t\t<dd>'table'</dd>\n",
       "</dl>\n"
      ],
      "text/latex": [
       "\\begin{description}\n",
       "\\item[\\$dim] 5\n",
       "\\item[\\$dimnames] \\textbf{\\$saboresDePlatosFactor} = \\begin{enumerate*}\n",
       "\\item 'Ácido'\n",
       "\\item 'Amargo'\n",
       "\\item 'Dulce'\n",
       "\\item 'Salado'\n",
       "\\item 'Umami'\n",
       "\\end{enumerate*}\n",
       "\n",
       "\\item[\\$class] 'table'\n",
       "\\end{description}\n"
      ],
      "text/markdown": [
       "$dim\n",
       ":   5\n",
       "$dimnames\n",
       ":   **$saboresDePlatosFactor** = 1. 'Ácido'\n",
       "2. 'Amargo'\n",
       "3. 'Dulce'\n",
       "4. 'Salado'\n",
       "5. 'Umami'\n",
       "\n",
       "\n",
       "\n",
       "$class\n",
       ":   'table'\n",
       "\n",
       "\n"
      ],
      "text/plain": [
       "$dim\n",
       "[1] 5\n",
       "\n",
       "$dimnames\n",
       "$dimnames$saboresDePlatosFactor\n",
       "[1] \"Ácido\"  \"Amargo\" \"Dulce\"  \"Salado\" \"Umami\" \n",
       "\n",
       "\n",
       "$class\n",
       "[1] \"table\"\n"
      ]
     },
     "metadata": {},
     "output_type": "display_data"
    }
   ],
   "source": [
    "attributes(tblSabores)"
   ]
  },
  {
   "cell_type": "code",
   "execution_count": 220,
   "metadata": {},
   "outputs": [
    {
     "data": {
      "text/html": [
       "'table'"
      ],
      "text/latex": [
       "'table'"
      ],
      "text/markdown": [
       "'table'"
      ],
      "text/plain": [
       "[1] \"table\""
      ]
     },
     "metadata": {},
     "output_type": "display_data"
    }
   ],
   "source": [
    "class(tblSabores)"
   ]
  },
  {
   "cell_type": "code",
   "execution_count": 222,
   "metadata": {},
   "outputs": [
    {
     "name": "stdout",
     "output_type": "stream",
     "text": [
      " int [1:5(1d)] 2 1 2 3 3\n",
      " - attr(*, \"dimnames\")=List of 1\n",
      "  ..$ saboresDePlatosFactor: chr [1:5] \"Ácido\" \"Amargo\" \"Dulce\" \"Salado\" ...\n"
     ]
    }
   ],
   "source": [
    "str(unclass(tblSabores))"
   ]
  },
  {
   "cell_type": "code",
   "execution_count": 223,
   "metadata": {},
   "outputs": [
    {
     "data": {
      "text/html": [
       "<ol class=list-inline>\n",
       "\t<li>'Ácido'</li>\n",
       "\t<li>'Amargo'</li>\n",
       "\t<li>'Dulce'</li>\n",
       "\t<li>'Salado'</li>\n",
       "\t<li>'Umami'</li>\n",
       "</ol>\n"
      ],
      "text/latex": [
       "\\begin{enumerate*}\n",
       "\\item 'Ácido'\n",
       "\\item 'Amargo'\n",
       "\\item 'Dulce'\n",
       "\\item 'Salado'\n",
       "\\item 'Umami'\n",
       "\\end{enumerate*}\n"
      ],
      "text/markdown": [
       "1. 'Ácido'\n",
       "2. 'Amargo'\n",
       "3. 'Dulce'\n",
       "4. 'Salado'\n",
       "5. 'Umami'\n",
       "\n",
       "\n"
      ],
      "text/plain": [
       "[1] \"Ácido\"  \"Amargo\" \"Dulce\"  \"Salado\" \"Umami\" "
      ]
     },
     "metadata": {},
     "output_type": "display_data"
    }
   ],
   "source": [
    "attributes(tblSabores)$dimnames$saboresDePlatos "
   ]
  },
  {
   "cell_type": "code",
   "execution_count": 224,
   "metadata": {},
   "outputs": [
    {
     "data": {
      "text/plain": [
       "       color\n",
       "animal  blanco marrón negro\n",
       "  gato       1      3     2\n",
       "  perro      1      1     2"
      ]
     },
     "metadata": {},
     "output_type": "display_data"
    }
   ],
   "source": [
    "color  <- c(\"marrón\",\"negro\",\"blanco\",\"negro\",\"blanco\",\"negro\",\"negro\",\"marrón\",\"marrón\",\"marrón\")\n",
    "animal <- c(\"gato\",\"gato\",\"perro\",\"gato\",\"gato\",\"perro\",\"perro\",\"perro\",\"gato\",\"gato\")\n",
    "\n",
    "tbl_animal<-table(animal,color)\n",
    "tbl_animal"
   ]
  },
  {
   "cell_type": "code",
   "execution_count": 234,
   "metadata": {},
   "outputs": [
    {
     "data": {
      "text/html": [
       "2"
      ],
      "text/latex": [
       "2"
      ],
      "text/markdown": [
       "2"
      ],
      "text/plain": [
       "[1] 2"
      ]
     },
     "metadata": {},
     "output_type": "display_data"
    },
    {
     "data": {
      "text/html": [
       "2"
      ],
      "text/latex": [
       "2"
      ],
      "text/markdown": [
       "2"
      ],
      "text/plain": [
       "[1] 2"
      ]
     },
     "metadata": {},
     "output_type": "display_data"
    }
   ],
   "source": [
    "tbl_animal[2,3]\n",
    "tbl_animal[\"perro\",\"negro\"]"
   ]
  },
  {
   "cell_type": "code",
   "execution_count": 225,
   "metadata": {},
   "outputs": [
    {
     "name": "stdout",
     "output_type": "stream",
     "text": [
      " 'table' int [1:2, 1:3] 1 1 3 1 2 2\n",
      " - attr(*, \"dimnames\")=List of 2\n",
      "  ..$ animal: chr [1:2] \"gato\" \"perro\"\n",
      "  ..$ color : chr [1:3] \"blanco\" \"marrón\" \"negro\"\n"
     ]
    }
   ],
   "source": [
    "str(tbl_animal)"
   ]
  },
  {
   "cell_type": "code",
   "execution_count": 226,
   "metadata": {},
   "outputs": [
    {
     "data": {
      "text/html": [
       "<dl>\n",
       "\t<dt>$animal</dt>\n",
       "\t\t<dd><ol class=list-inline>\n",
       "\t<li>'gato'</li>\n",
       "\t<li>'perro'</li>\n",
       "</ol>\n",
       "</dd>\n",
       "\t<dt>$color</dt>\n",
       "\t\t<dd><ol class=list-inline>\n",
       "\t<li>'blanco'</li>\n",
       "\t<li>'marrón'</li>\n",
       "\t<li>'negro'</li>\n",
       "</ol>\n",
       "</dd>\n",
       "</dl>\n"
      ],
      "text/latex": [
       "\\begin{description}\n",
       "\\item[\\$animal] \\begin{enumerate*}\n",
       "\\item 'gato'\n",
       "\\item 'perro'\n",
       "\\end{enumerate*}\n",
       "\n",
       "\\item[\\$color] \\begin{enumerate*}\n",
       "\\item 'blanco'\n",
       "\\item 'marrón'\n",
       "\\item 'negro'\n",
       "\\end{enumerate*}\n",
       "\n",
       "\\end{description}\n"
      ],
      "text/markdown": [
       "$animal\n",
       ":   1. 'gato'\n",
       "2. 'perro'\n",
       "\n",
       "\n",
       "\n",
       "$color\n",
       ":   1. 'blanco'\n",
       "2. 'marrón'\n",
       "3. 'negro'\n",
       "\n",
       "\n",
       "\n",
       "\n",
       "\n"
      ],
      "text/plain": [
       "$animal\n",
       "[1] \"gato\"  \"perro\"\n",
       "\n",
       "$color\n",
       "[1] \"blanco\" \"marrón\" \"negro\" \n"
      ]
     },
     "metadata": {},
     "output_type": "display_data"
    }
   ],
   "source": [
    "attributes(tbl_animal)$dimnames"
   ]
  },
  {
   "cell_type": "code",
   "execution_count": 227,
   "metadata": {},
   "outputs": [
    {
     "data": {
      "text/html": [
       "<dl>\n",
       "\t<dt>$dim</dt>\n",
       "\t\t<dd><ol class=list-inline>\n",
       "\t<li>2</li>\n",
       "\t<li>3</li>\n",
       "</ol>\n",
       "</dd>\n",
       "\t<dt>$dimnames</dt>\n",
       "\t\t<dd><dl>\n",
       "\t<dt>$animal</dt>\n",
       "\t\t<dd><ol class=list-inline>\n",
       "\t<li>'gato'</li>\n",
       "\t<li>'perro'</li>\n",
       "</ol>\n",
       "</dd>\n",
       "\t<dt>$color</dt>\n",
       "\t\t<dd><ol class=list-inline>\n",
       "\t<li>'blanco'</li>\n",
       "\t<li>'marrón'</li>\n",
       "\t<li>'negro'</li>\n",
       "</ol>\n",
       "</dd>\n",
       "</dl>\n",
       "</dd>\n",
       "\t<dt>$class</dt>\n",
       "\t\t<dd>'table'</dd>\n",
       "</dl>\n"
      ],
      "text/latex": [
       "\\begin{description}\n",
       "\\item[\\$dim] \\begin{enumerate*}\n",
       "\\item 2\n",
       "\\item 3\n",
       "\\end{enumerate*}\n",
       "\n",
       "\\item[\\$dimnames] \\begin{description}\n",
       "\\item[\\$animal] \\begin{enumerate*}\n",
       "\\item 'gato'\n",
       "\\item 'perro'\n",
       "\\end{enumerate*}\n",
       "\n",
       "\\item[\\$color] \\begin{enumerate*}\n",
       "\\item 'blanco'\n",
       "\\item 'marrón'\n",
       "\\item 'negro'\n",
       "\\end{enumerate*}\n",
       "\n",
       "\\end{description}\n",
       "\n",
       "\\item[\\$class] 'table'\n",
       "\\end{description}\n"
      ],
      "text/markdown": [
       "$dim\n",
       ":   1. 2\n",
       "2. 3\n",
       "\n",
       "\n",
       "\n",
       "$dimnames\n",
       ":   $animal\n",
       ":   1. 'gato'\n",
       "2. 'perro'\n",
       "\n",
       "\n",
       "\n",
       "$color\n",
       ":   1. 'blanco'\n",
       "2. 'marrón'\n",
       "3. 'negro'\n",
       "\n",
       "\n",
       "\n",
       "\n",
       "\n",
       "\n",
       "$class\n",
       ":   'table'\n",
       "\n",
       "\n"
      ],
      "text/plain": [
       "$dim\n",
       "[1] 2 3\n",
       "\n",
       "$dimnames\n",
       "$dimnames$animal\n",
       "[1] \"gato\"  \"perro\"\n",
       "\n",
       "$dimnames$color\n",
       "[1] \"blanco\" \"marrón\" \"negro\" \n",
       "\n",
       "\n",
       "$class\n",
       "[1] \"table\"\n"
      ]
     },
     "metadata": {},
     "output_type": "display_data"
    }
   ],
   "source": [
    "attributes(tbl_animal)"
   ]
  },
  {
   "cell_type": "markdown",
   "metadata": {},
   "source": [
    "## Miniresumen parcial"
   ]
  },
  {
   "cell_type": "markdown",
   "metadata": {},
   "source": [
    "Vector"
   ]
  },
  {
   "cell_type": "code",
   "execution_count": 238,
   "metadata": {},
   "outputs": [
    {
     "data": {
      "text/html": [
       "<ol class=list-inline>\n",
       "\t<li>7</li>\n",
       "\t<li>8</li>\n",
       "\t<li>9</li>\n",
       "\t<li>10</li>\n",
       "</ol>\n"
      ],
      "text/latex": [
       "\\begin{enumerate*}\n",
       "\\item 7\n",
       "\\item 8\n",
       "\\item 9\n",
       "\\item 10\n",
       "\\end{enumerate*}\n"
      ],
      "text/markdown": [
       "1. 7\n",
       "2. 8\n",
       "3. 9\n",
       "4. 10\n",
       "\n",
       "\n"
      ],
      "text/plain": [
       "[1]  7  8  9 10"
      ]
     },
     "metadata": {},
     "output_type": "display_data"
    }
   ],
   "source": [
    "vecto_pesos <- c(5,7,8,9,10)\n",
    "vecto_pesos[2:length(vecto_pesos)]"
   ]
  },
  {
   "cell_type": "markdown",
   "metadata": {},
   "source": [
    "Listas"
   ]
  },
  {
   "cell_type": "code",
   "execution_count": 239,
   "metadata": {},
   "outputs": [
    {
     "data": {
      "text/html": [
       "<dl>\n",
       "\t<dt>$altura</dt>\n",
       "\t\t<dd>1.5</dd>\n",
       "\t<dt>$ancho</dt>\n",
       "\t\t<dd>1</dd>\n",
       "\t<dt>$peso</dt>\n",
       "\t\t<dd>3</dd>\n",
       "\t<dt>$unidades_peso</dt>\n",
       "\t\t<dd>'Kg'</dd>\n",
       "\t<dt>$unidades_medida</dt>\n",
       "\t\t<dd>'m'</dd>\n",
       "\t<dt>$fabricacion</dt>\n",
       "\t\t<dd><dl>\n",
       "\t<dt>$numeroserie</dt>\n",
       "\t\t<dd>'A1238656'</dd>\n",
       "\t<dt>$origen</dt>\n",
       "\t\t<dd>'Zamora'</dd>\n",
       "</dl>\n",
       "</dd>\n",
       "</dl>\n"
      ],
      "text/latex": [
       "\\begin{description}\n",
       "\\item[\\$altura] 1.5\n",
       "\\item[\\$ancho] 1\n",
       "\\item[\\$peso] 3\n",
       "\\item[\\$unidades\\_peso] 'Kg'\n",
       "\\item[\\$unidades\\_medida] 'm'\n",
       "\\item[\\$fabricacion] \\begin{description}\n",
       "\\item[\\$numeroserie] 'A1238656'\n",
       "\\item[\\$origen] 'Zamora'\n",
       "\\end{description}\n",
       "\n",
       "\\end{description}\n"
      ],
      "text/markdown": [
       "$altura\n",
       ":   1.5\n",
       "$ancho\n",
       ":   1\n",
       "$peso\n",
       ":   3\n",
       "$unidades_peso\n",
       ":   'Kg'\n",
       "$unidades_medida\n",
       ":   'm'\n",
       "$fabricacion\n",
       ":   $numeroserie\n",
       ":   'A1238656'\n",
       "$origen\n",
       ":   'Zamora'\n",
       "\n",
       "\n",
       "\n",
       "\n",
       "\n"
      ],
      "text/plain": [
       "$altura\n",
       "[1] 1.5\n",
       "\n",
       "$ancho\n",
       "[1] 1\n",
       "\n",
       "$peso\n",
       "[1] 3\n",
       "\n",
       "$unidades_peso\n",
       "[1] \"Kg\"\n",
       "\n",
       "$unidades_medida\n",
       "[1] \"m\"\n",
       "\n",
       "$fabricacion\n",
       "$fabricacion$numeroserie\n",
       "[1] \"A1238656\"\n",
       "\n",
       "$fabricacion$origen\n",
       "[1] \"Zamora\"\n",
       "\n"
      ]
     },
     "metadata": {},
     "output_type": "display_data"
    }
   ],
   "source": [
    "lista_medidas <- list(altura=1.5, ancho=1, peso = 3, unidades_peso=\"Kg\", unidades_medida=\"m\", \n",
    "                      fabricacion=list(numeroserie=\"A1238656\", origen=\"Zamora\"))\n",
    "lista_medidas"
   ]
  },
  {
   "cell_type": "code",
   "execution_count": 243,
   "metadata": {},
   "outputs": [
    {
     "name": "stdout",
     "output_type": "stream",
     "text": [
      "List of 6\n",
      " $ altura         : num 1.5\n",
      " $ ancho          : num 1\n",
      " $ peso           : num 3\n",
      " $ unidades_peso  : chr \"Kg\"\n",
      " $ unidades_medida: chr \"m\"\n",
      " $ fabricacion    :List of 2\n",
      "  ..$ numeroserie: chr \"A1238656\"\n",
      "  ..$ origen     : chr \"Zamora\"\n"
     ]
    }
   ],
   "source": [
    "str(lista_medidas)"
   ]
  },
  {
   "cell_type": "code",
   "execution_count": 242,
   "metadata": {},
   "outputs": [
    {
     "data": {
      "text/html": [
       "1.5"
      ],
      "text/latex": [
       "1.5"
      ],
      "text/markdown": [
       "1.5"
      ],
      "text/plain": [
       "[1] 1.5"
      ]
     },
     "metadata": {},
     "output_type": "display_data"
    },
    {
     "data": {
      "text/html": [
       "1.5"
      ],
      "text/latex": [
       "1.5"
      ],
      "text/markdown": [
       "1.5"
      ],
      "text/plain": [
       "[1] 1.5"
      ]
     },
     "metadata": {},
     "output_type": "display_data"
    }
   ],
   "source": [
    "lista_medidas[[\"altura\"]]\n",
    "lista_medidas$al"
   ]
  },
  {
   "cell_type": "markdown",
   "metadata": {},
   "source": [
    "## Data Frame"
   ]
  },
  {
   "cell_type": "markdown",
   "metadata": {},
   "source": [
    "Conjunto de vectores de la misma longitud. Cada vector puede ser de un tipo diferente."
   ]
  },
  {
   "cell_type": "code",
   "execution_count": 244,
   "metadata": {},
   "outputs": [],
   "source": [
    "plt <- c(\"Bollo\",\"Palomitas\",\"Limón\",\"Ginebra\",\"Noodles\",\"Caramelo\",\"Patatas fritas\",\"Naranja\",\"Ternera\",\"Cerdo\",\"Sopa\")\n",
    "cal <-c(150,200,10,20,200,5,500,15,450,460,30)"
   ]
  },
  {
   "cell_type": "code",
   "execution_count": 245,
   "metadata": {},
   "outputs": [
    {
     "data": {
      "text/html": [
       "'Elemento 5 : Noodles - 200 cal'"
      ],
      "text/latex": [
       "'Elemento 5 : Noodles - 200 cal'"
      ],
      "text/markdown": [
       "'Elemento 5 : Noodles - 200 cal'"
      ],
      "text/plain": [
       "[1] \"Elemento 5 : Noodles - 200 cal\""
      ]
     },
     "metadata": {},
     "output_type": "display_data"
    }
   ],
   "source": [
    "idx<- 5 \n",
    "paste(\"Elemento\",idx,\":\",plt[idx],\"-\",cal[idx],\"cal\")"
   ]
  },
  {
   "cell_type": "code",
   "execution_count": 246,
   "metadata": {},
   "outputs": [
    {
     "data": {
      "text/html": [
       "<table>\n",
       "<caption>A data.frame: 11 × 3</caption>\n",
       "<thead>\n",
       "\t<tr><th scope=col>plato</th><th scope=col>calorias</th><th scope=col>sabor</th></tr>\n",
       "\t<tr><th scope=col>&lt;chr&gt;</th><th scope=col>&lt;dbl&gt;</th><th scope=col>&lt;chr&gt;</th></tr>\n",
       "</thead>\n",
       "<tbody>\n",
       "\t<tr><td>Bollo         </td><td>150</td><td>Dulce </td></tr>\n",
       "\t<tr><td>Palomitas     </td><td>200</td><td>Salado</td></tr>\n",
       "\t<tr><td>Limón         </td><td> 10</td><td>Ácido </td></tr>\n",
       "\t<tr><td>Ginebra       </td><td> 20</td><td>Amargo</td></tr>\n",
       "\t<tr><td>Noodles       </td><td>200</td><td>Umami </td></tr>\n",
       "\t<tr><td>Caramelo      </td><td>  5</td><td>Dulce </td></tr>\n",
       "\t<tr><td>Patatas fritas</td><td>500</td><td>Salado</td></tr>\n",
       "\t<tr><td>Naranja       </td><td> 15</td><td>Ácido </td></tr>\n",
       "\t<tr><td>Ternera       </td><td>450</td><td>Umami </td></tr>\n",
       "\t<tr><td>Cerdo         </td><td>460</td><td>Umami </td></tr>\n",
       "\t<tr><td>Sopa          </td><td> 30</td><td>Salado</td></tr>\n",
       "</tbody>\n",
       "</table>\n"
      ],
      "text/latex": [
       "A data.frame: 11 × 3\n",
       "\\begin{tabular}{r|lll}\n",
       " plato & calorias & sabor\\\\\n",
       " <chr> & <dbl> & <chr>\\\\\n",
       "\\hline\n",
       "\t Bollo          & 150 & Dulce \\\\\n",
       "\t Palomitas      & 200 & Salado\\\\\n",
       "\t Limón          &  10 & Ácido \\\\\n",
       "\t Ginebra        &  20 & Amargo\\\\\n",
       "\t Noodles        & 200 & Umami \\\\\n",
       "\t Caramelo       &   5 & Dulce \\\\\n",
       "\t Patatas fritas & 500 & Salado\\\\\n",
       "\t Naranja        &  15 & Ácido \\\\\n",
       "\t Ternera        & 450 & Umami \\\\\n",
       "\t Cerdo          & 460 & Umami \\\\\n",
       "\t Sopa           &  30 & Salado\\\\\n",
       "\\end{tabular}\n"
      ],
      "text/markdown": [
       "\n",
       "A data.frame: 11 × 3\n",
       "\n",
       "| plato &lt;chr&gt; | calorias &lt;dbl&gt; | sabor &lt;chr&gt; |\n",
       "|---|---|---|\n",
       "| Bollo          | 150 | Dulce  |\n",
       "| Palomitas      | 200 | Salado |\n",
       "| Limón          |  10 | Ácido  |\n",
       "| Ginebra        |  20 | Amargo |\n",
       "| Noodles        | 200 | Umami  |\n",
       "| Caramelo       |   5 | Dulce  |\n",
       "| Patatas fritas | 500 | Salado |\n",
       "| Naranja        |  15 | Ácido  |\n",
       "| Ternera        | 450 | Umami  |\n",
       "| Cerdo          | 460 | Umami  |\n",
       "| Sopa           |  30 | Salado |\n",
       "\n"
      ],
      "text/plain": [
       "   plato          calorias sabor \n",
       "1  Bollo          150      Dulce \n",
       "2  Palomitas      200      Salado\n",
       "3  Limón           10      Ácido \n",
       "4  Ginebra         20      Amargo\n",
       "5  Noodles        200      Umami \n",
       "6  Caramelo         5      Dulce \n",
       "7  Patatas fritas 500      Salado\n",
       "8  Naranja         15      Ácido \n",
       "9  Ternera        450      Umami \n",
       "10 Cerdo          460      Umami \n",
       "11 Sopa            30      Salado"
      ]
     },
     "metadata": {},
     "output_type": "display_data"
    }
   ],
   "source": [
    "comidas<-data.frame(plato=plt, calorias=cal, sabor=saboresDePlatos, stringsAsFactors = F)\n",
    "comidas"
   ]
  },
  {
   "cell_type": "code",
   "execution_count": 247,
   "metadata": {},
   "outputs": [
    {
     "name": "stdout",
     "output_type": "stream",
     "text": [
      "'data.frame':\t11 obs. of  3 variables:\n",
      " $ plato   : chr  \"Bollo\" \"Palomitas\" \"Limón\" \"Ginebra\" ...\n",
      " $ calorias: num  150 200 10 20 200 5 500 15 450 460 ...\n",
      " $ sabor   : chr  \"Dulce\" \"Salado\" \"Ácido\" \"Amargo\" ...\n"
     ]
    }
   ],
   "source": [
    "str(comidas)"
   ]
  },
  {
   "cell_type": "markdown",
   "metadata": {},
   "source": [
    "### Acceso a elementos de un data frame"
   ]
  },
  {
   "cell_type": "markdown",
   "metadata": {},
   "source": [
    "Acceso por filas:"
   ]
  },
  {
   "cell_type": "code",
   "execution_count": 248,
   "metadata": {},
   "outputs": [
    {
     "data": {
      "text/html": [
       "<table>\n",
       "<caption>A data.frame: 2 × 3</caption>\n",
       "<thead>\n",
       "\t<tr><th></th><th scope=col>plato</th><th scope=col>calorias</th><th scope=col>sabor</th></tr>\n",
       "\t<tr><th></th><th scope=col>&lt;chr&gt;</th><th scope=col>&lt;dbl&gt;</th><th scope=col>&lt;chr&gt;</th></tr>\n",
       "</thead>\n",
       "<tbody>\n",
       "\t<tr><th scope=row>2</th><td>Palomitas</td><td>200</td><td>Salado</td></tr>\n",
       "\t<tr><th scope=row>3</th><td>Limón    </td><td> 10</td><td>Ácido </td></tr>\n",
       "</tbody>\n",
       "</table>\n"
      ],
      "text/latex": [
       "A data.frame: 2 × 3\n",
       "\\begin{tabular}{r|lll}\n",
       "  & plato & calorias & sabor\\\\\n",
       "  & <chr> & <dbl> & <chr>\\\\\n",
       "\\hline\n",
       "\t2 & Palomitas & 200 & Salado\\\\\n",
       "\t3 & Limón     &  10 & Ácido \\\\\n",
       "\\end{tabular}\n"
      ],
      "text/markdown": [
       "\n",
       "A data.frame: 2 × 3\n",
       "\n",
       "| <!--/--> | plato &lt;chr&gt; | calorias &lt;dbl&gt; | sabor &lt;chr&gt; |\n",
       "|---|---|---|---|\n",
       "| 2 | Palomitas | 200 | Salado |\n",
       "| 3 | Limón     |  10 | Ácido  |\n",
       "\n"
      ],
      "text/plain": [
       "  plato     calorias sabor \n",
       "2 Palomitas 200      Salado\n",
       "3 Limón      10      Ácido "
      ]
     },
     "metadata": {},
     "output_type": "display_data"
    }
   ],
   "source": [
    "comidas[2:3,]"
   ]
  },
  {
   "cell_type": "code",
   "execution_count": 249,
   "metadata": {},
   "outputs": [
    {
     "data": {
      "text/html": [
       "<table>\n",
       "<caption>A data.frame: 6 × 3</caption>\n",
       "<thead>\n",
       "\t<tr><th></th><th scope=col>plato</th><th scope=col>calorias</th><th scope=col>sabor</th></tr>\n",
       "\t<tr><th></th><th scope=col>&lt;chr&gt;</th><th scope=col>&lt;dbl&gt;</th><th scope=col>&lt;chr&gt;</th></tr>\n",
       "</thead>\n",
       "<tbody>\n",
       "\t<tr><th scope=row>2</th><td>Palomitas     </td><td>200</td><td>Salado</td></tr>\n",
       "\t<tr><th scope=row>4</th><td>Ginebra       </td><td> 20</td><td>Amargo</td></tr>\n",
       "\t<tr><th scope=row>6</th><td>Caramelo      </td><td>  5</td><td>Dulce </td></tr>\n",
       "\t<tr><th scope=row>7</th><td>Patatas fritas</td><td>500</td><td>Salado</td></tr>\n",
       "\t<tr><th scope=row>8</th><td>Naranja       </td><td> 15</td><td>Ácido </td></tr>\n",
       "\t<tr><th scope=row>9</th><td>Ternera       </td><td>450</td><td>Umami </td></tr>\n",
       "</tbody>\n",
       "</table>\n"
      ],
      "text/latex": [
       "A data.frame: 6 × 3\n",
       "\\begin{tabular}{r|lll}\n",
       "  & plato & calorias & sabor\\\\\n",
       "  & <chr> & <dbl> & <chr>\\\\\n",
       "\\hline\n",
       "\t2 & Palomitas      & 200 & Salado\\\\\n",
       "\t4 & Ginebra        &  20 & Amargo\\\\\n",
       "\t6 & Caramelo       &   5 & Dulce \\\\\n",
       "\t7 & Patatas fritas & 500 & Salado\\\\\n",
       "\t8 & Naranja        &  15 & Ácido \\\\\n",
       "\t9 & Ternera        & 450 & Umami \\\\\n",
       "\\end{tabular}\n"
      ],
      "text/markdown": [
       "\n",
       "A data.frame: 6 × 3\n",
       "\n",
       "| <!--/--> | plato &lt;chr&gt; | calorias &lt;dbl&gt; | sabor &lt;chr&gt; |\n",
       "|---|---|---|---|\n",
       "| 2 | Palomitas      | 200 | Salado |\n",
       "| 4 | Ginebra        |  20 | Amargo |\n",
       "| 6 | Caramelo       |   5 | Dulce  |\n",
       "| 7 | Patatas fritas | 500 | Salado |\n",
       "| 8 | Naranja        |  15 | Ácido  |\n",
       "| 9 | Ternera        | 450 | Umami  |\n",
       "\n"
      ],
      "text/plain": [
       "  plato          calorias sabor \n",
       "2 Palomitas      200      Salado\n",
       "4 Ginebra         20      Amargo\n",
       "6 Caramelo         5      Dulce \n",
       "7 Patatas fritas 500      Salado\n",
       "8 Naranja         15      Ácido \n",
       "9 Ternera        450      Umami "
      ]
     },
     "metadata": {},
     "output_type": "display_data"
    }
   ],
   "source": [
    "comidas[c(-1,-3,-5,-10,-11),]"
   ]
  },
  {
   "cell_type": "markdown",
   "metadata": {},
   "source": [
    "Acceso por columnas:"
   ]
  },
  {
   "cell_type": "code",
   "execution_count": 250,
   "metadata": {},
   "outputs": [
    {
     "data": {
      "text/html": [
       "<table>\n",
       "<caption>A data.frame: 11 × 2</caption>\n",
       "<thead>\n",
       "\t<tr><th scope=col>plato</th><th scope=col>calorias</th></tr>\n",
       "\t<tr><th scope=col>&lt;chr&gt;</th><th scope=col>&lt;dbl&gt;</th></tr>\n",
       "</thead>\n",
       "<tbody>\n",
       "\t<tr><td>Bollo         </td><td>150</td></tr>\n",
       "\t<tr><td>Palomitas     </td><td>200</td></tr>\n",
       "\t<tr><td>Limón         </td><td> 10</td></tr>\n",
       "\t<tr><td>Ginebra       </td><td> 20</td></tr>\n",
       "\t<tr><td>Noodles       </td><td>200</td></tr>\n",
       "\t<tr><td>Caramelo      </td><td>  5</td></tr>\n",
       "\t<tr><td>Patatas fritas</td><td>500</td></tr>\n",
       "\t<tr><td>Naranja       </td><td> 15</td></tr>\n",
       "\t<tr><td>Ternera       </td><td>450</td></tr>\n",
       "\t<tr><td>Cerdo         </td><td>460</td></tr>\n",
       "\t<tr><td>Sopa          </td><td> 30</td></tr>\n",
       "</tbody>\n",
       "</table>\n"
      ],
      "text/latex": [
       "A data.frame: 11 × 2\n",
       "\\begin{tabular}{r|ll}\n",
       " plato & calorias\\\\\n",
       " <chr> & <dbl>\\\\\n",
       "\\hline\n",
       "\t Bollo          & 150\\\\\n",
       "\t Palomitas      & 200\\\\\n",
       "\t Limón          &  10\\\\\n",
       "\t Ginebra        &  20\\\\\n",
       "\t Noodles        & 200\\\\\n",
       "\t Caramelo       &   5\\\\\n",
       "\t Patatas fritas & 500\\\\\n",
       "\t Naranja        &  15\\\\\n",
       "\t Ternera        & 450\\\\\n",
       "\t Cerdo          & 460\\\\\n",
       "\t Sopa           &  30\\\\\n",
       "\\end{tabular}\n"
      ],
      "text/markdown": [
       "\n",
       "A data.frame: 11 × 2\n",
       "\n",
       "| plato &lt;chr&gt; | calorias &lt;dbl&gt; |\n",
       "|---|---|\n",
       "| Bollo          | 150 |\n",
       "| Palomitas      | 200 |\n",
       "| Limón          |  10 |\n",
       "| Ginebra        |  20 |\n",
       "| Noodles        | 200 |\n",
       "| Caramelo       |   5 |\n",
       "| Patatas fritas | 500 |\n",
       "| Naranja        |  15 |\n",
       "| Ternera        | 450 |\n",
       "| Cerdo          | 460 |\n",
       "| Sopa           |  30 |\n",
       "\n"
      ],
      "text/plain": [
       "   plato          calorias\n",
       "1  Bollo          150     \n",
       "2  Palomitas      200     \n",
       "3  Limón           10     \n",
       "4  Ginebra         20     \n",
       "5  Noodles        200     \n",
       "6  Caramelo         5     \n",
       "7  Patatas fritas 500     \n",
       "8  Naranja         15     \n",
       "9  Ternera        450     \n",
       "10 Cerdo          460     \n",
       "11 Sopa            30     "
      ]
     },
     "metadata": {},
     "output_type": "display_data"
    }
   ],
   "source": [
    "comidas[,c(\"plato\",\"calorias\")]"
   ]
  },
  {
   "cell_type": "markdown",
   "metadata": {},
   "source": [
    "Se puede usar el símbolo **$** para acceder a una columna.  \n",
    "Las siguientes dos llamadas son equivalentes:"
   ]
  },
  {
   "cell_type": "code",
   "execution_count": 255,
   "metadata": {},
   "outputs": [
    {
     "data": {
      "text/html": [
       "<ol class=list-inline>\n",
       "\t<li>'Bollo'</li>\n",
       "\t<li>'Palomitas'</li>\n",
       "\t<li>'Limón'</li>\n",
       "\t<li>'Ginebra'</li>\n",
       "\t<li>'Noodles'</li>\n",
       "\t<li>'Caramelo'</li>\n",
       "\t<li>'Patatas fritas'</li>\n",
       "\t<li>'Naranja'</li>\n",
       "\t<li>'Ternera'</li>\n",
       "\t<li>'Cerdo'</li>\n",
       "\t<li>'Sopa'</li>\n",
       "</ol>\n"
      ],
      "text/latex": [
       "\\begin{enumerate*}\n",
       "\\item 'Bollo'\n",
       "\\item 'Palomitas'\n",
       "\\item 'Limón'\n",
       "\\item 'Ginebra'\n",
       "\\item 'Noodles'\n",
       "\\item 'Caramelo'\n",
       "\\item 'Patatas fritas'\n",
       "\\item 'Naranja'\n",
       "\\item 'Ternera'\n",
       "\\item 'Cerdo'\n",
       "\\item 'Sopa'\n",
       "\\end{enumerate*}\n"
      ],
      "text/markdown": [
       "1. 'Bollo'\n",
       "2. 'Palomitas'\n",
       "3. 'Limón'\n",
       "4. 'Ginebra'\n",
       "5. 'Noodles'\n",
       "6. 'Caramelo'\n",
       "7. 'Patatas fritas'\n",
       "8. 'Naranja'\n",
       "9. 'Ternera'\n",
       "10. 'Cerdo'\n",
       "11. 'Sopa'\n",
       "\n",
       "\n"
      ],
      "text/plain": [
       " [1] \"Bollo\"          \"Palomitas\"      \"Limón\"          \"Ginebra\"       \n",
       " [5] \"Noodles\"        \"Caramelo\"       \"Patatas fritas\" \"Naranja\"       \n",
       " [9] \"Ternera\"        \"Cerdo\"          \"Sopa\"          "
      ]
     },
     "metadata": {},
     "output_type": "display_data"
    }
   ],
   "source": [
    "comidas$plato"
   ]
  },
  {
   "cell_type": "code",
   "execution_count": 252,
   "metadata": {},
   "outputs": [
    {
     "data": {
      "text/html": [
       "<ol class=list-inline>\n",
       "\t<li>'Bollo'</li>\n",
       "\t<li>'Palomitas'</li>\n",
       "\t<li>'Limón'</li>\n",
       "\t<li>'Ginebra'</li>\n",
       "\t<li>'Noodles'</li>\n",
       "\t<li>'Caramelo'</li>\n",
       "\t<li>'Patatas fritas'</li>\n",
       "\t<li>'Naranja'</li>\n",
       "\t<li>'Ternera'</li>\n",
       "\t<li>'Cerdo'</li>\n",
       "\t<li>'Sopa'</li>\n",
       "</ol>\n"
      ],
      "text/latex": [
       "\\begin{enumerate*}\n",
       "\\item 'Bollo'\n",
       "\\item 'Palomitas'\n",
       "\\item 'Limón'\n",
       "\\item 'Ginebra'\n",
       "\\item 'Noodles'\n",
       "\\item 'Caramelo'\n",
       "\\item 'Patatas fritas'\n",
       "\\item 'Naranja'\n",
       "\\item 'Ternera'\n",
       "\\item 'Cerdo'\n",
       "\\item 'Sopa'\n",
       "\\end{enumerate*}\n"
      ],
      "text/markdown": [
       "1. 'Bollo'\n",
       "2. 'Palomitas'\n",
       "3. 'Limón'\n",
       "4. 'Ginebra'\n",
       "5. 'Noodles'\n",
       "6. 'Caramelo'\n",
       "7. 'Patatas fritas'\n",
       "8. 'Naranja'\n",
       "9. 'Ternera'\n",
       "10. 'Cerdo'\n",
       "11. 'Sopa'\n",
       "\n",
       "\n"
      ],
      "text/plain": [
       " [1] \"Bollo\"          \"Palomitas\"      \"Limón\"          \"Ginebra\"       \n",
       " [5] \"Noodles\"        \"Caramelo\"       \"Patatas fritas\" \"Naranja\"       \n",
       " [9] \"Ternera\"        \"Cerdo\"          \"Sopa\"          "
      ]
     },
     "metadata": {},
     "output_type": "display_data"
    }
   ],
   "source": [
    "comidas[,\"plato\"]"
   ]
  },
  {
   "cell_type": "code",
   "execution_count": 253,
   "metadata": {},
   "outputs": [
    {
     "data": {
      "text/html": [
       "<ol class=list-inline>\n",
       "\t<li>'Bollo'</li>\n",
       "\t<li>'Palomitas'</li>\n",
       "\t<li>'Limón'</li>\n",
       "\t<li>'Ginebra'</li>\n",
       "\t<li>'Noodles'</li>\n",
       "\t<li>'Caramelo'</li>\n",
       "\t<li>'Patatas fritas'</li>\n",
       "\t<li>'Naranja'</li>\n",
       "\t<li>'Ternera'</li>\n",
       "\t<li>'Cerdo'</li>\n",
       "\t<li>'Sopa'</li>\n",
       "</ol>\n"
      ],
      "text/latex": [
       "\\begin{enumerate*}\n",
       "\\item 'Bollo'\n",
       "\\item 'Palomitas'\n",
       "\\item 'Limón'\n",
       "\\item 'Ginebra'\n",
       "\\item 'Noodles'\n",
       "\\item 'Caramelo'\n",
       "\\item 'Patatas fritas'\n",
       "\\item 'Naranja'\n",
       "\\item 'Ternera'\n",
       "\\item 'Cerdo'\n",
       "\\item 'Sopa'\n",
       "\\end{enumerate*}\n"
      ],
      "text/markdown": [
       "1. 'Bollo'\n",
       "2. 'Palomitas'\n",
       "3. 'Limón'\n",
       "4. 'Ginebra'\n",
       "5. 'Noodles'\n",
       "6. 'Caramelo'\n",
       "7. 'Patatas fritas'\n",
       "8. 'Naranja'\n",
       "9. 'Ternera'\n",
       "10. 'Cerdo'\n",
       "11. 'Sopa'\n",
       "\n",
       "\n"
      ],
      "text/plain": [
       " [1] \"Bollo\"          \"Palomitas\"      \"Limón\"          \"Ginebra\"       \n",
       " [5] \"Noodles\"        \"Caramelo\"       \"Patatas fritas\" \"Naranja\"       \n",
       " [9] \"Ternera\"        \"Cerdo\"          \"Sopa\"          "
      ]
     },
     "metadata": {},
     "output_type": "display_data"
    }
   ],
   "source": [
    "comidas[,1]"
   ]
  },
  {
   "cell_type": "code",
   "execution_count": 258,
   "metadata": {},
   "outputs": [
    {
     "data": {
      "text/html": [
       "<ol class=list-inline>\n",
       "\t<li>'Dulce'</li>\n",
       "\t<li>'Salado'</li>\n",
       "\t<li>'Ácido'</li>\n",
       "\t<li>'Amargo'</li>\n",
       "\t<li>'Umami'</li>\n",
       "\t<li>'Dulce'</li>\n",
       "\t<li>'Salado'</li>\n",
       "\t<li>'Ácido'</li>\n",
       "\t<li>'Umami'</li>\n",
       "\t<li>'Umami'</li>\n",
       "\t<li>'Salado'</li>\n",
       "</ol>\n"
      ],
      "text/latex": [
       "\\begin{enumerate*}\n",
       "\\item 'Dulce'\n",
       "\\item 'Salado'\n",
       "\\item 'Ácido'\n",
       "\\item 'Amargo'\n",
       "\\item 'Umami'\n",
       "\\item 'Dulce'\n",
       "\\item 'Salado'\n",
       "\\item 'Ácido'\n",
       "\\item 'Umami'\n",
       "\\item 'Umami'\n",
       "\\item 'Salado'\n",
       "\\end{enumerate*}\n"
      ],
      "text/markdown": [
       "1. 'Dulce'\n",
       "2. 'Salado'\n",
       "3. 'Ácido'\n",
       "4. 'Amargo'\n",
       "5. 'Umami'\n",
       "6. 'Dulce'\n",
       "7. 'Salado'\n",
       "8. 'Ácido'\n",
       "9. 'Umami'\n",
       "10. 'Umami'\n",
       "11. 'Salado'\n",
       "\n",
       "\n"
      ],
      "text/plain": [
       " [1] \"Dulce\"  \"Salado\" \"Ácido\"  \"Amargo\" \"Umami\"  \"Dulce\"  \"Salado\" \"Ácido\" \n",
       " [9] \"Umami\"  \"Umami\"  \"Salado\""
      ]
     },
     "metadata": {},
     "output_type": "display_data"
    }
   ],
   "source": [
    "comidas[,c(-1,-2)]"
   ]
  },
  {
   "cell_type": "code",
   "execution_count": 259,
   "metadata": {},
   "outputs": [
    {
     "data": {
      "text/html": [
       "<ol class=list-inline>\n",
       "\t<li>'Palomitas'</li>\n",
       "\t<li>'Limón'</li>\n",
       "</ol>\n"
      ],
      "text/latex": [
       "\\begin{enumerate*}\n",
       "\\item 'Palomitas'\n",
       "\\item 'Limón'\n",
       "\\end{enumerate*}\n"
      ],
      "text/markdown": [
       "1. 'Palomitas'\n",
       "2. 'Limón'\n",
       "\n",
       "\n"
      ],
      "text/plain": [
       "[1] \"Palomitas\" \"Limón\"    "
      ]
     },
     "metadata": {},
     "output_type": "display_data"
    }
   ],
   "source": [
    "comidas$plato[2:3]"
   ]
  },
  {
   "cell_type": "code",
   "execution_count": 262,
   "metadata": {},
   "outputs": [
    {
     "data": {
      "text/html": [
       "<ol class=list-inline>\n",
       "\t<li>'Palomitas'</li>\n",
       "\t<li>'Limón'</li>\n",
       "</ol>\n"
      ],
      "text/latex": [
       "\\begin{enumerate*}\n",
       "\\item 'Palomitas'\n",
       "\\item 'Limón'\n",
       "\\end{enumerate*}\n"
      ],
      "text/markdown": [
       "1. 'Palomitas'\n",
       "2. 'Limón'\n",
       "\n",
       "\n"
      ],
      "text/plain": [
       "[1] \"Palomitas\" \"Limón\"    "
      ]
     },
     "metadata": {},
     "output_type": "display_data"
    }
   ],
   "source": [
    "comidas[2:3,c(\"plato\")]"
   ]
  },
  {
   "cell_type": "code",
   "execution_count": 267,
   "metadata": {},
   "outputs": [
    {
     "data": {
      "text/html": [
       "<ol class=list-inline>\n",
       "\t<li>'plato'</li>\n",
       "\t<li>'calorias'</li>\n",
       "\t<li>'sabor'</li>\n",
       "</ol>\n"
      ],
      "text/latex": [
       "\\begin{enumerate*}\n",
       "\\item 'plato'\n",
       "\\item 'calorias'\n",
       "\\item 'sabor'\n",
       "\\end{enumerate*}\n"
      ],
      "text/markdown": [
       "1. 'plato'\n",
       "2. 'calorias'\n",
       "3. 'sabor'\n",
       "\n",
       "\n"
      ],
      "text/plain": [
       "[1] \"plato\"    \"calorias\" \"sabor\"   "
      ]
     },
     "metadata": {},
     "output_type": "display_data"
    },
    {
     "data": {
      "text/html": [
       "<ol class=list-inline>\n",
       "\t<li>'1'</li>\n",
       "\t<li>'2'</li>\n",
       "\t<li>'3'</li>\n",
       "\t<li>'4'</li>\n",
       "\t<li>'5'</li>\n",
       "\t<li>'6'</li>\n",
       "\t<li>'7'</li>\n",
       "\t<li>'8'</li>\n",
       "\t<li>'9'</li>\n",
       "\t<li>'10'</li>\n",
       "\t<li>'11'</li>\n",
       "</ol>\n"
      ],
      "text/latex": [
       "\\begin{enumerate*}\n",
       "\\item '1'\n",
       "\\item '2'\n",
       "\\item '3'\n",
       "\\item '4'\n",
       "\\item '5'\n",
       "\\item '6'\n",
       "\\item '7'\n",
       "\\item '8'\n",
       "\\item '9'\n",
       "\\item '10'\n",
       "\\item '11'\n",
       "\\end{enumerate*}\n"
      ],
      "text/markdown": [
       "1. '1'\n",
       "2. '2'\n",
       "3. '3'\n",
       "4. '4'\n",
       "5. '5'\n",
       "6. '6'\n",
       "7. '7'\n",
       "8. '8'\n",
       "9. '9'\n",
       "10. '10'\n",
       "11. '11'\n",
       "\n",
       "\n"
      ],
      "text/plain": [
       " [1] \"1\"  \"2\"  \"3\"  \"4\"  \"5\"  \"6\"  \"7\"  \"8\"  \"9\"  \"10\" \"11\""
      ]
     },
     "metadata": {},
     "output_type": "display_data"
    }
   ],
   "source": [
    "colnames(comidas)\n",
    "rownames(comidas)"
   ]
  },
  {
   "cell_type": "markdown",
   "metadata": {},
   "source": [
    "Número de filas que tiene un dataframe:"
   ]
  },
  {
   "cell_type": "code",
   "execution_count": 271,
   "metadata": {},
   "outputs": [
    {
     "data": {
      "text/html": [
       "11"
      ],
      "text/latex": [
       "11"
      ],
      "text/markdown": [
       "11"
      ],
      "text/plain": [
       "[1] 11"
      ]
     },
     "metadata": {},
     "output_type": "display_data"
    }
   ],
   "source": [
    "nrow(comidas)"
   ]
  },
  {
   "cell_type": "markdown",
   "metadata": {},
   "source": [
    "Número de columnasa de un dataframe:"
   ]
  },
  {
   "cell_type": "code",
   "execution_count": 273,
   "metadata": {},
   "outputs": [
    {
     "data": {
      "text/html": [
       "3"
      ],
      "text/latex": [
       "3"
      ],
      "text/markdown": [
       "3"
      ],
      "text/plain": [
       "[1] 3"
      ]
     },
     "metadata": {},
     "output_type": "display_data"
    }
   ],
   "source": [
    "ncol(comidas)"
   ]
  },
  {
   "cell_type": "markdown",
   "metadata": {},
   "source": [
    "También podemos dar nombres a las filas"
   ]
  },
  {
   "cell_type": "code",
   "execution_count": 274,
   "metadata": {},
   "outputs": [
    {
     "data": {
      "text/html": [
       "<table>\n",
       "<caption>A data.frame: 11 × 3</caption>\n",
       "<thead>\n",
       "\t<tr><th></th><th scope=col>plato</th><th scope=col>calorias</th><th scope=col>sabor</th></tr>\n",
       "\t<tr><th></th><th scope=col>&lt;chr&gt;</th><th scope=col>&lt;dbl&gt;</th><th scope=col>&lt;chr&gt;</th></tr>\n",
       "</thead>\n",
       "<tbody>\n",
       "\t<tr><th scope=row>comida1</th><td>Bollo         </td><td>150</td><td>Dulce </td></tr>\n",
       "\t<tr><th scope=row>comida2</th><td>Palomitas     </td><td>200</td><td>Salado</td></tr>\n",
       "\t<tr><th scope=row>comida3</th><td>Limón         </td><td> 10</td><td>Ácido </td></tr>\n",
       "\t<tr><th scope=row>comida4</th><td>Ginebra       </td><td> 20</td><td>Amargo</td></tr>\n",
       "\t<tr><th scope=row>comida5</th><td>Noodles       </td><td>200</td><td>Umami </td></tr>\n",
       "\t<tr><th scope=row>comida6</th><td>Caramelo      </td><td>  5</td><td>Dulce </td></tr>\n",
       "\t<tr><th scope=row>comida7</th><td>Patatas fritas</td><td>500</td><td>Salado</td></tr>\n",
       "\t<tr><th scope=row>comida8</th><td>Naranja       </td><td> 15</td><td>Ácido </td></tr>\n",
       "\t<tr><th scope=row>comida9</th><td>Ternera       </td><td>450</td><td>Umami </td></tr>\n",
       "\t<tr><th scope=row>comida10</th><td>Cerdo         </td><td>460</td><td>Umami </td></tr>\n",
       "\t<tr><th scope=row>comida11</th><td>Sopa          </td><td> 30</td><td>Salado</td></tr>\n",
       "</tbody>\n",
       "</table>\n"
      ],
      "text/latex": [
       "A data.frame: 11 × 3\n",
       "\\begin{tabular}{r|lll}\n",
       "  & plato & calorias & sabor\\\\\n",
       "  & <chr> & <dbl> & <chr>\\\\\n",
       "\\hline\n",
       "\tcomida1 & Bollo          & 150 & Dulce \\\\\n",
       "\tcomida2 & Palomitas      & 200 & Salado\\\\\n",
       "\tcomida3 & Limón          &  10 & Ácido \\\\\n",
       "\tcomida4 & Ginebra        &  20 & Amargo\\\\\n",
       "\tcomida5 & Noodles        & 200 & Umami \\\\\n",
       "\tcomida6 & Caramelo       &   5 & Dulce \\\\\n",
       "\tcomida7 & Patatas fritas & 500 & Salado\\\\\n",
       "\tcomida8 & Naranja        &  15 & Ácido \\\\\n",
       "\tcomida9 & Ternera        & 450 & Umami \\\\\n",
       "\tcomida10 & Cerdo          & 460 & Umami \\\\\n",
       "\tcomida11 & Sopa           &  30 & Salado\\\\\n",
       "\\end{tabular}\n"
      ],
      "text/markdown": [
       "\n",
       "A data.frame: 11 × 3\n",
       "\n",
       "| <!--/--> | plato &lt;chr&gt; | calorias &lt;dbl&gt; | sabor &lt;chr&gt; |\n",
       "|---|---|---|---|\n",
       "| comida1 | Bollo          | 150 | Dulce  |\n",
       "| comida2 | Palomitas      | 200 | Salado |\n",
       "| comida3 | Limón          |  10 | Ácido  |\n",
       "| comida4 | Ginebra        |  20 | Amargo |\n",
       "| comida5 | Noodles        | 200 | Umami  |\n",
       "| comida6 | Caramelo       |   5 | Dulce  |\n",
       "| comida7 | Patatas fritas | 500 | Salado |\n",
       "| comida8 | Naranja        |  15 | Ácido  |\n",
       "| comida9 | Ternera        | 450 | Umami  |\n",
       "| comida10 | Cerdo          | 460 | Umami  |\n",
       "| comida11 | Sopa           |  30 | Salado |\n",
       "\n"
      ],
      "text/plain": [
       "         plato          calorias sabor \n",
       "comida1  Bollo          150      Dulce \n",
       "comida2  Palomitas      200      Salado\n",
       "comida3  Limón           10      Ácido \n",
       "comida4  Ginebra         20      Amargo\n",
       "comida5  Noodles        200      Umami \n",
       "comida6  Caramelo         5      Dulce \n",
       "comida7  Patatas fritas 500      Salado\n",
       "comida8  Naranja         15      Ácido \n",
       "comida9  Ternera        450      Umami \n",
       "comida10 Cerdo          460      Umami \n",
       "comida11 Sopa            30      Salado"
      ]
     },
     "metadata": {},
     "output_type": "display_data"
    }
   ],
   "source": [
    "rownames(comidas)<-paste0(\"comida\",1:nrow(comidas))\n",
    "comidas"
   ]
  },
  {
   "cell_type": "code",
   "execution_count": 275,
   "metadata": {},
   "outputs": [
    {
     "data": {
      "text/html": [
       "200"
      ],
      "text/latex": [
       "200"
      ],
      "text/markdown": [
       "200"
      ],
      "text/plain": [
       "[1] 200"
      ]
     },
     "metadata": {},
     "output_type": "display_data"
    }
   ],
   "source": [
    "comidas[\"comida5\",\"calorias\"]"
   ]
  },
  {
   "cell_type": "code",
   "execution_count": 276,
   "metadata": {},
   "outputs": [
    {
     "data": {
      "text/html": [
       "200"
      ],
      "text/latex": [
       "200"
      ],
      "text/markdown": [
       "200"
      ],
      "text/plain": [
       "[1] 200"
      ]
     },
     "metadata": {},
     "output_type": "display_data"
    }
   ],
   "source": [
    "comidas[5,\"calorias\"]"
   ]
  },
  {
   "cell_type": "code",
   "execution_count": 277,
   "metadata": {},
   "outputs": [
    {
     "data": {
      "text/html": [
       "<table>\n",
       "<caption>A data.frame: 2 × 3</caption>\n",
       "<thead>\n",
       "\t<tr><th></th><th scope=col>sabor</th><th scope=col>calorias</th><th scope=col>plato</th></tr>\n",
       "\t<tr><th></th><th scope=col>&lt;chr&gt;</th><th scope=col>&lt;dbl&gt;</th><th scope=col>&lt;chr&gt;</th></tr>\n",
       "</thead>\n",
       "<tbody>\n",
       "\t<tr><th scope=row>comida4</th><td>Amargo</td><td> 20</td><td>Ginebra  </td></tr>\n",
       "\t<tr><th scope=row>comida2</th><td>Salado</td><td>200</td><td>Palomitas</td></tr>\n",
       "</tbody>\n",
       "</table>\n"
      ],
      "text/latex": [
       "A data.frame: 2 × 3\n",
       "\\begin{tabular}{r|lll}\n",
       "  & sabor & calorias & plato\\\\\n",
       "  & <chr> & <dbl> & <chr>\\\\\n",
       "\\hline\n",
       "\tcomida4 & Amargo &  20 & Ginebra  \\\\\n",
       "\tcomida2 & Salado & 200 & Palomitas\\\\\n",
       "\\end{tabular}\n"
      ],
      "text/markdown": [
       "\n",
       "A data.frame: 2 × 3\n",
       "\n",
       "| <!--/--> | sabor &lt;chr&gt; | calorias &lt;dbl&gt; | plato &lt;chr&gt; |\n",
       "|---|---|---|---|\n",
       "| comida4 | Amargo |  20 | Ginebra   |\n",
       "| comida2 | Salado | 200 | Palomitas |\n",
       "\n"
      ],
      "text/plain": [
       "        sabor  calorias plato    \n",
       "comida4 Amargo  20      Ginebra  \n",
       "comida2 Salado 200      Palomitas"
      ]
     },
     "metadata": {},
     "output_type": "display_data"
    }
   ],
   "source": [
    "comidas[c(4,2),c(3,2,1)]"
   ]
  },
  {
   "cell_type": "markdown",
   "metadata": {},
   "source": [
    "El nombre de las columnas y de las filas se puede obtener y modificar con las funciones **colnames()** y **rownames()**."
   ]
  },
  {
   "cell_type": "code",
   "execution_count": 278,
   "metadata": {},
   "outputs": [
    {
     "data": {
      "text/html": [
       "<ol class=list-inline>\n",
       "\t<li>'plato'</li>\n",
       "\t<li>'calorias'</li>\n",
       "\t<li>'sabor'</li>\n",
       "</ol>\n"
      ],
      "text/latex": [
       "\\begin{enumerate*}\n",
       "\\item 'plato'\n",
       "\\item 'calorias'\n",
       "\\item 'sabor'\n",
       "\\end{enumerate*}\n"
      ],
      "text/markdown": [
       "1. 'plato'\n",
       "2. 'calorias'\n",
       "3. 'sabor'\n",
       "\n",
       "\n"
      ],
      "text/plain": [
       "[1] \"plato\"    \"calorias\" \"sabor\"   "
      ]
     },
     "metadata": {},
     "output_type": "display_data"
    },
    {
     "data": {
      "text/html": [
       "<ol class=list-inline>\n",
       "\t<li>'comida1'</li>\n",
       "\t<li>'comida2'</li>\n",
       "\t<li>'comida3'</li>\n",
       "\t<li>'comida4'</li>\n",
       "\t<li>'comida5'</li>\n",
       "\t<li>'comida6'</li>\n",
       "\t<li>'comida7'</li>\n",
       "\t<li>'comida8'</li>\n",
       "\t<li>'comida9'</li>\n",
       "\t<li>'comida10'</li>\n",
       "\t<li>'comida11'</li>\n",
       "</ol>\n"
      ],
      "text/latex": [
       "\\begin{enumerate*}\n",
       "\\item 'comida1'\n",
       "\\item 'comida2'\n",
       "\\item 'comida3'\n",
       "\\item 'comida4'\n",
       "\\item 'comida5'\n",
       "\\item 'comida6'\n",
       "\\item 'comida7'\n",
       "\\item 'comida8'\n",
       "\\item 'comida9'\n",
       "\\item 'comida10'\n",
       "\\item 'comida11'\n",
       "\\end{enumerate*}\n"
      ],
      "text/markdown": [
       "1. 'comida1'\n",
       "2. 'comida2'\n",
       "3. 'comida3'\n",
       "4. 'comida4'\n",
       "5. 'comida5'\n",
       "6. 'comida6'\n",
       "7. 'comida7'\n",
       "8. 'comida8'\n",
       "9. 'comida9'\n",
       "10. 'comida10'\n",
       "11. 'comida11'\n",
       "\n",
       "\n"
      ],
      "text/plain": [
       " [1] \"comida1\"  \"comida2\"  \"comida3\"  \"comida4\"  \"comida5\"  \"comida6\" \n",
       " [7] \"comida7\"  \"comida8\"  \"comida9\"  \"comida10\" \"comida11\""
      ]
     },
     "metadata": {},
     "output_type": "display_data"
    }
   ],
   "source": [
    "colnames(comidas)\n",
    "rownames(comidas)"
   ]
  },
  {
   "cell_type": "markdown",
   "metadata": {},
   "source": [
    "### Dataset con variable categoricas "
   ]
  },
  {
   "cell_type": "code",
   "execution_count": 279,
   "metadata": {},
   "outputs": [
    {
     "data": {
      "text/html": [
       "<table>\n",
       "<caption>A data.frame: 11 × 3</caption>\n",
       "<thead>\n",
       "\t<tr><th scope=col>plato</th><th scope=col>calorias</th><th scope=col>sabor</th></tr>\n",
       "\t<tr><th scope=col>&lt;fct&gt;</th><th scope=col>&lt;dbl&gt;</th><th scope=col>&lt;fct&gt;</th></tr>\n",
       "</thead>\n",
       "<tbody>\n",
       "\t<tr><td>Bollo         </td><td>150</td><td>Dulce </td></tr>\n",
       "\t<tr><td>Palomitas     </td><td>200</td><td>Salado</td></tr>\n",
       "\t<tr><td>Limón         </td><td> 10</td><td>Ácido </td></tr>\n",
       "\t<tr><td>Ginebra       </td><td> 20</td><td>Amargo</td></tr>\n",
       "\t<tr><td>Noodles       </td><td>200</td><td>Umami </td></tr>\n",
       "\t<tr><td>Caramelo      </td><td>  5</td><td>Dulce </td></tr>\n",
       "\t<tr><td>Patatas fritas</td><td>500</td><td>Salado</td></tr>\n",
       "\t<tr><td>Naranja       </td><td> 15</td><td>Ácido </td></tr>\n",
       "\t<tr><td>Ternera       </td><td>450</td><td>Umami </td></tr>\n",
       "\t<tr><td>Cerdo         </td><td>460</td><td>Umami </td></tr>\n",
       "\t<tr><td>Sopa          </td><td> 30</td><td>Salado</td></tr>\n",
       "</tbody>\n",
       "</table>\n"
      ],
      "text/latex": [
       "A data.frame: 11 × 3\n",
       "\\begin{tabular}{r|lll}\n",
       " plato & calorias & sabor\\\\\n",
       " <fct> & <dbl> & <fct>\\\\\n",
       "\\hline\n",
       "\t Bollo          & 150 & Dulce \\\\\n",
       "\t Palomitas      & 200 & Salado\\\\\n",
       "\t Limón          &  10 & Ácido \\\\\n",
       "\t Ginebra        &  20 & Amargo\\\\\n",
       "\t Noodles        & 200 & Umami \\\\\n",
       "\t Caramelo       &   5 & Dulce \\\\\n",
       "\t Patatas fritas & 500 & Salado\\\\\n",
       "\t Naranja        &  15 & Ácido \\\\\n",
       "\t Ternera        & 450 & Umami \\\\\n",
       "\t Cerdo          & 460 & Umami \\\\\n",
       "\t Sopa           &  30 & Salado\\\\\n",
       "\\end{tabular}\n"
      ],
      "text/markdown": [
       "\n",
       "A data.frame: 11 × 3\n",
       "\n",
       "| plato &lt;fct&gt; | calorias &lt;dbl&gt; | sabor &lt;fct&gt; |\n",
       "|---|---|---|\n",
       "| Bollo          | 150 | Dulce  |\n",
       "| Palomitas      | 200 | Salado |\n",
       "| Limón          |  10 | Ácido  |\n",
       "| Ginebra        |  20 | Amargo |\n",
       "| Noodles        | 200 | Umami  |\n",
       "| Caramelo       |   5 | Dulce  |\n",
       "| Patatas fritas | 500 | Salado |\n",
       "| Naranja        |  15 | Ácido  |\n",
       "| Ternera        | 450 | Umami  |\n",
       "| Cerdo          | 460 | Umami  |\n",
       "| Sopa           |  30 | Salado |\n",
       "\n"
      ],
      "text/plain": [
       "   plato          calorias sabor \n",
       "1  Bollo          150      Dulce \n",
       "2  Palomitas      200      Salado\n",
       "3  Limón           10      Ácido \n",
       "4  Ginebra         20      Amargo\n",
       "5  Noodles        200      Umami \n",
       "6  Caramelo         5      Dulce \n",
       "7  Patatas fritas 500      Salado\n",
       "8  Naranja         15      Ácido \n",
       "9  Ternera        450      Umami \n",
       "10 Cerdo          460      Umami \n",
       "11 Sopa            30      Salado"
      ]
     },
     "metadata": {},
     "output_type": "display_data"
    },
    {
     "name": "stdout",
     "output_type": "stream",
     "text": [
      "'data.frame':\t11 obs. of  3 variables:\n",
      " $ plato   : Factor w/ 11 levels \"Bollo\",\"Caramelo\",..: 1 8 5 4 7 2 9 6 11 3 ...\n",
      " $ calorias: num  150 200 10 20 200 5 500 15 450 460 ...\n",
      " $ sabor   : Factor w/ 5 levels \"Ácido\",\"Amargo\",..: 3 4 1 2 5 3 4 1 5 5 ...\n"
     ]
    }
   ],
   "source": [
    "comidas<-data.frame(plato=plt, calorias=cal, sabor=saboresDePlatos, stringsAsFactors = T)\n",
    "comidas\n",
    "str(comidas)"
   ]
  },
  {
   "cell_type": "markdown",
   "metadata": {},
   "source": [
    "## Arrays 3D\n",
    "\n",
    "Se pueden crear arrays N-dimensionales con la función array"
   ]
  },
  {
   "cell_type": "code",
   "execution_count": 282,
   "metadata": {},
   "outputs": [
    {
     "data": {
      "text/html": [
       "<ol class=list-inline>\n",
       "\t<li>1</li>\n",
       "\t<li>2</li>\n",
       "\t<li>3</li>\n",
       "\t<li>4</li>\n",
       "\t<li>5</li>\n",
       "\t<li>6</li>\n",
       "\t<li>7</li>\n",
       "\t<li>8</li>\n",
       "\t<li>9</li>\n",
       "\t<li>10</li>\n",
       "\t<li>11</li>\n",
       "\t<li>12</li>\n",
       "</ol>\n"
      ],
      "text/latex": [
       "\\begin{enumerate*}\n",
       "\\item 1\n",
       "\\item 2\n",
       "\\item 3\n",
       "\\item 4\n",
       "\\item 5\n",
       "\\item 6\n",
       "\\item 7\n",
       "\\item 8\n",
       "\\item 9\n",
       "\\item 10\n",
       "\\item 11\n",
       "\\item 12\n",
       "\\end{enumerate*}\n"
      ],
      "text/markdown": [
       "1. 1\n",
       "2. 2\n",
       "3. 3\n",
       "4. 4\n",
       "5. 5\n",
       "6. 6\n",
       "7. 7\n",
       "8. 8\n",
       "9. 9\n",
       "10. 10\n",
       "11. 11\n",
       "12. 12\n",
       "\n",
       "\n"
      ],
      "text/plain": [
       ", , 1\n",
       "\n",
       "     [,1] [,2]\n",
       "[1,]    1    4\n",
       "[2,]    2    5\n",
       "[3,]    3    6\n",
       "\n",
       ", , 2\n",
       "\n",
       "     [,1] [,2]\n",
       "[1,]    7   10\n",
       "[2,]    8   11\n",
       "[3,]    9   12\n"
      ]
     },
     "metadata": {},
     "output_type": "display_data"
    },
    {
     "name": "stdout",
     "output_type": "stream",
     "text": [
      " int [1:3, 1:2, 1:2] 1 2 3 4 5 6 7 8 9 10 ...\n"
     ]
    }
   ],
   "source": [
    "arr<-array(1:12,dim = c(3,2,2))\n",
    "arr\n",
    "str(arr)"
   ]
  },
  {
   "cell_type": "markdown",
   "metadata": {},
   "source": [
    "El acceso a elementos es similar al de las matrices"
   ]
  },
  {
   "cell_type": "code",
   "execution_count": 283,
   "metadata": {},
   "outputs": [
    {
     "data": {
      "text/html": [
       "4"
      ],
      "text/latex": [
       "4"
      ],
      "text/markdown": [
       "4"
      ],
      "text/plain": [
       "[1] 4"
      ]
     },
     "metadata": {},
     "output_type": "display_data"
    }
   ],
   "source": [
    "arr[1,2,1]"
   ]
  },
  {
   "cell_type": "code",
   "execution_count": 284,
   "metadata": {},
   "outputs": [
    {
     "data": {
      "text/html": [
       "<table>\n",
       "<caption>A matrix: 2 × 2 of type int</caption>\n",
       "<tbody>\n",
       "\t<tr><td>1</td><td> 7</td></tr>\n",
       "\t<tr><td>4</td><td>10</td></tr>\n",
       "</tbody>\n",
       "</table>\n"
      ],
      "text/latex": [
       "A matrix: 2 × 2 of type int\n",
       "\\begin{tabular}{ll}\n",
       "\t 1 &  7\\\\\n",
       "\t 4 & 10\\\\\n",
       "\\end{tabular}\n"
      ],
      "text/markdown": [
       "\n",
       "A matrix: 2 × 2 of type int\n",
       "\n",
       "| 1 |  7 |\n",
       "| 4 | 10 |\n",
       "\n"
      ],
      "text/plain": [
       "     [,1] [,2]\n",
       "[1,] 1     7  \n",
       "[2,] 4    10  "
      ]
     },
     "metadata": {},
     "output_type": "display_data"
    }
   ],
   "source": [
    "arr[1,,]"
   ]
  },
  {
   "cell_type": "code",
   "execution_count": 285,
   "metadata": {},
   "outputs": [
    {
     "data": {
      "text/html": [
       "<table>\n",
       "<caption>A matrix: 2 × 2 of type int</caption>\n",
       "<tbody>\n",
       "\t<tr><td>2</td><td> 8</td></tr>\n",
       "\t<tr><td>5</td><td>11</td></tr>\n",
       "</tbody>\n",
       "</table>\n"
      ],
      "text/latex": [
       "A matrix: 2 × 2 of type int\n",
       "\\begin{tabular}{ll}\n",
       "\t 2 &  8\\\\\n",
       "\t 5 & 11\\\\\n",
       "\\end{tabular}\n"
      ],
      "text/markdown": [
       "\n",
       "A matrix: 2 × 2 of type int\n",
       "\n",
       "| 2 |  8 |\n",
       "| 5 | 11 |\n",
       "\n"
      ],
      "text/plain": [
       "     [,1] [,2]\n",
       "[1,] 2     8  \n",
       "[2,] 5    11  "
      ]
     },
     "metadata": {},
     "output_type": "display_data"
    }
   ],
   "source": [
    "arr[2,,]"
   ]
  },
  {
   "cell_type": "code",
   "execution_count": 286,
   "metadata": {},
   "outputs": [
    {
     "data": {
      "text/html": [
       "<table>\n",
       "<caption>A matrix: 2 × 2 of type int</caption>\n",
       "<tbody>\n",
       "\t<tr><td>3</td><td> 9</td></tr>\n",
       "\t<tr><td>6</td><td>12</td></tr>\n",
       "</tbody>\n",
       "</table>\n"
      ],
      "text/latex": [
       "A matrix: 2 × 2 of type int\n",
       "\\begin{tabular}{ll}\n",
       "\t 3 &  9\\\\\n",
       "\t 6 & 12\\\\\n",
       "\\end{tabular}\n"
      ],
      "text/markdown": [
       "\n",
       "A matrix: 2 × 2 of type int\n",
       "\n",
       "| 3 |  9 |\n",
       "| 6 | 12 |\n",
       "\n"
      ],
      "text/plain": [
       "     [,1] [,2]\n",
       "[1,] 3     9  \n",
       "[2,] 6    12  "
      ]
     },
     "metadata": {},
     "output_type": "display_data"
    }
   ],
   "source": [
    "arr[3,,]"
   ]
  },
  {
   "cell_type": "code",
   "execution_count": 287,
   "metadata": {},
   "outputs": [
    {
     "ename": "ERROR",
     "evalue": "Error in arr[4, , ]: subscript out of bounds\n",
     "output_type": "error",
     "traceback": [
      "Error in arr[4, , ]: subscript out of bounds\nTraceback:\n"
     ]
    }
   ],
   "source": [
    "arr[4,,]"
   ]
  },
  {
   "cell_type": "code",
   "execution_count": 288,
   "metadata": {},
   "outputs": [
    {
     "data": {
      "text/html": [
       "<table>\n",
       "<caption>A matrix: 3 × 2 of type int</caption>\n",
       "<tbody>\n",
       "\t<tr><td>4</td><td>10</td></tr>\n",
       "\t<tr><td>5</td><td>11</td></tr>\n",
       "\t<tr><td>6</td><td>12</td></tr>\n",
       "</tbody>\n",
       "</table>\n"
      ],
      "text/latex": [
       "A matrix: 3 × 2 of type int\n",
       "\\begin{tabular}{ll}\n",
       "\t 4 & 10\\\\\n",
       "\t 5 & 11\\\\\n",
       "\t 6 & 12\\\\\n",
       "\\end{tabular}\n"
      ],
      "text/markdown": [
       "\n",
       "A matrix: 3 × 2 of type int\n",
       "\n",
       "| 4 | 10 |\n",
       "| 5 | 11 |\n",
       "| 6 | 12 |\n",
       "\n"
      ],
      "text/plain": [
       "     [,1] [,2]\n",
       "[1,] 4    10  \n",
       "[2,] 5    11  \n",
       "[3,] 6    12  "
      ]
     },
     "metadata": {},
     "output_type": "display_data"
    }
   ],
   "source": [
    "arr[,2,]"
   ]
  },
  {
   "cell_type": "markdown",
   "metadata": {},
   "source": [
    "## Fechas"
   ]
  },
  {
   "cell_type": "markdown",
   "metadata": {},
   "source": [
    "Existen dos objetos para almacenar fechas en R.\n",
    "\n",
    "* Posixct es recubrimiento sobre un timestamp en segundos.\n",
    "* Posixlt es una lista de objetos que contiene la información de la fecha"
   ]
  },
  {
   "cell_type": "code",
   "execution_count": 300,
   "metadata": {},
   "outputs": [
    {
     "data": {
      "text/plain": [
       "[1] \"2018-10-05 15:40:00 UTC\""
      ]
     },
     "metadata": {},
     "output_type": "display_data"
    },
    {
     "data": {
      "text/plain": [
       "[1] \"2018-01-10 CET\""
      ]
     },
     "metadata": {},
     "output_type": "display_data"
    }
   ],
   "source": [
    "d1<-as.POSIXct(\"2018-10-5 15:40\")\n",
    "d2<-as.POSIXct(\"1/10/2018 17:33\",format=\"%m/%d/%Y\",tz=\"CET\")\n",
    "\n",
    "d1\n",
    "d2"
   ]
  },
  {
   "cell_type": "code",
   "execution_count": 295,
   "metadata": {},
   "outputs": [
    {
     "data": {
      "text/html": [
       "<span style=white-space:pre-wrap>'La fecha actual es:  2019-07-08 21:39:07'</span>"
      ],
      "text/latex": [
       "'La fecha actual es:  2019-07-08 21:39:07'"
      ],
      "text/markdown": [
       "<span style=white-space:pre-wrap>'La fecha actual es:  2019-07-08 21:39:07'</span>"
      ],
      "text/plain": [
       "[1] \"La fecha actual es:  2019-07-08 21:39:07\""
      ]
     },
     "metadata": {},
     "output_type": "display_data"
    }
   ],
   "source": [
    "paste(\"La fecha actual es: \",Sys.time())"
   ]
  },
  {
   "cell_type": "code",
   "execution_count": 290,
   "metadata": {},
   "outputs": [
    {
     "name": "stdout",
     "output_type": "stream",
     "text": [
      " POSIXct[1:1], format: \"2018-10-05 15:40:00\"\n"
     ]
    }
   ],
   "source": [
    "str(d1)"
   ]
  },
  {
   "cell_type": "code",
   "execution_count": 298,
   "metadata": {},
   "outputs": [],
   "source": [
    "?as.POSIXct"
   ]
  },
  {
   "cell_type": "code",
   "execution_count": 301,
   "metadata": {},
   "outputs": [
    {
     "data": {
      "text/html": [
       "<ol class=list-inline>\n",
       "\t<li>'POSIXct'</li>\n",
       "\t<li>'POSIXt'</li>\n",
       "</ol>\n"
      ],
      "text/latex": [
       "\\begin{enumerate*}\n",
       "\\item 'POSIXct'\n",
       "\\item 'POSIXt'\n",
       "\\end{enumerate*}\n"
      ],
      "text/markdown": [
       "1. 'POSIXct'\n",
       "2. 'POSIXt'\n",
       "\n",
       "\n"
      ],
      "text/plain": [
       "[1] \"POSIXct\" \"POSIXt\" "
      ]
     },
     "metadata": {},
     "output_type": "display_data"
    }
   ],
   "source": [
    "class(d1)"
   ]
  },
  {
   "cell_type": "code",
   "execution_count": 302,
   "metadata": {},
   "outputs": [
    {
     "data": {
      "text/html": [
       "1538754000"
      ],
      "text/latex": [
       "1538754000"
      ],
      "text/markdown": [
       "1538754000"
      ],
      "text/plain": [
       "[1] 1538754000\n",
       "attr(,\"tzone\")\n",
       "[1] \"\""
      ]
     },
     "metadata": {},
     "output_type": "display_data"
    }
   ],
   "source": [
    "unclass(d1)"
   ]
  },
  {
   "cell_type": "code",
   "execution_count": 308,
   "metadata": {},
   "outputs": [
    {
     "data": {
      "text/plain": [
       "[1] \"2018-10-05 15:40:00 UTC\""
      ]
     },
     "metadata": {},
     "output_type": "display_data"
    },
    {
     "data": {
      "text/plain": [
       "[1] \"2018-10-06 15:40:00 UTC\""
      ]
     },
     "metadata": {},
     "output_type": "display_data"
    }
   ],
   "source": [
    "d1\n",
    "d1+60*60*24"
   ]
  },
  {
   "cell_type": "code",
   "execution_count": 311,
   "metadata": {},
   "outputs": [
    {
     "data": {
      "text/plain": [
       "[1] \"2018-04-05 UTC\""
      ]
     },
     "metadata": {},
     "output_type": "display_data"
    },
    {
     "data": {
      "text/html": [
       "<ol class=list-inline>\n",
       "\t<li>'POSIXlt'</li>\n",
       "\t<li>'POSIXt'</li>\n",
       "</ol>\n"
      ],
      "text/latex": [
       "\\begin{enumerate*}\n",
       "\\item 'POSIXlt'\n",
       "\\item 'POSIXt'\n",
       "\\end{enumerate*}\n"
      ],
      "text/markdown": [
       "1. 'POSIXlt'\n",
       "2. 'POSIXt'\n",
       "\n",
       "\n"
      ],
      "text/plain": [
       "[1] \"POSIXlt\" \"POSIXt\" "
      ]
     },
     "metadata": {},
     "output_type": "display_data"
    }
   ],
   "source": [
    "d3<-as.POSIXlt(\"2018-4-5\")\n",
    "d3\n",
    "class(d3)"
   ]
  },
  {
   "cell_type": "code",
   "execution_count": 312,
   "metadata": {},
   "outputs": [
    {
     "data": {
      "text/plain": [
       "[1] \"2018-04-05 UTC\""
      ]
     },
     "metadata": {},
     "output_type": "display_data"
    }
   ],
   "source": [
    "d3"
   ]
  },
  {
   "cell_type": "code",
   "execution_count": 313,
   "metadata": {},
   "outputs": [],
   "source": [
    "d3$mday<-6"
   ]
  },
  {
   "cell_type": "code",
   "execution_count": 314,
   "metadata": {},
   "outputs": [
    {
     "data": {
      "text/plain": [
       "[1] \"2018-04-06 UTC\""
      ]
     },
     "metadata": {},
     "output_type": "display_data"
    }
   ],
   "source": [
    "d3"
   ]
  },
  {
   "cell_type": "code",
   "execution_count": 310,
   "metadata": {},
   "outputs": [
    {
     "name": "stdout",
     "output_type": "stream",
     "text": [
      " POSIXlt[1:1], format: \"2018-04-05\"\n"
     ]
    }
   ],
   "source": [
    "str(d3)"
   ]
  },
  {
   "cell_type": "code",
   "execution_count": 315,
   "metadata": {},
   "outputs": [
    {
     "data": {
      "text/html": [
       "<dl>\n",
       "\t<dt>$sec</dt>\n",
       "\t\t<dd>0</dd>\n",
       "\t<dt>$min</dt>\n",
       "\t\t<dd>0</dd>\n",
       "\t<dt>$hour</dt>\n",
       "\t\t<dd>0</dd>\n",
       "\t<dt>$mday</dt>\n",
       "\t\t<dd>6</dd>\n",
       "\t<dt>$mon</dt>\n",
       "\t\t<dd>3</dd>\n",
       "\t<dt>$year</dt>\n",
       "\t\t<dd>118</dd>\n",
       "\t<dt>$wday</dt>\n",
       "\t\t<dd>4</dd>\n",
       "\t<dt>$yday</dt>\n",
       "\t\t<dd>94</dd>\n",
       "\t<dt>$isdst</dt>\n",
       "\t\t<dd>0</dd>\n",
       "\t<dt>$zone</dt>\n",
       "\t\t<dd>'UTC'</dd>\n",
       "\t<dt>$gmtoff</dt>\n",
       "\t\t<dd>&lt;NA&gt;</dd>\n",
       "</dl>\n"
      ],
      "text/latex": [
       "\\begin{description}\n",
       "\\item[\\$sec] 0\n",
       "\\item[\\$min] 0\n",
       "\\item[\\$hour] 0\n",
       "\\item[\\$mday] 6\n",
       "\\item[\\$mon] 3\n",
       "\\item[\\$year] 118\n",
       "\\item[\\$wday] 4\n",
       "\\item[\\$yday] 94\n",
       "\\item[\\$isdst] 0\n",
       "\\item[\\$zone] 'UTC'\n",
       "\\item[\\$gmtoff] <NA>\n",
       "\\end{description}\n"
      ],
      "text/markdown": [
       "$sec\n",
       ":   0\n",
       "$min\n",
       ":   0\n",
       "$hour\n",
       ":   0\n",
       "$mday\n",
       ":   6\n",
       "$mon\n",
       ":   3\n",
       "$year\n",
       ":   118\n",
       "$wday\n",
       ":   4\n",
       "$yday\n",
       ":   94\n",
       "$isdst\n",
       ":   0\n",
       "$zone\n",
       ":   'UTC'\n",
       "$gmtoff\n",
       ":   &lt;NA&gt;\n",
       "\n",
       "\n"
      ],
      "text/plain": [
       "$sec\n",
       "[1] 0\n",
       "\n",
       "$min\n",
       "[1] 0\n",
       "\n",
       "$hour\n",
       "[1] 0\n",
       "\n",
       "$mday\n",
       "[1] 6\n",
       "\n",
       "$mon\n",
       "[1] 3\n",
       "\n",
       "$year\n",
       "[1] 118\n",
       "\n",
       "$wday\n",
       "[1] 4\n",
       "\n",
       "$yday\n",
       "[1] 94\n",
       "\n",
       "$isdst\n",
       "[1] 0\n",
       "\n",
       "$zone\n",
       "[1] \"UTC\"\n",
       "\n",
       "$gmtoff\n",
       "[1] NA\n"
      ]
     },
     "metadata": {},
     "output_type": "display_data"
    }
   ],
   "source": [
    "unclass(d3)"
   ]
  },
  {
   "cell_type": "code",
   "execution_count": 320,
   "metadata": {},
   "outputs": [
    {
     "data": {
      "text/plain": [
       "[1] \"2018-01-06 UTC\""
      ]
     },
     "metadata": {},
     "output_type": "display_data"
    }
   ],
   "source": [
    "d3$mon<-0\n",
    "d3"
   ]
  },
  {
   "cell_type": "code",
   "execution_count": 319,
   "metadata": {},
   "outputs": [
    {
     "name": "stdout",
     "output_type": "stream",
     "text": [
      " POSIXlt[1:3], format: \"2018-01-01\" \"2018-01-02\" \"2018-01-03\"\n"
     ]
    }
   ],
   "source": [
    "#c(as.POSIXct(\"2018-01-01\"),as.POSIXct(\"2018-01-02\"),as.POSIXct(\"2018-01-03\"))\n",
    "str(c(as.POSIXlt(\"2018-01-01\"),as.POSIXlt(\"2018-01-02\"),as.POSIXlt(\"2018-01-03\")))"
   ]
  },
  {
   "cell_type": "code",
   "execution_count": 317,
   "metadata": {},
   "outputs": [
    {
     "name": "stdout",
     "output_type": "stream",
     "text": [
      "'data.frame':\t3 obs. of  1 variable:\n",
      " $ fecha: POSIXct, format: \"2018-01-01\" \"2018-01-02\" ...\n"
     ]
    }
   ],
   "source": [
    "df<-data.frame(fecha=c(as.POSIXlt(\"2018-01-01\"),as.POSIXlt(\"2018-01-02\"),as.POSIXlt(\"2018-01-03\")))\n",
    "str(df)\n"
   ]
  },
  {
   "cell_type": "markdown",
   "metadata": {},
   "source": [
    "## Valores no disponibles / Missing Values\n",
    "\n",
    "Son valores para los cuales no tenemos ninguna medida, se representan con un NA.\n",
    "\n",
    "Pertenecen a valores perdidos que no se han podido recuperar, errores de medida, perdidas de datos, etc..\n",
    "\n",
    "En R los detectamos con:\n",
    "\n",
    "is.na(x)\n",
    "y podemos reemplazar su valor con la media, moda, mediana, etc...\n",
    "\n",
    "o simplemente eliminarlos: na.omit(x)\n",
    "\n",
    "Si estamos trabajando con series temporales es posible que queramos hacer una interpolación de los valores perdidos:\n",
    "\n",
    "zoo::na.approx(x)"
   ]
  },
  {
   "cell_type": "code",
   "execution_count": 321,
   "metadata": {},
   "outputs": [
    {
     "data": {
      "text/html": [
       "&lt;NA&gt;"
      ],
      "text/latex": [
       "<NA>"
      ],
      "text/markdown": [
       "&lt;NA&gt;"
      ],
      "text/plain": [
       "[1] NA"
      ]
     },
     "metadata": {},
     "output_type": "display_data"
    }
   ],
   "source": [
    "NA"
   ]
  },
  {
   "cell_type": "code",
   "execution_count": 341,
   "metadata": {},
   "outputs": [
    {
     "data": {
      "text/html": [
       "<ol class=list-inline>\n",
       "\t<li>1</li>\n",
       "\t<li>3</li>\n",
       "\t<li>&lt;NA&gt;</li>\n",
       "\t<li>6</li>\n",
       "</ol>\n"
      ],
      "text/latex": [
       "\\begin{enumerate*}\n",
       "\\item 1\n",
       "\\item 3\n",
       "\\item <NA>\n",
       "\\item 6\n",
       "\\end{enumerate*}\n"
      ],
      "text/markdown": [
       "1. 1\n",
       "2. 3\n",
       "3. &lt;NA&gt;\n",
       "4. 6\n",
       "\n",
       "\n"
      ],
      "text/plain": [
       "[1]  1  3 NA  6"
      ]
     },
     "metadata": {},
     "output_type": "display_data"
    }
   ],
   "source": [
    "data<-c(1,3,NA,6)\n",
    "data"
   ]
  },
  {
   "cell_type": "code",
   "execution_count": 342,
   "metadata": {},
   "outputs": [
    {
     "data": {
      "text/html": [
       "<ol class=list-inline>\n",
       "\t<li>3</li>\n",
       "\t<li>&lt;NA&gt;</li>\n",
       "</ol>\n"
      ],
      "text/latex": [
       "\\begin{enumerate*}\n",
       "\\item 3\n",
       "\\item <NA>\n",
       "\\end{enumerate*}\n"
      ],
      "text/markdown": [
       "1. 3\n",
       "2. &lt;NA&gt;\n",
       "\n",
       "\n"
      ],
      "text/plain": [
       "[1]  3 NA"
      ]
     },
     "metadata": {},
     "output_type": "display_data"
    }
   ],
   "source": [
    "data[c(FALSE,TRUE,TRUE,FALSE)]"
   ]
  },
  {
   "cell_type": "code",
   "execution_count": 350,
   "metadata": {},
   "outputs": [
    {
     "data": {
      "text/html": [
       "<ol class=list-inline>\n",
       "\t<li>FALSE</li>\n",
       "\t<li>FALSE</li>\n",
       "\t<li>TRUE</li>\n",
       "\t<li>FALSE</li>\n",
       "</ol>\n"
      ],
      "text/latex": [
       "\\begin{enumerate*}\n",
       "\\item FALSE\n",
       "\\item FALSE\n",
       "\\item TRUE\n",
       "\\item FALSE\n",
       "\\end{enumerate*}\n"
      ],
      "text/markdown": [
       "1. FALSE\n",
       "2. FALSE\n",
       "3. TRUE\n",
       "4. FALSE\n",
       "\n",
       "\n"
      ],
      "text/plain": [
       "[1] FALSE FALSE  TRUE FALSE"
      ]
     },
     "metadata": {},
     "output_type": "display_data"
    }
   ],
   "source": [
    "is.na(data)"
   ]
  },
  {
   "cell_type": "code",
   "execution_count": 344,
   "metadata": {},
   "outputs": [
    {
     "data": {
      "text/html": [
       "<ol class=list-inline>\n",
       "\t<li>1</li>\n",
       "\t<li>3</li>\n",
       "\t<li>6</li>\n",
       "</ol>\n"
      ],
      "text/latex": [
       "\\begin{enumerate*}\n",
       "\\item 1\n",
       "\\item 3\n",
       "\\item 6\n",
       "\\end{enumerate*}\n"
      ],
      "text/markdown": [
       "1. 1\n",
       "2. 3\n",
       "3. 6\n",
       "\n",
       "\n"
      ],
      "text/plain": [
       "[1] 1 3 6\n",
       "attr(,\"na.action\")\n",
       "[1] 3\n",
       "attr(,\"class\")\n",
       "[1] \"omit\""
      ]
     },
     "metadata": {},
     "output_type": "display_data"
    }
   ],
   "source": [
    "na.omit(data)"
   ]
  },
  {
   "cell_type": "code",
   "execution_count": 345,
   "metadata": {},
   "outputs": [
    {
     "data": {
      "text/html": [
       "'El número de elementos con NA: 1'"
      ],
      "text/latex": [
       "'El número de elementos con NA: 1'"
      ],
      "text/markdown": [
       "'El número de elementos con NA: 1'"
      ],
      "text/plain": [
       "[1] \"El número de elementos con NA: 1\""
      ]
     },
     "metadata": {},
     "output_type": "display_data"
    }
   ],
   "source": [
    "paste(\"El número de elementos con NA:\",length(data[is.na(data)]))"
   ]
  },
  {
   "cell_type": "code",
   "execution_count": 346,
   "metadata": {},
   "outputs": [
    {
     "data": {
      "text/html": [
       "<ol class=list-inline>\n",
       "\t<li>TRUE</li>\n",
       "\t<li>TRUE</li>\n",
       "\t<li>FALSE</li>\n",
       "\t<li>TRUE</li>\n",
       "</ol>\n"
      ],
      "text/latex": [
       "\\begin{enumerate*}\n",
       "\\item TRUE\n",
       "\\item TRUE\n",
       "\\item FALSE\n",
       "\\item TRUE\n",
       "\\end{enumerate*}\n"
      ],
      "text/markdown": [
       "1. TRUE\n",
       "2. TRUE\n",
       "3. FALSE\n",
       "4. TRUE\n",
       "\n",
       "\n"
      ],
      "text/plain": [
       "[1]  TRUE  TRUE FALSE  TRUE"
      ]
     },
     "metadata": {},
     "output_type": "display_data"
    }
   ],
   "source": [
    "!is.na(data)"
   ]
  },
  {
   "cell_type": "code",
   "execution_count": 347,
   "metadata": {},
   "outputs": [
    {
     "data": {
      "text/html": [
       "'El número de elementos que NO son NA: 3'"
      ],
      "text/latex": [
       "'El número de elementos que NO son NA: 3'"
      ],
      "text/markdown": [
       "'El número de elementos que NO son NA: 3'"
      ],
      "text/plain": [
       "[1] \"El número de elementos que NO son NA: 3\""
      ]
     },
     "metadata": {},
     "output_type": "display_data"
    }
   ],
   "source": [
    "paste(\"El número de elementos que NO son NA:\",length(data[!is.na(data)]))"
   ]
  },
  {
   "cell_type": "code",
   "execution_count": 348,
   "metadata": {},
   "outputs": [
    {
     "data": {
      "text/html": [
       "<ol class=list-inline>\n",
       "\t<li>10</li>\n",
       "\t<li>3</li>\n",
       "\t<li>&lt;NA&gt;</li>\n",
       "\t<li>6</li>\n",
       "</ol>\n"
      ],
      "text/latex": [
       "\\begin{enumerate*}\n",
       "\\item 10\n",
       "\\item 3\n",
       "\\item <NA>\n",
       "\\item 6\n",
       "\\end{enumerate*}\n"
      ],
      "text/markdown": [
       "1. 10\n",
       "2. 3\n",
       "3. &lt;NA&gt;\n",
       "4. 6\n",
       "\n",
       "\n"
      ],
      "text/plain": [
       "[1] 10  3 NA  6"
      ]
     },
     "metadata": {},
     "output_type": "display_data"
    }
   ],
   "source": [
    "data[1]<-10\n",
    "data"
   ]
  },
  {
   "cell_type": "code",
   "execution_count": 351,
   "metadata": {},
   "outputs": [
    {
     "data": {
      "text/html": [
       "<ol class=list-inline>\n",
       "\t<li>10</li>\n",
       "\t<li>3</li>\n",
       "\t<li>28</li>\n",
       "\t<li>6</li>\n",
       "</ol>\n"
      ],
      "text/latex": [
       "\\begin{enumerate*}\n",
       "\\item 10\n",
       "\\item 3\n",
       "\\item 28\n",
       "\\item 6\n",
       "\\end{enumerate*}\n"
      ],
      "text/markdown": [
       "1. 10\n",
       "2. 3\n",
       "3. 28\n",
       "4. 6\n",
       "\n",
       "\n"
      ],
      "text/plain": [
       "[1] 10  3 28  6"
      ]
     },
     "metadata": {},
     "output_type": "display_data"
    }
   ],
   "source": [
    "data[is.na(data)] <- 28\n",
    "data"
   ]
  },
  {
   "cell_type": "markdown",
   "metadata": {},
   "source": [
    "## Ejemplo datos reales\n",
    "\n",
    "\n",
    "#### Dataset coches\n",
    "\n",
    "Partimos del dataset de seguro de automóviles que podemos descargar de:\n",
    "\n",
    "https://archive.ics.uci.edu/ml/datasets/Automobile\n"
   ]
  },
  {
   "cell_type": "code",
   "execution_count": 385,
   "metadata": {},
   "outputs": [],
   "source": [
    "autos<-read.csv(\"./data//imports-85.data\", col.names = c(\"risk\", \"normalized_losses\", \n",
    "                                                         \"make\", \"fuel_type\", \"aspiration\",\n",
    "           \"num_doors\", \"body_style\", \"drive_wheels\", \"engine_location\",\n",
    "           \"wheel_base\", \"length\", \"width\", \"height\", \"curb_weight\",\n",
    "           \"engine_type\", \"num_cylinders\", \"engine_size\", \"fuel_system\",\n",
    "           \"bore\", \"stroke\", \"compression_ratio\", \"horsepower\", \"peak_rpm\",\n",
    "           \"city_mpg\", \"highway_mpg\", \"price\"),sep=\",\")"
   ]
  },
  {
   "cell_type": "code",
   "execution_count": 386,
   "metadata": {},
   "outputs": [
    {
     "data": {
      "text/html": [
       "<table>\n",
       "<caption>A data.frame: 6 × 26</caption>\n",
       "<thead>\n",
       "\t<tr><th scope=col>risk</th><th scope=col>normalized_losses</th><th scope=col>make</th><th scope=col>fuel_type</th><th scope=col>aspiration</th><th scope=col>num_doors</th><th scope=col>body_style</th><th scope=col>drive_wheels</th><th scope=col>engine_location</th><th scope=col>wheel_base</th><th scope=col>⋯</th><th scope=col>engine_size</th><th scope=col>fuel_system</th><th scope=col>bore</th><th scope=col>stroke</th><th scope=col>compression_ratio</th><th scope=col>horsepower</th><th scope=col>peak_rpm</th><th scope=col>city_mpg</th><th scope=col>highway_mpg</th><th scope=col>price</th></tr>\n",
       "\t<tr><th scope=col>&lt;int&gt;</th><th scope=col>&lt;fct&gt;</th><th scope=col>&lt;fct&gt;</th><th scope=col>&lt;fct&gt;</th><th scope=col>&lt;fct&gt;</th><th scope=col>&lt;fct&gt;</th><th scope=col>&lt;fct&gt;</th><th scope=col>&lt;fct&gt;</th><th scope=col>&lt;fct&gt;</th><th scope=col>&lt;dbl&gt;</th><th scope=col>⋯</th><th scope=col>&lt;int&gt;</th><th scope=col>&lt;fct&gt;</th><th scope=col>&lt;fct&gt;</th><th scope=col>&lt;fct&gt;</th><th scope=col>&lt;dbl&gt;</th><th scope=col>&lt;fct&gt;</th><th scope=col>&lt;fct&gt;</th><th scope=col>&lt;int&gt;</th><th scope=col>&lt;int&gt;</th><th scope=col>&lt;fct&gt;</th></tr>\n",
       "</thead>\n",
       "<tbody>\n",
       "\t<tr><td>3</td><td>?  </td><td>alfa-romero</td><td>gas</td><td>std</td><td>two </td><td>convertible</td><td>rwd</td><td>front</td><td> 88.6</td><td>⋯</td><td>130</td><td>mpfi</td><td>3.47</td><td>2.68</td><td> 9.0</td><td>111</td><td>5000</td><td>21</td><td>27</td><td>16500</td></tr>\n",
       "\t<tr><td>1</td><td>?  </td><td>alfa-romero</td><td>gas</td><td>std</td><td>two </td><td>hatchback  </td><td>rwd</td><td>front</td><td> 94.5</td><td>⋯</td><td>152</td><td>mpfi</td><td>2.68</td><td>3.47</td><td> 9.0</td><td>154</td><td>5000</td><td>19</td><td>26</td><td>16500</td></tr>\n",
       "\t<tr><td>2</td><td>164</td><td>audi       </td><td>gas</td><td>std</td><td>four</td><td>sedan      </td><td>fwd</td><td>front</td><td> 99.8</td><td>⋯</td><td>109</td><td>mpfi</td><td>3.19</td><td>3.40</td><td>10.0</td><td>102</td><td>5500</td><td>24</td><td>30</td><td>13950</td></tr>\n",
       "\t<tr><td>2</td><td>164</td><td>audi       </td><td>gas</td><td>std</td><td>four</td><td>sedan      </td><td>4wd</td><td>front</td><td> 99.4</td><td>⋯</td><td>136</td><td>mpfi</td><td>3.19</td><td>3.40</td><td> 8.0</td><td>115</td><td>5500</td><td>18</td><td>22</td><td>17450</td></tr>\n",
       "\t<tr><td>2</td><td>?  </td><td>audi       </td><td>gas</td><td>std</td><td>two </td><td>sedan      </td><td>fwd</td><td>front</td><td> 99.8</td><td>⋯</td><td>136</td><td>mpfi</td><td>3.19</td><td>3.40</td><td> 8.5</td><td>110</td><td>5500</td><td>19</td><td>25</td><td>15250</td></tr>\n",
       "\t<tr><td>1</td><td>158</td><td>audi       </td><td>gas</td><td>std</td><td>four</td><td>sedan      </td><td>fwd</td><td>front</td><td>105.8</td><td>⋯</td><td>136</td><td>mpfi</td><td>3.19</td><td>3.40</td><td> 8.5</td><td>110</td><td>5500</td><td>19</td><td>25</td><td>17710</td></tr>\n",
       "</tbody>\n",
       "</table>\n"
      ],
      "text/latex": [
       "A data.frame: 6 × 26\n",
       "\\begin{tabular}{r|llllllllllllllllllllllllll}\n",
       " risk & normalized\\_losses & make & fuel\\_type & aspiration & num\\_doors & body\\_style & drive\\_wheels & engine\\_location & wheel\\_base & length & width & height & curb\\_weight & engine\\_type & num\\_cylinders & engine\\_size & fuel\\_system & bore & stroke & compression\\_ratio & horsepower & peak\\_rpm & city\\_mpg & highway\\_mpg & price\\\\\n",
       " <int> & <fct> & <fct> & <fct> & <fct> & <fct> & <fct> & <fct> & <fct> & <dbl> & <dbl> & <dbl> & <dbl> & <int> & <fct> & <fct> & <int> & <fct> & <fct> & <fct> & <dbl> & <fct> & <fct> & <int> & <int> & <fct>\\\\\n",
       "\\hline\n",
       "\t 3 & ?   & alfa-romero & gas & std & two  & convertible & rwd & front &  88.6 & 168.8 & 64.1 & 48.8 & 2548 & dohc & four & 130 & mpfi & 3.47 & 2.68 &  9.0 & 111 & 5000 & 21 & 27 & 16500\\\\\n",
       "\t 1 & ?   & alfa-romero & gas & std & two  & hatchback   & rwd & front &  94.5 & 171.2 & 65.5 & 52.4 & 2823 & ohcv & six  & 152 & mpfi & 2.68 & 3.47 &  9.0 & 154 & 5000 & 19 & 26 & 16500\\\\\n",
       "\t 2 & 164 & audi        & gas & std & four & sedan       & fwd & front &  99.8 & 176.6 & 66.2 & 54.3 & 2337 & ohc  & four & 109 & mpfi & 3.19 & 3.40 & 10.0 & 102 & 5500 & 24 & 30 & 13950\\\\\n",
       "\t 2 & 164 & audi        & gas & std & four & sedan       & 4wd & front &  99.4 & 176.6 & 66.4 & 54.3 & 2824 & ohc  & five & 136 & mpfi & 3.19 & 3.40 &  8.0 & 115 & 5500 & 18 & 22 & 17450\\\\\n",
       "\t 2 & ?   & audi        & gas & std & two  & sedan       & fwd & front &  99.8 & 177.3 & 66.3 & 53.1 & 2507 & ohc  & five & 136 & mpfi & 3.19 & 3.40 &  8.5 & 110 & 5500 & 19 & 25 & 15250\\\\\n",
       "\t 1 & 158 & audi        & gas & std & four & sedan       & fwd & front & 105.8 & 192.7 & 71.4 & 55.7 & 2844 & ohc  & five & 136 & mpfi & 3.19 & 3.40 &  8.5 & 110 & 5500 & 19 & 25 & 17710\\\\\n",
       "\\end{tabular}\n"
      ],
      "text/markdown": [
       "\n",
       "A data.frame: 6 × 26\n",
       "\n",
       "| risk &lt;int&gt; | normalized_losses &lt;fct&gt; | make &lt;fct&gt; | fuel_type &lt;fct&gt; | aspiration &lt;fct&gt; | num_doors &lt;fct&gt; | body_style &lt;fct&gt; | drive_wheels &lt;fct&gt; | engine_location &lt;fct&gt; | wheel_base &lt;dbl&gt; | ⋯ ⋯ | engine_size &lt;int&gt; | fuel_system &lt;fct&gt; | bore &lt;fct&gt; | stroke &lt;fct&gt; | compression_ratio &lt;dbl&gt; | horsepower &lt;fct&gt; | peak_rpm &lt;fct&gt; | city_mpg &lt;int&gt; | highway_mpg &lt;int&gt; | price &lt;fct&gt; |\n",
       "|---|---|---|---|---|---|---|---|---|---|---|---|---|---|---|---|---|---|---|---|---|\n",
       "| 3 | ?   | alfa-romero | gas | std | two  | convertible | rwd | front |  88.6 | ⋯ | 130 | mpfi | 3.47 | 2.68 |  9.0 | 111 | 5000 | 21 | 27 | 16500 |\n",
       "| 1 | ?   | alfa-romero | gas | std | two  | hatchback   | rwd | front |  94.5 | ⋯ | 152 | mpfi | 2.68 | 3.47 |  9.0 | 154 | 5000 | 19 | 26 | 16500 |\n",
       "| 2 | 164 | audi        | gas | std | four | sedan       | fwd | front |  99.8 | ⋯ | 109 | mpfi | 3.19 | 3.40 | 10.0 | 102 | 5500 | 24 | 30 | 13950 |\n",
       "| 2 | 164 | audi        | gas | std | four | sedan       | 4wd | front |  99.4 | ⋯ | 136 | mpfi | 3.19 | 3.40 |  8.0 | 115 | 5500 | 18 | 22 | 17450 |\n",
       "| 2 | ?   | audi        | gas | std | two  | sedan       | fwd | front |  99.8 | ⋯ | 136 | mpfi | 3.19 | 3.40 |  8.5 | 110 | 5500 | 19 | 25 | 15250 |\n",
       "| 1 | 158 | audi        | gas | std | four | sedan       | fwd | front | 105.8 | ⋯ | 136 | mpfi | 3.19 | 3.40 |  8.5 | 110 | 5500 | 19 | 25 | 17710 |\n",
       "\n"
      ],
      "text/plain": [
       "  risk normalized_losses make        fuel_type aspiration num_doors body_style \n",
       "1 3    ?                 alfa-romero gas       std        two       convertible\n",
       "2 1    ?                 alfa-romero gas       std        two       hatchback  \n",
       "3 2    164               audi        gas       std        four      sedan      \n",
       "4 2    164               audi        gas       std        four      sedan      \n",
       "5 2    ?                 audi        gas       std        two       sedan      \n",
       "6 1    158               audi        gas       std        four      sedan      \n",
       "  drive_wheels engine_location wheel_base ⋯ engine_size fuel_system bore stroke\n",
       "1 rwd          front            88.6      ⋯ 130         mpfi        3.47 2.68  \n",
       "2 rwd          front            94.5      ⋯ 152         mpfi        2.68 3.47  \n",
       "3 fwd          front            99.8      ⋯ 109         mpfi        3.19 3.40  \n",
       "4 4wd          front            99.4      ⋯ 136         mpfi        3.19 3.40  \n",
       "5 fwd          front            99.8      ⋯ 136         mpfi        3.19 3.40  \n",
       "6 fwd          front           105.8      ⋯ 136         mpfi        3.19 3.40  \n",
       "  compression_ratio horsepower peak_rpm city_mpg highway_mpg price\n",
       "1  9.0              111        5000     21       27          16500\n",
       "2  9.0              154        5000     19       26          16500\n",
       "3 10.0              102        5500     24       30          13950\n",
       "4  8.0              115        5500     18       22          17450\n",
       "5  8.5              110        5500     19       25          15250\n",
       "6  8.5              110        5500     19       25          17710"
      ]
     },
     "metadata": {},
     "output_type": "display_data"
    }
   ],
   "source": [
    "head(autos)"
   ]
  },
  {
   "cell_type": "code",
   "execution_count": 387,
   "metadata": {},
   "outputs": [
    {
     "name": "stdout",
     "output_type": "stream",
     "text": [
      "'data.frame':\t204 obs. of  26 variables:\n",
      " $ risk             : int  3 1 2 2 2 1 1 1 0 2 ...\n",
      " $ normalized_losses: Factor w/ 52 levels \"?\",\"101\",\"102\",..: 1 1 29 29 1 27 1 27 1 33 ...\n",
      " $ make             : Factor w/ 22 levels \"alfa-romero\",..: 1 1 2 2 2 2 2 2 2 3 ...\n",
      " $ fuel_type        : Factor w/ 2 levels \"diesel\",\"gas\": 2 2 2 2 2 2 2 2 2 2 ...\n",
      " $ aspiration       : Factor w/ 2 levels \"std\",\"turbo\": 1 1 1 1 1 1 1 2 2 1 ...\n",
      " $ num_doors        : Factor w/ 3 levels \"?\",\"four\",\"two\": 3 3 2 2 3 2 2 2 3 3 ...\n",
      " $ body_style       : Factor w/ 5 levels \"convertible\",..: 1 3 4 4 4 4 5 4 3 4 ...\n",
      " $ drive_wheels     : Factor w/ 3 levels \"4wd\",\"fwd\",\"rwd\": 3 3 2 1 2 2 2 2 1 3 ...\n",
      " $ engine_location  : Factor w/ 2 levels \"front\",\"rear\": 1 1 1 1 1 1 1 1 1 1 ...\n",
      " $ wheel_base       : num  88.6 94.5 99.8 99.4 99.8 ...\n",
      " $ length           : num  169 171 177 177 177 ...\n",
      " $ width            : num  64.1 65.5 66.2 66.4 66.3 71.4 71.4 71.4 67.9 64.8 ...\n",
      " $ height           : num  48.8 52.4 54.3 54.3 53.1 55.7 55.7 55.9 52 54.3 ...\n",
      " $ curb_weight      : int  2548 2823 2337 2824 2507 2844 2954 3086 3053 2395 ...\n",
      " $ engine_type      : Factor w/ 7 levels \"dohc\",\"dohcv\",..: 1 6 4 4 4 4 4 4 4 4 ...\n",
      " $ num_cylinders    : Factor w/ 7 levels \"eight\",\"five\",..: 3 4 3 2 2 2 2 2 2 3 ...\n",
      " $ engine_size      : int  130 152 109 136 136 136 136 131 131 108 ...\n",
      " $ fuel_system      : Factor w/ 8 levels \"1bbl\",\"2bbl\",..: 6 6 6 6 6 6 6 6 6 6 ...\n",
      " $ bore             : Factor w/ 39 levels \"?\",\"2.54\",\"2.68\",..: 25 3 15 15 15 15 15 12 12 26 ...\n",
      " $ stroke           : Factor w/ 37 levels \"?\",\"2.07\",\"2.19\",..: 6 29 26 26 26 26 26 26 26 8 ...\n",
      " $ compression_ratio: num  9 9 10 8 8.5 8.5 8.5 8.3 7 8.8 ...\n",
      " $ horsepower       : Factor w/ 60 levels \"?\",\"100\",\"101\",..: 7 22 4 10 6 6 6 17 25 3 ...\n",
      " $ peak_rpm         : Factor w/ 24 levels \"?\",\"4150\",\"4200\",..: 12 12 18 18 18 18 18 18 18 21 ...\n",
      " $ city_mpg         : int  21 19 24 18 19 19 19 17 16 23 ...\n",
      " $ highway_mpg      : int  27 26 30 22 25 25 25 20 22 29 ...\n",
      " $ price            : Factor w/ 186 levels \"?\",\"10198\",\"10245\",..: 51 51 37 62 42 64 72 82 1 50 ...\n"
     ]
    }
   ],
   "source": [
    "str(autos)"
   ]
  },
  {
   "cell_type": "code",
   "execution_count": 388,
   "metadata": {},
   "outputs": [
    {
     "data": {
      "text/plain": [
       "      risk         normalized_losses         make     fuel_type   aspiration \n",
       " Min.   :-2.0000   ?      : 40       toyota    :32   diesel: 20   std  :167  \n",
       " 1st Qu.: 0.0000   161    : 11       nissan    :18   gas   :184   turbo: 37  \n",
       " Median : 1.0000   91     :  8       mazda     :17                           \n",
       " Mean   : 0.8235   150    :  7       honda     :13                           \n",
       " 3rd Qu.: 2.0000   104    :  6       mitsubishi:13                           \n",
       " Max.   : 3.0000   128    :  6       subaru    :12                           \n",
       "                   (Other):126       (Other)   :99                           \n",
       " num_doors        body_style drive_wheels engine_location   wheel_base    \n",
       " ?   :  2   convertible: 5   4wd:  9      front:201       Min.   : 86.60  \n",
       " four:114   hardtop    : 8   fwd:120      rear :  3       1st Qu.: 94.50  \n",
       " two : 88   hatchback  :70   rwd: 75                      Median : 97.00  \n",
       "            sedan      :96                                Mean   : 98.81  \n",
       "            wagon      :25                                3rd Qu.:102.40  \n",
       "                                                          Max.   :120.90  \n",
       "                                                                          \n",
       "     length          width           height       curb_weight   engine_type\n",
       " Min.   :141.1   Min.   :60.30   Min.   :47.80   Min.   :1488   dohc : 11  \n",
       " 1st Qu.:166.3   1st Qu.:64.08   1st Qu.:52.00   1st Qu.:2145   dohcv:  1  \n",
       " Median :173.2   Median :65.50   Median :54.10   Median :2414   l    : 12  \n",
       " Mean   :174.1   Mean   :65.92   Mean   :53.75   Mean   :2556   ohc  :148  \n",
       " 3rd Qu.:183.2   3rd Qu.:66.90   3rd Qu.:55.50   3rd Qu.:2939   ohcf : 15  \n",
       " Max.   :208.1   Max.   :72.30   Max.   :59.80   Max.   :4066   ohcv : 13  \n",
       "                                                                rotor:  4  \n",
       " num_cylinders  engine_size     fuel_system      bore         stroke   \n",
       " eight :  5    Min.   : 61.0   mpfi   :93   3.62   : 23   3.40   : 20  \n",
       " five  : 11    1st Qu.: 97.0   2bbl   :66   3.19   : 20   3.03   : 14  \n",
       " four  :158    Median :119.5   idi    :20   3.15   : 15   3.15   : 14  \n",
       " six   : 24    Mean   :126.9   1bbl   :11   2.97   : 12   3.23   : 14  \n",
       " three :  1    3rd Qu.:142.0   spdi   : 9   3.03   : 12   3.39   : 13  \n",
       " twelve:  1    Max.   :326.0   4bbl   : 3   3.46   :  9   2.64   : 11  \n",
       " two   :  4                    (Other): 2   (Other):113   (Other):118  \n",
       " compression_ratio   horsepower     peak_rpm     city_mpg      highway_mpg   \n",
       " Min.   : 7.000    68     : 19   5500   :37   Min.   :13.00   Min.   :16.00  \n",
       " 1st Qu.: 8.575    70     : 11   4800   :36   1st Qu.:19.00   1st Qu.:25.00  \n",
       " Median : 9.000    69     : 10   5000   :26   Median :24.00   Median :30.00  \n",
       " Mean   :10.148    116    :  9   5200   :23   Mean   :25.24   Mean   :30.77  \n",
       " 3rd Qu.: 9.400    110    :  8   5400   :13   3rd Qu.:30.00   3rd Qu.:34.50  \n",
       " Max.   :23.000    95     :  7   6000   : 9   Max.   :49.00   Max.   :54.00  \n",
       "                   (Other):140   (Other):60                                  \n",
       "     price    \n",
       " ?      :  4  \n",
       " 13499  :  2  \n",
       " 16500  :  2  \n",
       " 18150  :  2  \n",
       " 5572   :  2  \n",
       " 6229   :  2  \n",
       " (Other):190  "
      ]
     },
     "metadata": {},
     "output_type": "display_data"
    }
   ],
   "source": [
    "summary(autos)"
   ]
  },
  {
   "cell_type": "markdown",
   "metadata": {},
   "source": [
    "Nos quedamos solo con las columnas: \"price\",\"horsepower\",\"body_style\",\"risk\""
   ]
  },
  {
   "cell_type": "code",
   "execution_count": 389,
   "metadata": {},
   "outputs": [
    {
     "data": {
      "text/html": [
       "<table>\n",
       "<caption>A data.frame: 6 × 4</caption>\n",
       "<thead>\n",
       "\t<tr><th scope=col>price</th><th scope=col>horsepower</th><th scope=col>body_style</th><th scope=col>risk</th></tr>\n",
       "\t<tr><th scope=col>&lt;fct&gt;</th><th scope=col>&lt;fct&gt;</th><th scope=col>&lt;fct&gt;</th><th scope=col>&lt;int&gt;</th></tr>\n",
       "</thead>\n",
       "<tbody>\n",
       "\t<tr><td>16500</td><td>111</td><td>convertible</td><td>3</td></tr>\n",
       "\t<tr><td>16500</td><td>154</td><td>hatchback  </td><td>1</td></tr>\n",
       "\t<tr><td>13950</td><td>102</td><td>sedan      </td><td>2</td></tr>\n",
       "\t<tr><td>17450</td><td>115</td><td>sedan      </td><td>2</td></tr>\n",
       "\t<tr><td>15250</td><td>110</td><td>sedan      </td><td>2</td></tr>\n",
       "\t<tr><td>17710</td><td>110</td><td>sedan      </td><td>1</td></tr>\n",
       "</tbody>\n",
       "</table>\n"
      ],
      "text/latex": [
       "A data.frame: 6 × 4\n",
       "\\begin{tabular}{r|llll}\n",
       " price & horsepower & body\\_style & risk\\\\\n",
       " <fct> & <fct> & <fct> & <int>\\\\\n",
       "\\hline\n",
       "\t 16500 & 111 & convertible & 3\\\\\n",
       "\t 16500 & 154 & hatchback   & 1\\\\\n",
       "\t 13950 & 102 & sedan       & 2\\\\\n",
       "\t 17450 & 115 & sedan       & 2\\\\\n",
       "\t 15250 & 110 & sedan       & 2\\\\\n",
       "\t 17710 & 110 & sedan       & 1\\\\\n",
       "\\end{tabular}\n"
      ],
      "text/markdown": [
       "\n",
       "A data.frame: 6 × 4\n",
       "\n",
       "| price &lt;fct&gt; | horsepower &lt;fct&gt; | body_style &lt;fct&gt; | risk &lt;int&gt; |\n",
       "|---|---|---|---|\n",
       "| 16500 | 111 | convertible | 3 |\n",
       "| 16500 | 154 | hatchback   | 1 |\n",
       "| 13950 | 102 | sedan       | 2 |\n",
       "| 17450 | 115 | sedan       | 2 |\n",
       "| 15250 | 110 | sedan       | 2 |\n",
       "| 17710 | 110 | sedan       | 1 |\n",
       "\n"
      ],
      "text/plain": [
       "  price horsepower body_style  risk\n",
       "1 16500 111        convertible 3   \n",
       "2 16500 154        hatchback   1   \n",
       "3 13950 102        sedan       2   \n",
       "4 17450 115        sedan       2   \n",
       "5 15250 110        sedan       2   \n",
       "6 17710 110        sedan       1   "
      ]
     },
     "metadata": {},
     "output_type": "display_data"
    }
   ],
   "source": [
    "autos <- autos[,c( \"price\",\"horsepower\",\"body_style\",\"risk\")]\n",
    "head(autos)"
   ]
  },
  {
   "cell_type": "code",
   "execution_count": 390,
   "metadata": {},
   "outputs": [
    {
     "name": "stdout",
     "output_type": "stream",
     "text": [
      "'data.frame':\t204 obs. of  4 variables:\n",
      " $ price     : Factor w/ 186 levels \"?\",\"10198\",\"10245\",..: 51 51 37 62 42 64 72 82 1 50 ...\n",
      " $ horsepower: Factor w/ 60 levels \"?\",\"100\",\"101\",..: 7 22 4 10 6 6 6 17 25 3 ...\n",
      " $ body_style: Factor w/ 5 levels \"convertible\",..: 1 3 4 4 4 4 5 4 3 4 ...\n",
      " $ risk      : int  3 1 2 2 2 1 1 1 0 2 ...\n"
     ]
    }
   ],
   "source": [
    "str(autos)"
   ]
  },
  {
   "cell_type": "markdown",
   "metadata": {
    "collapsed": true
   },
   "source": [
    "En este CSV cuando existe un valor desconocido lo han indicado con el caracter '?'. Por ese motivo la columna 'price' y 'horsepower' es factor en lugar de numeric.\n",
    "Tenemos que indicarle a R que son NA:"
   ]
  },
  {
   "cell_type": "code",
   "execution_count": 391,
   "metadata": {},
   "outputs": [],
   "source": [
    "autos$price[autos$price=='?']<-NA\n",
    "autos$horsepower[autos$horsepower=='?']<-NA"
   ]
  },
  {
   "cell_type": "markdown",
   "metadata": {},
   "source": [
    "Tenemos que convertir el factor de 'price' y 'horsepower' en valores numéricos:"
   ]
  },
  {
   "cell_type": "code",
   "execution_count": 392,
   "metadata": {},
   "outputs": [
    {
     "name": "stdout",
     "output_type": "stream",
     "text": [
      "'data.frame':\t204 obs. of  4 variables:\n",
      " $ price     : Factor w/ 186 levels \"?\",\"10198\",\"10245\",..: 51 51 37 62 42 64 72 82 NA 50 ...\n",
      " $ horsepower: Factor w/ 60 levels \"?\",\"100\",\"101\",..: 7 22 4 10 6 6 6 17 25 3 ...\n",
      " $ body_style: Factor w/ 5 levels \"convertible\",..: 1 3 4 4 4 4 5 4 3 4 ...\n",
      " $ risk      : int  3 1 2 2 2 1 1 1 0 2 ...\n"
     ]
    }
   ],
   "source": [
    "str(autos)"
   ]
  },
  {
   "cell_type": "code",
   "execution_count": 380,
   "metadata": {},
   "outputs": [],
   "source": [
    "autos$price<-as.numeric(as.character(autos$price))\n",
    "autos$horsepower<-as.numeric(as.character(autos$horsepower))"
   ]
  },
  {
   "cell_type": "code",
   "execution_count": 381,
   "metadata": {},
   "outputs": [
    {
     "name": "stdout",
     "output_type": "stream",
     "text": [
      "'data.frame':\t204 obs. of  4 variables:\n",
      " $ price     : num  16500 16500 13950 17450 15250 ...\n",
      " $ horsepower: num  111 154 102 115 110 110 110 140 160 101 ...\n",
      " $ body_style: Factor w/ 5 levels \"convertible\",..: 1 3 4 4 4 4 5 4 3 4 ...\n",
      " $ risk      : int  3 1 2 2 2 1 1 1 0 2 ...\n"
     ]
    }
   ],
   "source": [
    "str(autos)"
   ]
  },
  {
   "cell_type": "code",
   "execution_count": 382,
   "metadata": {},
   "outputs": [
    {
     "data": {
      "text/plain": [
       "     price         horsepower          body_style      risk        \n",
       " Min.   : 5118   Min.   : 48.0   convertible: 5   Min.   :-2.0000  \n",
       " 1st Qu.: 7775   1st Qu.: 70.0   hardtop    : 8   1st Qu.: 0.0000  \n",
       " Median :10270   Median : 95.0   hatchback  :70   Median : 1.0000  \n",
       " Mean   :13206   Mean   :104.2   sedan      :96   Mean   : 0.8235  \n",
       " 3rd Qu.:16501   3rd Qu.:116.0   wagon      :25   3rd Qu.: 2.0000  \n",
       " Max.   :45400   Max.   :288.0                    Max.   : 3.0000  \n",
       " NA's   :4       NA's   :2                                         "
      ]
     },
     "metadata": {},
     "output_type": "display_data"
    }
   ],
   "source": [
    "summary(autos)"
   ]
  },
  {
   "cell_type": "code",
   "execution_count": 383,
   "metadata": {},
   "outputs": [
    {
     "data": {
      "text/html": [
       "<table>\n",
       "<caption>A data.frame: 4 × 4</caption>\n",
       "<thead>\n",
       "\t<tr><th></th><th scope=col>price</th><th scope=col>horsepower</th><th scope=col>body_style</th><th scope=col>risk</th></tr>\n",
       "\t<tr><th></th><th scope=col>&lt;dbl&gt;</th><th scope=col>&lt;dbl&gt;</th><th scope=col>&lt;fct&gt;</th><th scope=col>&lt;int&gt;</th></tr>\n",
       "</thead>\n",
       "<tbody>\n",
       "\t<tr><th scope=row>9</th><td>NA</td><td>160</td><td>hatchback</td><td>0</td></tr>\n",
       "\t<tr><th scope=row>44</th><td>NA</td><td> 70</td><td>sedan    </td><td>1</td></tr>\n",
       "\t<tr><th scope=row>45</th><td>NA</td><td> 70</td><td>sedan    </td><td>0</td></tr>\n",
       "\t<tr><th scope=row>129</th><td>NA</td><td>288</td><td>hatchback</td><td>1</td></tr>\n",
       "</tbody>\n",
       "</table>\n"
      ],
      "text/latex": [
       "A data.frame: 4 × 4\n",
       "\\begin{tabular}{r|llll}\n",
       "  & price & horsepower & body\\_style & risk\\\\\n",
       "  & <dbl> & <dbl> & <fct> & <int>\\\\\n",
       "\\hline\n",
       "\t9 & NA & 160 & hatchback & 0\\\\\n",
       "\t44 & NA &  70 & sedan     & 1\\\\\n",
       "\t45 & NA &  70 & sedan     & 0\\\\\n",
       "\t129 & NA & 288 & hatchback & 1\\\\\n",
       "\\end{tabular}\n"
      ],
      "text/markdown": [
       "\n",
       "A data.frame: 4 × 4\n",
       "\n",
       "| <!--/--> | price &lt;dbl&gt; | horsepower &lt;dbl&gt; | body_style &lt;fct&gt; | risk &lt;int&gt; |\n",
       "|---|---|---|---|---|\n",
       "| 9 | NA | 160 | hatchback | 0 |\n",
       "| 44 | NA |  70 | sedan     | 1 |\n",
       "| 45 | NA |  70 | sedan     | 0 |\n",
       "| 129 | NA | 288 | hatchback | 1 |\n",
       "\n"
      ],
      "text/plain": [
       "    price horsepower body_style risk\n",
       "9   NA    160        hatchback  0   \n",
       "44  NA     70        sedan      1   \n",
       "45  NA     70        sedan      0   \n",
       "129 NA    288        hatchback  1   "
      ]
     },
     "metadata": {},
     "output_type": "display_data"
    }
   ],
   "source": [
    "autos[is.na(autos$price),]"
   ]
  },
  {
   "cell_type": "markdown",
   "metadata": {
    "collapsed": true
   },
   "source": [
    "#### Dataset cancer esófago\n",
    "\n",
    "\n",
    "Se realizó un estudio retrospectivo de casos y controles de 200 casos masculinos de cáncer de esófago y 778 controles poblacionales en Ille-et-Vilanine (Francia). Los logaritmos de los riesgos relativos de desarrollar la enfermedad aumentan linealmente con el consumo diario de alcohol y tabaco de manera independiente. El efecto combinado de ambos se ajusta con un modelo multiplicativo que se propone. Este modelo podría ser aplicable a otras situaciones. Explica la proporción de sexos y las diferencias urbanas / rurales observadas en Ille-er-Vilaine. \n",
    "\n",
    "http://www.math.umd.edu/~evs/s430.old/Data/ESOPH.dat\n",
    "\n",
    "Columnas:\n",
    "* agegp: grupo de edad\n",
    "* alcgp: consumo de alcohol\n",
    "* tobgp: consumo de tabaco\n",
    "* ncases: número de casos de cancer\n",
    "* ncontrol: población de control\n"
   ]
  },
  {
   "cell_type": "code",
   "execution_count": 404,
   "metadata": {},
   "outputs": [
    {
     "data": {
      "text/html": [
       "<table>\n",
       "<caption>A data.frame: 6 × 5</caption>\n",
       "<thead>\n",
       "\t<tr><th scope=col>agegp</th><th scope=col>alcgp</th><th scope=col>tobgp</th><th scope=col>ncases</th><th scope=col>ncontrols</th></tr>\n",
       "\t<tr><th scope=col>&lt;fct&gt;</th><th scope=col>&lt;fct&gt;</th><th scope=col>&lt;fct&gt;</th><th scope=col>&lt;int&gt;</th><th scope=col>&lt;int&gt;</th></tr>\n",
       "</thead>\n",
       "<tbody>\n",
       "\t<tr><td>25-34</td><td>0-39g/day</td><td>0-9g/day</td><td>0</td><td>40</td></tr>\n",
       "\t<tr><td>25-34</td><td>0-39g/day</td><td>10-19   </td><td>0</td><td>10</td></tr>\n",
       "\t<tr><td>25-34</td><td>0-39g/day</td><td>20-29   </td><td>0</td><td> 6</td></tr>\n",
       "\t<tr><td>25-34</td><td>0-39g/day</td><td>30+     </td><td>0</td><td> 5</td></tr>\n",
       "\t<tr><td>25-34</td><td>40-79    </td><td>0-9g/day</td><td>0</td><td>27</td></tr>\n",
       "\t<tr><td>25-34</td><td>40-79    </td><td>10-19   </td><td>0</td><td> 7</td></tr>\n",
       "</tbody>\n",
       "</table>\n"
      ],
      "text/latex": [
       "A data.frame: 6 × 5\n",
       "\\begin{tabular}{r|lllll}\n",
       " agegp & alcgp & tobgp & ncases & ncontrols\\\\\n",
       " <fct> & <fct> & <fct> & <int> & <int>\\\\\n",
       "\\hline\n",
       "\t 25-34 & 0-39g/day & 0-9g/day & 0 & 40\\\\\n",
       "\t 25-34 & 0-39g/day & 10-19    & 0 & 10\\\\\n",
       "\t 25-34 & 0-39g/day & 20-29    & 0 &  6\\\\\n",
       "\t 25-34 & 0-39g/day & 30+      & 0 &  5\\\\\n",
       "\t 25-34 & 40-79     & 0-9g/day & 0 & 27\\\\\n",
       "\t 25-34 & 40-79     & 10-19    & 0 &  7\\\\\n",
       "\\end{tabular}\n"
      ],
      "text/markdown": [
       "\n",
       "A data.frame: 6 × 5\n",
       "\n",
       "| agegp &lt;fct&gt; | alcgp &lt;fct&gt; | tobgp &lt;fct&gt; | ncases &lt;int&gt; | ncontrols &lt;int&gt; |\n",
       "|---|---|---|---|---|\n",
       "| 25-34 | 0-39g/day | 0-9g/day | 0 | 40 |\n",
       "| 25-34 | 0-39g/day | 10-19    | 0 | 10 |\n",
       "| 25-34 | 0-39g/day | 20-29    | 0 |  6 |\n",
       "| 25-34 | 0-39g/day | 30+      | 0 |  5 |\n",
       "| 25-34 | 40-79     | 0-9g/day | 0 | 27 |\n",
       "| 25-34 | 40-79     | 10-19    | 0 |  7 |\n",
       "\n"
      ],
      "text/plain": [
       "  agegp alcgp     tobgp    ncases ncontrols\n",
       "1 25-34 0-39g/day 0-9g/day 0      40       \n",
       "2 25-34 0-39g/day 10-19    0      10       \n",
       "3 25-34 0-39g/day 20-29    0       6       \n",
       "4 25-34 0-39g/day 30+      0       5       \n",
       "5 25-34 40-79     0-9g/day 0      27       \n",
       "6 25-34 40-79     10-19    0       7       "
      ]
     },
     "metadata": {},
     "output_type": "display_data"
    }
   ],
   "source": [
    "dfcancer<-read.csv(\"data/ESOPH.dat\",skip=43,sep = \"\")\n",
    "head(dfcancer)"
   ]
  },
  {
   "cell_type": "code",
   "execution_count": 405,
   "metadata": {},
   "outputs": [
    {
     "name": "stdout",
     "output_type": "stream",
     "text": [
      "'data.frame':\t88 obs. of  5 variables:\n",
      " $ agegp    : Factor w/ 6 levels \"25-34\",\"35-44\",..: 1 1 1 1 1 1 1 1 1 1 ...\n",
      " $ alcgp    : Factor w/ 4 levels \"0-39g/day\",\"120+\",..: 1 1 1 1 3 3 3 3 4 4 ...\n",
      " $ tobgp    : Factor w/ 4 levels \"0-9g/day\",\"10-19\",..: 1 2 3 4 1 2 3 4 1 2 ...\n",
      " $ ncases   : int  0 0 0 0 0 0 0 0 0 0 ...\n",
      " $ ncontrols: int  40 10 6 5 27 7 4 7 2 1 ...\n"
     ]
    }
   ],
   "source": [
    "str(dfcancer)"
   ]
  },
  {
   "cell_type": "markdown",
   "metadata": {},
   "source": [
    "En ocasiones podemos convertir los factores en números. Com en este caso que sustituimos los rangos por su valor medio:"
   ]
  },
  {
   "cell_type": "code",
   "execution_count": 406,
   "metadata": {},
   "outputs": [
    {
     "data": {
      "text/html": [
       "<ol class=list-inline>\n",
       "\t<li>25-34</li>\n",
       "\t<li>35-44</li>\n",
       "\t<li>45-54</li>\n",
       "\t<li>55-64</li>\n",
       "\t<li>65-74</li>\n",
       "\t<li>75+</li>\n",
       "</ol>\n",
       "\n",
       "<details>\n",
       "\t<summary style=display:list-item;cursor:pointer>\n",
       "\t\t<strong>Levels</strong>:\n",
       "\t</summary>\n",
       "\t<ol class=list-inline>\n",
       "\t\t<li>'25-34'</li>\n",
       "\t\t<li>'35-44'</li>\n",
       "\t\t<li>'45-54'</li>\n",
       "\t\t<li>'55-64'</li>\n",
       "\t\t<li>'65-74'</li>\n",
       "\t\t<li>'75+'</li>\n",
       "\t</ol>\n",
       "</details>"
      ],
      "text/latex": [
       "\\begin{enumerate*}\n",
       "\\item 25-34\n",
       "\\item 35-44\n",
       "\\item 45-54\n",
       "\\item 55-64\n",
       "\\item 65-74\n",
       "\\item 75+\n",
       "\\end{enumerate*}\n",
       "\n",
       "\\emph{Levels}: \\begin{enumerate*}\n",
       "\\item '25-34'\n",
       "\\item '35-44'\n",
       "\\item '45-54'\n",
       "\\item '55-64'\n",
       "\\item '65-74'\n",
       "\\item '75+'\n",
       "\\end{enumerate*}\n"
      ],
      "text/markdown": [
       "1. 25-34\n",
       "2. 35-44\n",
       "3. 45-54\n",
       "4. 55-64\n",
       "5. 65-74\n",
       "6. 75+\n",
       "\n",
       "\n",
       "\n",
       "**Levels**: 1. '25-34'\n",
       "2. '35-44'\n",
       "3. '45-54'\n",
       "4. '55-64'\n",
       "5. '65-74'\n",
       "6. '75+'\n",
       "\n",
       "\n"
      ],
      "text/plain": [
       "[1] 25-34 35-44 45-54 55-64 65-74 75+  \n",
       "Levels: 25-34 35-44 45-54 55-64 65-74 75+"
      ]
     },
     "metadata": {},
     "output_type": "display_data"
    }
   ],
   "source": [
    "unique(dfcancer$agegp)"
   ]
  },
  {
   "cell_type": "code",
   "execution_count": 407,
   "metadata": {},
   "outputs": [
    {
     "data": {
      "text/html": [
       "<ol class=list-inline>\n",
       "\t<li>'25-34'</li>\n",
       "\t<li>'35-44'</li>\n",
       "\t<li>'45-54'</li>\n",
       "\t<li>'55-64'</li>\n",
       "\t<li>'65-74'</li>\n",
       "\t<li>'75+'</li>\n",
       "</ol>\n"
      ],
      "text/latex": [
       "\\begin{enumerate*}\n",
       "\\item '25-34'\n",
       "\\item '35-44'\n",
       "\\item '45-54'\n",
       "\\item '55-64'\n",
       "\\item '65-74'\n",
       "\\item '75+'\n",
       "\\end{enumerate*}\n"
      ],
      "text/markdown": [
       "1. '25-34'\n",
       "2. '35-44'\n",
       "3. '45-54'\n",
       "4. '55-64'\n",
       "5. '65-74'\n",
       "6. '75+'\n",
       "\n",
       "\n"
      ],
      "text/plain": [
       "[1] \"25-34\" \"35-44\" \"45-54\" \"55-64\" \"65-74\" \"75+\"  "
      ]
     },
     "metadata": {},
     "output_type": "display_data"
    }
   ],
   "source": [
    "levels(dfcancer$agegp)"
   ]
  },
  {
   "cell_type": "code",
   "execution_count": 408,
   "metadata": {},
   "outputs": [],
   "source": [
    "ageVectors<-c(30,40,50,60,70,80)"
   ]
  },
  {
   "cell_type": "code",
   "execution_count": 412,
   "metadata": {},
   "outputs": [
    {
     "data": {
      "text/html": [
       "<ol class=list-inline>\n",
       "\t<li>1</li>\n",
       "\t<li>1</li>\n",
       "\t<li>1</li>\n",
       "\t<li>1</li>\n",
       "\t<li>1</li>\n",
       "\t<li>1</li>\n",
       "\t<li>1</li>\n",
       "\t<li>1</li>\n",
       "\t<li>1</li>\n",
       "\t<li>1</li>\n",
       "\t<li>1</li>\n",
       "\t<li>1</li>\n",
       "\t<li>1</li>\n",
       "\t<li>1</li>\n",
       "\t<li>1</li>\n",
       "\t<li>2</li>\n",
       "\t<li>2</li>\n",
       "\t<li>2</li>\n",
       "\t<li>2</li>\n",
       "\t<li>2</li>\n",
       "\t<li>2</li>\n",
       "\t<li>2</li>\n",
       "\t<li>2</li>\n",
       "\t<li>2</li>\n",
       "\t<li>2</li>\n",
       "\t<li>2</li>\n",
       "\t<li>2</li>\n",
       "\t<li>2</li>\n",
       "\t<li>2</li>\n",
       "\t<li>2</li>\n",
       "\t<li>3</li>\n",
       "\t<li>3</li>\n",
       "\t<li>3</li>\n",
       "\t<li>3</li>\n",
       "\t<li>3</li>\n",
       "\t<li>3</li>\n",
       "\t<li>3</li>\n",
       "\t<li>3</li>\n",
       "\t<li>3</li>\n",
       "\t<li>3</li>\n",
       "\t<li>3</li>\n",
       "\t<li>3</li>\n",
       "\t<li>3</li>\n",
       "\t<li>3</li>\n",
       "\t<li>3</li>\n",
       "\t<li>3</li>\n",
       "\t<li>4</li>\n",
       "\t<li>4</li>\n",
       "\t<li>4</li>\n",
       "\t<li>4</li>\n",
       "\t<li>4</li>\n",
       "\t<li>4</li>\n",
       "\t<li>4</li>\n",
       "\t<li>4</li>\n",
       "\t<li>4</li>\n",
       "\t<li>4</li>\n",
       "\t<li>4</li>\n",
       "\t<li>4</li>\n",
       "\t<li>4</li>\n",
       "\t<li>4</li>\n",
       "\t<li>4</li>\n",
       "\t<li>4</li>\n",
       "\t<li>5</li>\n",
       "\t<li>5</li>\n",
       "\t<li>5</li>\n",
       "\t<li>5</li>\n",
       "\t<li>5</li>\n",
       "\t<li>5</li>\n",
       "\t<li>5</li>\n",
       "\t<li>5</li>\n",
       "\t<li>5</li>\n",
       "\t<li>5</li>\n",
       "\t<li>5</li>\n",
       "\t<li>5</li>\n",
       "\t<li>5</li>\n",
       "\t<li>5</li>\n",
       "\t<li>5</li>\n",
       "\t<li>6</li>\n",
       "\t<li>6</li>\n",
       "\t<li>6</li>\n",
       "\t<li>6</li>\n",
       "\t<li>6</li>\n",
       "\t<li>6</li>\n",
       "\t<li>6</li>\n",
       "\t<li>6</li>\n",
       "\t<li>6</li>\n",
       "\t<li>6</li>\n",
       "\t<li>6</li>\n",
       "</ol>\n"
      ],
      "text/latex": [
       "\\begin{enumerate*}\n",
       "\\item 1\n",
       "\\item 1\n",
       "\\item 1\n",
       "\\item 1\n",
       "\\item 1\n",
       "\\item 1\n",
       "\\item 1\n",
       "\\item 1\n",
       "\\item 1\n",
       "\\item 1\n",
       "\\item 1\n",
       "\\item 1\n",
       "\\item 1\n",
       "\\item 1\n",
       "\\item 1\n",
       "\\item 2\n",
       "\\item 2\n",
       "\\item 2\n",
       "\\item 2\n",
       "\\item 2\n",
       "\\item 2\n",
       "\\item 2\n",
       "\\item 2\n",
       "\\item 2\n",
       "\\item 2\n",
       "\\item 2\n",
       "\\item 2\n",
       "\\item 2\n",
       "\\item 2\n",
       "\\item 2\n",
       "\\item 3\n",
       "\\item 3\n",
       "\\item 3\n",
       "\\item 3\n",
       "\\item 3\n",
       "\\item 3\n",
       "\\item 3\n",
       "\\item 3\n",
       "\\item 3\n",
       "\\item 3\n",
       "\\item 3\n",
       "\\item 3\n",
       "\\item 3\n",
       "\\item 3\n",
       "\\item 3\n",
       "\\item 3\n",
       "\\item 4\n",
       "\\item 4\n",
       "\\item 4\n",
       "\\item 4\n",
       "\\item 4\n",
       "\\item 4\n",
       "\\item 4\n",
       "\\item 4\n",
       "\\item 4\n",
       "\\item 4\n",
       "\\item 4\n",
       "\\item 4\n",
       "\\item 4\n",
       "\\item 4\n",
       "\\item 4\n",
       "\\item 4\n",
       "\\item 5\n",
       "\\item 5\n",
       "\\item 5\n",
       "\\item 5\n",
       "\\item 5\n",
       "\\item 5\n",
       "\\item 5\n",
       "\\item 5\n",
       "\\item 5\n",
       "\\item 5\n",
       "\\item 5\n",
       "\\item 5\n",
       "\\item 5\n",
       "\\item 5\n",
       "\\item 5\n",
       "\\item 6\n",
       "\\item 6\n",
       "\\item 6\n",
       "\\item 6\n",
       "\\item 6\n",
       "\\item 6\n",
       "\\item 6\n",
       "\\item 6\n",
       "\\item 6\n",
       "\\item 6\n",
       "\\item 6\n",
       "\\end{enumerate*}\n"
      ],
      "text/markdown": [
       "1. 1\n",
       "2. 1\n",
       "3. 1\n",
       "4. 1\n",
       "5. 1\n",
       "6. 1\n",
       "7. 1\n",
       "8. 1\n",
       "9. 1\n",
       "10. 1\n",
       "11. 1\n",
       "12. 1\n",
       "13. 1\n",
       "14. 1\n",
       "15. 1\n",
       "16. 2\n",
       "17. 2\n",
       "18. 2\n",
       "19. 2\n",
       "20. 2\n",
       "21. 2\n",
       "22. 2\n",
       "23. 2\n",
       "24. 2\n",
       "25. 2\n",
       "26. 2\n",
       "27. 2\n",
       "28. 2\n",
       "29. 2\n",
       "30. 2\n",
       "31. 3\n",
       "32. 3\n",
       "33. 3\n",
       "34. 3\n",
       "35. 3\n",
       "36. 3\n",
       "37. 3\n",
       "38. 3\n",
       "39. 3\n",
       "40. 3\n",
       "41. 3\n",
       "42. 3\n",
       "43. 3\n",
       "44. 3\n",
       "45. 3\n",
       "46. 3\n",
       "47. 4\n",
       "48. 4\n",
       "49. 4\n",
       "50. 4\n",
       "51. 4\n",
       "52. 4\n",
       "53. 4\n",
       "54. 4\n",
       "55. 4\n",
       "56. 4\n",
       "57. 4\n",
       "58. 4\n",
       "59. 4\n",
       "60. 4\n",
       "61. 4\n",
       "62. 4\n",
       "63. 5\n",
       "64. 5\n",
       "65. 5\n",
       "66. 5\n",
       "67. 5\n",
       "68. 5\n",
       "69. 5\n",
       "70. 5\n",
       "71. 5\n",
       "72. 5\n",
       "73. 5\n",
       "74. 5\n",
       "75. 5\n",
       "76. 5\n",
       "77. 5\n",
       "78. 6\n",
       "79. 6\n",
       "80. 6\n",
       "81. 6\n",
       "82. 6\n",
       "83. 6\n",
       "84. 6\n",
       "85. 6\n",
       "86. 6\n",
       "87. 6\n",
       "88. 6\n",
       "\n",
       "\n"
      ],
      "text/plain": [
       " [1] 1 1 1 1 1 1 1 1 1 1 1 1 1 1 1 2 2 2 2 2 2 2 2 2 2 2 2 2 2 2 3 3 3 3 3 3 3 3\n",
       "[39] 3 3 3 3 3 3 3 3 4 4 4 4 4 4 4 4 4 4 4 4 4 4 4 4 5 5 5 5 5 5 5 5 5 5 5 5 5 5\n",
       "[77] 5 6 6 6 6 6 6 6 6 6 6 6"
      ]
     },
     "metadata": {},
     "output_type": "display_data"
    }
   ],
   "source": [
    "as.numeric(dfcancer$agegp)"
   ]
  },
  {
   "cell_type": "code",
   "execution_count": 415,
   "metadata": {},
   "outputs": [
    {
     "data": {
      "text/html": [
       "<ol class=list-inline>\n",
       "\t<li>30</li>\n",
       "\t<li>30</li>\n",
       "\t<li>30</li>\n",
       "\t<li>30</li>\n",
       "\t<li>30</li>\n",
       "\t<li>30</li>\n",
       "\t<li>30</li>\n",
       "\t<li>30</li>\n",
       "\t<li>30</li>\n",
       "\t<li>30</li>\n",
       "\t<li>30</li>\n",
       "\t<li>30</li>\n",
       "\t<li>30</li>\n",
       "\t<li>30</li>\n",
       "\t<li>30</li>\n",
       "\t<li>40</li>\n",
       "\t<li>40</li>\n",
       "\t<li>40</li>\n",
       "\t<li>40</li>\n",
       "\t<li>40</li>\n",
       "\t<li>40</li>\n",
       "\t<li>40</li>\n",
       "\t<li>40</li>\n",
       "\t<li>40</li>\n",
       "\t<li>40</li>\n",
       "\t<li>40</li>\n",
       "\t<li>40</li>\n",
       "\t<li>40</li>\n",
       "\t<li>40</li>\n",
       "\t<li>40</li>\n",
       "\t<li>50</li>\n",
       "\t<li>50</li>\n",
       "\t<li>50</li>\n",
       "\t<li>50</li>\n",
       "\t<li>50</li>\n",
       "\t<li>50</li>\n",
       "\t<li>50</li>\n",
       "\t<li>50</li>\n",
       "\t<li>50</li>\n",
       "\t<li>50</li>\n",
       "\t<li>50</li>\n",
       "\t<li>50</li>\n",
       "\t<li>50</li>\n",
       "\t<li>50</li>\n",
       "\t<li>50</li>\n",
       "\t<li>50</li>\n",
       "\t<li>60</li>\n",
       "\t<li>60</li>\n",
       "\t<li>60</li>\n",
       "\t<li>60</li>\n",
       "\t<li>60</li>\n",
       "\t<li>60</li>\n",
       "\t<li>60</li>\n",
       "\t<li>60</li>\n",
       "\t<li>60</li>\n",
       "\t<li>60</li>\n",
       "\t<li>60</li>\n",
       "\t<li>60</li>\n",
       "\t<li>60</li>\n",
       "\t<li>60</li>\n",
       "\t<li>60</li>\n",
       "\t<li>60</li>\n",
       "\t<li>70</li>\n",
       "\t<li>70</li>\n",
       "\t<li>70</li>\n",
       "\t<li>70</li>\n",
       "\t<li>70</li>\n",
       "\t<li>70</li>\n",
       "\t<li>70</li>\n",
       "\t<li>70</li>\n",
       "\t<li>70</li>\n",
       "\t<li>70</li>\n",
       "\t<li>70</li>\n",
       "\t<li>70</li>\n",
       "\t<li>70</li>\n",
       "\t<li>70</li>\n",
       "\t<li>70</li>\n",
       "\t<li>80</li>\n",
       "\t<li>80</li>\n",
       "\t<li>80</li>\n",
       "\t<li>80</li>\n",
       "\t<li>80</li>\n",
       "\t<li>80</li>\n",
       "\t<li>80</li>\n",
       "\t<li>80</li>\n",
       "\t<li>80</li>\n",
       "\t<li>80</li>\n",
       "\t<li>80</li>\n",
       "</ol>\n"
      ],
      "text/latex": [
       "\\begin{enumerate*}\n",
       "\\item 30\n",
       "\\item 30\n",
       "\\item 30\n",
       "\\item 30\n",
       "\\item 30\n",
       "\\item 30\n",
       "\\item 30\n",
       "\\item 30\n",
       "\\item 30\n",
       "\\item 30\n",
       "\\item 30\n",
       "\\item 30\n",
       "\\item 30\n",
       "\\item 30\n",
       "\\item 30\n",
       "\\item 40\n",
       "\\item 40\n",
       "\\item 40\n",
       "\\item 40\n",
       "\\item 40\n",
       "\\item 40\n",
       "\\item 40\n",
       "\\item 40\n",
       "\\item 40\n",
       "\\item 40\n",
       "\\item 40\n",
       "\\item 40\n",
       "\\item 40\n",
       "\\item 40\n",
       "\\item 40\n",
       "\\item 50\n",
       "\\item 50\n",
       "\\item 50\n",
       "\\item 50\n",
       "\\item 50\n",
       "\\item 50\n",
       "\\item 50\n",
       "\\item 50\n",
       "\\item 50\n",
       "\\item 50\n",
       "\\item 50\n",
       "\\item 50\n",
       "\\item 50\n",
       "\\item 50\n",
       "\\item 50\n",
       "\\item 50\n",
       "\\item 60\n",
       "\\item 60\n",
       "\\item 60\n",
       "\\item 60\n",
       "\\item 60\n",
       "\\item 60\n",
       "\\item 60\n",
       "\\item 60\n",
       "\\item 60\n",
       "\\item 60\n",
       "\\item 60\n",
       "\\item 60\n",
       "\\item 60\n",
       "\\item 60\n",
       "\\item 60\n",
       "\\item 60\n",
       "\\item 70\n",
       "\\item 70\n",
       "\\item 70\n",
       "\\item 70\n",
       "\\item 70\n",
       "\\item 70\n",
       "\\item 70\n",
       "\\item 70\n",
       "\\item 70\n",
       "\\item 70\n",
       "\\item 70\n",
       "\\item 70\n",
       "\\item 70\n",
       "\\item 70\n",
       "\\item 70\n",
       "\\item 80\n",
       "\\item 80\n",
       "\\item 80\n",
       "\\item 80\n",
       "\\item 80\n",
       "\\item 80\n",
       "\\item 80\n",
       "\\item 80\n",
       "\\item 80\n",
       "\\item 80\n",
       "\\item 80\n",
       "\\end{enumerate*}\n"
      ],
      "text/markdown": [
       "1. 30\n",
       "2. 30\n",
       "3. 30\n",
       "4. 30\n",
       "5. 30\n",
       "6. 30\n",
       "7. 30\n",
       "8. 30\n",
       "9. 30\n",
       "10. 30\n",
       "11. 30\n",
       "12. 30\n",
       "13. 30\n",
       "14. 30\n",
       "15. 30\n",
       "16. 40\n",
       "17. 40\n",
       "18. 40\n",
       "19. 40\n",
       "20. 40\n",
       "21. 40\n",
       "22. 40\n",
       "23. 40\n",
       "24. 40\n",
       "25. 40\n",
       "26. 40\n",
       "27. 40\n",
       "28. 40\n",
       "29. 40\n",
       "30. 40\n",
       "31. 50\n",
       "32. 50\n",
       "33. 50\n",
       "34. 50\n",
       "35. 50\n",
       "36. 50\n",
       "37. 50\n",
       "38. 50\n",
       "39. 50\n",
       "40. 50\n",
       "41. 50\n",
       "42. 50\n",
       "43. 50\n",
       "44. 50\n",
       "45. 50\n",
       "46. 50\n",
       "47. 60\n",
       "48. 60\n",
       "49. 60\n",
       "50. 60\n",
       "51. 60\n",
       "52. 60\n",
       "53. 60\n",
       "54. 60\n",
       "55. 60\n",
       "56. 60\n",
       "57. 60\n",
       "58. 60\n",
       "59. 60\n",
       "60. 60\n",
       "61. 60\n",
       "62. 60\n",
       "63. 70\n",
       "64. 70\n",
       "65. 70\n",
       "66. 70\n",
       "67. 70\n",
       "68. 70\n",
       "69. 70\n",
       "70. 70\n",
       "71. 70\n",
       "72. 70\n",
       "73. 70\n",
       "74. 70\n",
       "75. 70\n",
       "76. 70\n",
       "77. 70\n",
       "78. 80\n",
       "79. 80\n",
       "80. 80\n",
       "81. 80\n",
       "82. 80\n",
       "83. 80\n",
       "84. 80\n",
       "85. 80\n",
       "86. 80\n",
       "87. 80\n",
       "88. 80\n",
       "\n",
       "\n"
      ],
      "text/plain": [
       " [1] 30 30 30 30 30 30 30 30 30 30 30 30 30 30 30 40 40 40 40 40 40 40 40 40 40\n",
       "[26] 40 40 40 40 40 50 50 50 50 50 50 50 50 50 50 50 50 50 50 50 50 60 60 60 60\n",
       "[51] 60 60 60 60 60 60 60 60 60 60 60 60 70 70 70 70 70 70 70 70 70 70 70 70 70\n",
       "[76] 70 70 80 80 80 80 80 80 80 80 80 80 80"
      ]
     },
     "metadata": {},
     "output_type": "display_data"
    }
   ],
   "source": [
    "ageVectors[as.numeric(dfcancer$agegp)]"
   ]
  },
  {
   "cell_type": "code",
   "execution_count": 416,
   "metadata": {},
   "outputs": [
    {
     "data": {
      "text/html": [
       "<ol class=list-inline>\n",
       "\t<li>'25-34'</li>\n",
       "\t<li>'25-34'</li>\n",
       "\t<li>'25-34'</li>\n",
       "\t<li>'25-34'</li>\n",
       "\t<li>'25-34'</li>\n",
       "\t<li>'25-34'</li>\n",
       "\t<li>'25-34'</li>\n",
       "\t<li>'25-34'</li>\n",
       "\t<li>'25-34'</li>\n",
       "\t<li>'25-34'</li>\n",
       "\t<li>'25-34'</li>\n",
       "\t<li>'25-34'</li>\n",
       "\t<li>'25-34'</li>\n",
       "\t<li>'25-34'</li>\n",
       "\t<li>'25-34'</li>\n",
       "\t<li>'35-44'</li>\n",
       "\t<li>'35-44'</li>\n",
       "\t<li>'35-44'</li>\n",
       "\t<li>'35-44'</li>\n",
       "\t<li>'35-44'</li>\n",
       "\t<li>'35-44'</li>\n",
       "\t<li>'35-44'</li>\n",
       "\t<li>'35-44'</li>\n",
       "\t<li>'35-44'</li>\n",
       "\t<li>'35-44'</li>\n",
       "\t<li>'35-44'</li>\n",
       "\t<li>'35-44'</li>\n",
       "\t<li>'35-44'</li>\n",
       "\t<li>'35-44'</li>\n",
       "\t<li>'35-44'</li>\n",
       "\t<li>'45-54'</li>\n",
       "\t<li>'45-54'</li>\n",
       "\t<li>'45-54'</li>\n",
       "\t<li>'45-54'</li>\n",
       "\t<li>'45-54'</li>\n",
       "\t<li>'45-54'</li>\n",
       "\t<li>'45-54'</li>\n",
       "\t<li>'45-54'</li>\n",
       "\t<li>'45-54'</li>\n",
       "\t<li>'45-54'</li>\n",
       "\t<li>'45-54'</li>\n",
       "\t<li>'45-54'</li>\n",
       "\t<li>'45-54'</li>\n",
       "\t<li>'45-54'</li>\n",
       "\t<li>'45-54'</li>\n",
       "\t<li>'45-54'</li>\n",
       "\t<li>'55-64'</li>\n",
       "\t<li>'55-64'</li>\n",
       "\t<li>'55-64'</li>\n",
       "\t<li>'55-64'</li>\n",
       "\t<li>'55-64'</li>\n",
       "\t<li>'55-64'</li>\n",
       "\t<li>'55-64'</li>\n",
       "\t<li>'55-64'</li>\n",
       "\t<li>'55-64'</li>\n",
       "\t<li>'55-64'</li>\n",
       "\t<li>'55-64'</li>\n",
       "\t<li>'55-64'</li>\n",
       "\t<li>'55-64'</li>\n",
       "\t<li>'55-64'</li>\n",
       "\t<li>'55-64'</li>\n",
       "\t<li>'55-64'</li>\n",
       "\t<li>'65-74'</li>\n",
       "\t<li>'65-74'</li>\n",
       "\t<li>'65-74'</li>\n",
       "\t<li>'65-74'</li>\n",
       "\t<li>'65-74'</li>\n",
       "\t<li>'65-74'</li>\n",
       "\t<li>'65-74'</li>\n",
       "\t<li>'65-74'</li>\n",
       "\t<li>'65-74'</li>\n",
       "\t<li>'65-74'</li>\n",
       "\t<li>'65-74'</li>\n",
       "\t<li>'65-74'</li>\n",
       "\t<li>'65-74'</li>\n",
       "\t<li>'65-74'</li>\n",
       "\t<li>'65-74'</li>\n",
       "\t<li>'75+'</li>\n",
       "\t<li>'75+'</li>\n",
       "\t<li>'75+'</li>\n",
       "\t<li>'75+'</li>\n",
       "\t<li>'75+'</li>\n",
       "\t<li>'75+'</li>\n",
       "\t<li>'75+'</li>\n",
       "\t<li>'75+'</li>\n",
       "\t<li>'75+'</li>\n",
       "\t<li>'75+'</li>\n",
       "\t<li>'75+'</li>\n",
       "</ol>\n"
      ],
      "text/latex": [
       "\\begin{enumerate*}\n",
       "\\item '25-34'\n",
       "\\item '25-34'\n",
       "\\item '25-34'\n",
       "\\item '25-34'\n",
       "\\item '25-34'\n",
       "\\item '25-34'\n",
       "\\item '25-34'\n",
       "\\item '25-34'\n",
       "\\item '25-34'\n",
       "\\item '25-34'\n",
       "\\item '25-34'\n",
       "\\item '25-34'\n",
       "\\item '25-34'\n",
       "\\item '25-34'\n",
       "\\item '25-34'\n",
       "\\item '35-44'\n",
       "\\item '35-44'\n",
       "\\item '35-44'\n",
       "\\item '35-44'\n",
       "\\item '35-44'\n",
       "\\item '35-44'\n",
       "\\item '35-44'\n",
       "\\item '35-44'\n",
       "\\item '35-44'\n",
       "\\item '35-44'\n",
       "\\item '35-44'\n",
       "\\item '35-44'\n",
       "\\item '35-44'\n",
       "\\item '35-44'\n",
       "\\item '35-44'\n",
       "\\item '45-54'\n",
       "\\item '45-54'\n",
       "\\item '45-54'\n",
       "\\item '45-54'\n",
       "\\item '45-54'\n",
       "\\item '45-54'\n",
       "\\item '45-54'\n",
       "\\item '45-54'\n",
       "\\item '45-54'\n",
       "\\item '45-54'\n",
       "\\item '45-54'\n",
       "\\item '45-54'\n",
       "\\item '45-54'\n",
       "\\item '45-54'\n",
       "\\item '45-54'\n",
       "\\item '45-54'\n",
       "\\item '55-64'\n",
       "\\item '55-64'\n",
       "\\item '55-64'\n",
       "\\item '55-64'\n",
       "\\item '55-64'\n",
       "\\item '55-64'\n",
       "\\item '55-64'\n",
       "\\item '55-64'\n",
       "\\item '55-64'\n",
       "\\item '55-64'\n",
       "\\item '55-64'\n",
       "\\item '55-64'\n",
       "\\item '55-64'\n",
       "\\item '55-64'\n",
       "\\item '55-64'\n",
       "\\item '55-64'\n",
       "\\item '65-74'\n",
       "\\item '65-74'\n",
       "\\item '65-74'\n",
       "\\item '65-74'\n",
       "\\item '65-74'\n",
       "\\item '65-74'\n",
       "\\item '65-74'\n",
       "\\item '65-74'\n",
       "\\item '65-74'\n",
       "\\item '65-74'\n",
       "\\item '65-74'\n",
       "\\item '65-74'\n",
       "\\item '65-74'\n",
       "\\item '65-74'\n",
       "\\item '65-74'\n",
       "\\item '75+'\n",
       "\\item '75+'\n",
       "\\item '75+'\n",
       "\\item '75+'\n",
       "\\item '75+'\n",
       "\\item '75+'\n",
       "\\item '75+'\n",
       "\\item '75+'\n",
       "\\item '75+'\n",
       "\\item '75+'\n",
       "\\item '75+'\n",
       "\\end{enumerate*}\n"
      ],
      "text/markdown": [
       "1. '25-34'\n",
       "2. '25-34'\n",
       "3. '25-34'\n",
       "4. '25-34'\n",
       "5. '25-34'\n",
       "6. '25-34'\n",
       "7. '25-34'\n",
       "8. '25-34'\n",
       "9. '25-34'\n",
       "10. '25-34'\n",
       "11. '25-34'\n",
       "12. '25-34'\n",
       "13. '25-34'\n",
       "14. '25-34'\n",
       "15. '25-34'\n",
       "16. '35-44'\n",
       "17. '35-44'\n",
       "18. '35-44'\n",
       "19. '35-44'\n",
       "20. '35-44'\n",
       "21. '35-44'\n",
       "22. '35-44'\n",
       "23. '35-44'\n",
       "24. '35-44'\n",
       "25. '35-44'\n",
       "26. '35-44'\n",
       "27. '35-44'\n",
       "28. '35-44'\n",
       "29. '35-44'\n",
       "30. '35-44'\n",
       "31. '45-54'\n",
       "32. '45-54'\n",
       "33. '45-54'\n",
       "34. '45-54'\n",
       "35. '45-54'\n",
       "36. '45-54'\n",
       "37. '45-54'\n",
       "38. '45-54'\n",
       "39. '45-54'\n",
       "40. '45-54'\n",
       "41. '45-54'\n",
       "42. '45-54'\n",
       "43. '45-54'\n",
       "44. '45-54'\n",
       "45. '45-54'\n",
       "46. '45-54'\n",
       "47. '55-64'\n",
       "48. '55-64'\n",
       "49. '55-64'\n",
       "50. '55-64'\n",
       "51. '55-64'\n",
       "52. '55-64'\n",
       "53. '55-64'\n",
       "54. '55-64'\n",
       "55. '55-64'\n",
       "56. '55-64'\n",
       "57. '55-64'\n",
       "58. '55-64'\n",
       "59. '55-64'\n",
       "60. '55-64'\n",
       "61. '55-64'\n",
       "62. '55-64'\n",
       "63. '65-74'\n",
       "64. '65-74'\n",
       "65. '65-74'\n",
       "66. '65-74'\n",
       "67. '65-74'\n",
       "68. '65-74'\n",
       "69. '65-74'\n",
       "70. '65-74'\n",
       "71. '65-74'\n",
       "72. '65-74'\n",
       "73. '65-74'\n",
       "74. '65-74'\n",
       "75. '65-74'\n",
       "76. '65-74'\n",
       "77. '65-74'\n",
       "78. '75+'\n",
       "79. '75+'\n",
       "80. '75+'\n",
       "81. '75+'\n",
       "82. '75+'\n",
       "83. '75+'\n",
       "84. '75+'\n",
       "85. '75+'\n",
       "86. '75+'\n",
       "87. '75+'\n",
       "88. '75+'\n",
       "\n",
       "\n"
      ],
      "text/plain": [
       " [1] \"25-34\" \"25-34\" \"25-34\" \"25-34\" \"25-34\" \"25-34\" \"25-34\" \"25-34\" \"25-34\"\n",
       "[10] \"25-34\" \"25-34\" \"25-34\" \"25-34\" \"25-34\" \"25-34\" \"35-44\" \"35-44\" \"35-44\"\n",
       "[19] \"35-44\" \"35-44\" \"35-44\" \"35-44\" \"35-44\" \"35-44\" \"35-44\" \"35-44\" \"35-44\"\n",
       "[28] \"35-44\" \"35-44\" \"35-44\" \"45-54\" \"45-54\" \"45-54\" \"45-54\" \"45-54\" \"45-54\"\n",
       "[37] \"45-54\" \"45-54\" \"45-54\" \"45-54\" \"45-54\" \"45-54\" \"45-54\" \"45-54\" \"45-54\"\n",
       "[46] \"45-54\" \"55-64\" \"55-64\" \"55-64\" \"55-64\" \"55-64\" \"55-64\" \"55-64\" \"55-64\"\n",
       "[55] \"55-64\" \"55-64\" \"55-64\" \"55-64\" \"55-64\" \"55-64\" \"55-64\" \"55-64\" \"65-74\"\n",
       "[64] \"65-74\" \"65-74\" \"65-74\" \"65-74\" \"65-74\" \"65-74\" \"65-74\" \"65-74\" \"65-74\"\n",
       "[73] \"65-74\" \"65-74\" \"65-74\" \"65-74\" \"65-74\" \"75+\"   \"75+\"   \"75+\"   \"75+\"  \n",
       "[82] \"75+\"   \"75+\"   \"75+\"   \"75+\"   \"75+\"   \"75+\"   \"75+\"  "
      ]
     },
     "metadata": {},
     "output_type": "display_data"
    }
   ],
   "source": [
    "levels(dfcancer$agegp)[as.numeric(dfcancer$agegp)]"
   ]
  },
  {
   "cell_type": "code",
   "execution_count": 417,
   "metadata": {},
   "outputs": [
    {
     "data": {
      "text/html": [
       "<ol class=list-inline>\n",
       "\t<li>25-34</li>\n",
       "\t<li>25-34</li>\n",
       "\t<li>25-34</li>\n",
       "\t<li>25-34</li>\n",
       "\t<li>25-34</li>\n",
       "\t<li>25-34</li>\n",
       "\t<li>25-34</li>\n",
       "\t<li>25-34</li>\n",
       "\t<li>25-34</li>\n",
       "\t<li>25-34</li>\n",
       "\t<li>25-34</li>\n",
       "\t<li>25-34</li>\n",
       "\t<li>25-34</li>\n",
       "\t<li>25-34</li>\n",
       "\t<li>25-34</li>\n",
       "\t<li>35-44</li>\n",
       "\t<li>35-44</li>\n",
       "\t<li>35-44</li>\n",
       "\t<li>35-44</li>\n",
       "\t<li>35-44</li>\n",
       "\t<li>35-44</li>\n",
       "\t<li>35-44</li>\n",
       "\t<li>35-44</li>\n",
       "\t<li>35-44</li>\n",
       "\t<li>35-44</li>\n",
       "\t<li>35-44</li>\n",
       "\t<li>35-44</li>\n",
       "\t<li>35-44</li>\n",
       "\t<li>35-44</li>\n",
       "\t<li>35-44</li>\n",
       "\t<li>45-54</li>\n",
       "\t<li>45-54</li>\n",
       "\t<li>45-54</li>\n",
       "\t<li>45-54</li>\n",
       "\t<li>45-54</li>\n",
       "\t<li>45-54</li>\n",
       "\t<li>45-54</li>\n",
       "\t<li>45-54</li>\n",
       "\t<li>45-54</li>\n",
       "\t<li>45-54</li>\n",
       "\t<li>45-54</li>\n",
       "\t<li>45-54</li>\n",
       "\t<li>45-54</li>\n",
       "\t<li>45-54</li>\n",
       "\t<li>45-54</li>\n",
       "\t<li>45-54</li>\n",
       "\t<li>55-64</li>\n",
       "\t<li>55-64</li>\n",
       "\t<li>55-64</li>\n",
       "\t<li>55-64</li>\n",
       "\t<li>55-64</li>\n",
       "\t<li>55-64</li>\n",
       "\t<li>55-64</li>\n",
       "\t<li>55-64</li>\n",
       "\t<li>55-64</li>\n",
       "\t<li>55-64</li>\n",
       "\t<li>55-64</li>\n",
       "\t<li>55-64</li>\n",
       "\t<li>55-64</li>\n",
       "\t<li>55-64</li>\n",
       "\t<li>55-64</li>\n",
       "\t<li>55-64</li>\n",
       "\t<li>65-74</li>\n",
       "\t<li>65-74</li>\n",
       "\t<li>65-74</li>\n",
       "\t<li>65-74</li>\n",
       "\t<li>65-74</li>\n",
       "\t<li>65-74</li>\n",
       "\t<li>65-74</li>\n",
       "\t<li>65-74</li>\n",
       "\t<li>65-74</li>\n",
       "\t<li>65-74</li>\n",
       "\t<li>65-74</li>\n",
       "\t<li>65-74</li>\n",
       "\t<li>65-74</li>\n",
       "\t<li>65-74</li>\n",
       "\t<li>65-74</li>\n",
       "\t<li>75+</li>\n",
       "\t<li>75+</li>\n",
       "\t<li>75+</li>\n",
       "\t<li>75+</li>\n",
       "\t<li>75+</li>\n",
       "\t<li>75+</li>\n",
       "\t<li>75+</li>\n",
       "\t<li>75+</li>\n",
       "\t<li>75+</li>\n",
       "\t<li>75+</li>\n",
       "\t<li>75+</li>\n",
       "</ol>\n",
       "\n",
       "<details>\n",
       "\t<summary style=display:list-item;cursor:pointer>\n",
       "\t\t<strong>Levels</strong>:\n",
       "\t</summary>\n",
       "\t<ol class=list-inline>\n",
       "\t\t<li>'25-34'</li>\n",
       "\t\t<li>'35-44'</li>\n",
       "\t\t<li>'45-54'</li>\n",
       "\t\t<li>'55-64'</li>\n",
       "\t\t<li>'65-74'</li>\n",
       "\t\t<li>'75+'</li>\n",
       "\t</ol>\n",
       "</details>"
      ],
      "text/latex": [
       "\\begin{enumerate*}\n",
       "\\item 25-34\n",
       "\\item 25-34\n",
       "\\item 25-34\n",
       "\\item 25-34\n",
       "\\item 25-34\n",
       "\\item 25-34\n",
       "\\item 25-34\n",
       "\\item 25-34\n",
       "\\item 25-34\n",
       "\\item 25-34\n",
       "\\item 25-34\n",
       "\\item 25-34\n",
       "\\item 25-34\n",
       "\\item 25-34\n",
       "\\item 25-34\n",
       "\\item 35-44\n",
       "\\item 35-44\n",
       "\\item 35-44\n",
       "\\item 35-44\n",
       "\\item 35-44\n",
       "\\item 35-44\n",
       "\\item 35-44\n",
       "\\item 35-44\n",
       "\\item 35-44\n",
       "\\item 35-44\n",
       "\\item 35-44\n",
       "\\item 35-44\n",
       "\\item 35-44\n",
       "\\item 35-44\n",
       "\\item 35-44\n",
       "\\item 45-54\n",
       "\\item 45-54\n",
       "\\item 45-54\n",
       "\\item 45-54\n",
       "\\item 45-54\n",
       "\\item 45-54\n",
       "\\item 45-54\n",
       "\\item 45-54\n",
       "\\item 45-54\n",
       "\\item 45-54\n",
       "\\item 45-54\n",
       "\\item 45-54\n",
       "\\item 45-54\n",
       "\\item 45-54\n",
       "\\item 45-54\n",
       "\\item 45-54\n",
       "\\item 55-64\n",
       "\\item 55-64\n",
       "\\item 55-64\n",
       "\\item 55-64\n",
       "\\item 55-64\n",
       "\\item 55-64\n",
       "\\item 55-64\n",
       "\\item 55-64\n",
       "\\item 55-64\n",
       "\\item 55-64\n",
       "\\item 55-64\n",
       "\\item 55-64\n",
       "\\item 55-64\n",
       "\\item 55-64\n",
       "\\item 55-64\n",
       "\\item 55-64\n",
       "\\item 65-74\n",
       "\\item 65-74\n",
       "\\item 65-74\n",
       "\\item 65-74\n",
       "\\item 65-74\n",
       "\\item 65-74\n",
       "\\item 65-74\n",
       "\\item 65-74\n",
       "\\item 65-74\n",
       "\\item 65-74\n",
       "\\item 65-74\n",
       "\\item 65-74\n",
       "\\item 65-74\n",
       "\\item 65-74\n",
       "\\item 65-74\n",
       "\\item 75+\n",
       "\\item 75+\n",
       "\\item 75+\n",
       "\\item 75+\n",
       "\\item 75+\n",
       "\\item 75+\n",
       "\\item 75+\n",
       "\\item 75+\n",
       "\\item 75+\n",
       "\\item 75+\n",
       "\\item 75+\n",
       "\\end{enumerate*}\n",
       "\n",
       "\\emph{Levels}: \\begin{enumerate*}\n",
       "\\item '25-34'\n",
       "\\item '35-44'\n",
       "\\item '45-54'\n",
       "\\item '55-64'\n",
       "\\item '65-74'\n",
       "\\item '75+'\n",
       "\\end{enumerate*}\n"
      ],
      "text/markdown": [
       "1. 25-34\n",
       "2. 25-34\n",
       "3. 25-34\n",
       "4. 25-34\n",
       "5. 25-34\n",
       "6. 25-34\n",
       "7. 25-34\n",
       "8. 25-34\n",
       "9. 25-34\n",
       "10. 25-34\n",
       "11. 25-34\n",
       "12. 25-34\n",
       "13. 25-34\n",
       "14. 25-34\n",
       "15. 25-34\n",
       "16. 35-44\n",
       "17. 35-44\n",
       "18. 35-44\n",
       "19. 35-44\n",
       "20. 35-44\n",
       "21. 35-44\n",
       "22. 35-44\n",
       "23. 35-44\n",
       "24. 35-44\n",
       "25. 35-44\n",
       "26. 35-44\n",
       "27. 35-44\n",
       "28. 35-44\n",
       "29. 35-44\n",
       "30. 35-44\n",
       "31. 45-54\n",
       "32. 45-54\n",
       "33. 45-54\n",
       "34. 45-54\n",
       "35. 45-54\n",
       "36. 45-54\n",
       "37. 45-54\n",
       "38. 45-54\n",
       "39. 45-54\n",
       "40. 45-54\n",
       "41. 45-54\n",
       "42. 45-54\n",
       "43. 45-54\n",
       "44. 45-54\n",
       "45. 45-54\n",
       "46. 45-54\n",
       "47. 55-64\n",
       "48. 55-64\n",
       "49. 55-64\n",
       "50. 55-64\n",
       "51. 55-64\n",
       "52. 55-64\n",
       "53. 55-64\n",
       "54. 55-64\n",
       "55. 55-64\n",
       "56. 55-64\n",
       "57. 55-64\n",
       "58. 55-64\n",
       "59. 55-64\n",
       "60. 55-64\n",
       "61. 55-64\n",
       "62. 55-64\n",
       "63. 65-74\n",
       "64. 65-74\n",
       "65. 65-74\n",
       "66. 65-74\n",
       "67. 65-74\n",
       "68. 65-74\n",
       "69. 65-74\n",
       "70. 65-74\n",
       "71. 65-74\n",
       "72. 65-74\n",
       "73. 65-74\n",
       "74. 65-74\n",
       "75. 65-74\n",
       "76. 65-74\n",
       "77. 65-74\n",
       "78. 75+\n",
       "79. 75+\n",
       "80. 75+\n",
       "81. 75+\n",
       "82. 75+\n",
       "83. 75+\n",
       "84. 75+\n",
       "85. 75+\n",
       "86. 75+\n",
       "87. 75+\n",
       "88. 75+\n",
       "\n",
       "\n",
       "\n",
       "**Levels**: 1. '25-34'\n",
       "2. '35-44'\n",
       "3. '45-54'\n",
       "4. '55-64'\n",
       "5. '65-74'\n",
       "6. '75+'\n",
       "\n",
       "\n"
      ],
      "text/plain": [
       " [1] 25-34 25-34 25-34 25-34 25-34 25-34 25-34 25-34 25-34 25-34 25-34 25-34\n",
       "[13] 25-34 25-34 25-34 35-44 35-44 35-44 35-44 35-44 35-44 35-44 35-44 35-44\n",
       "[25] 35-44 35-44 35-44 35-44 35-44 35-44 45-54 45-54 45-54 45-54 45-54 45-54\n",
       "[37] 45-54 45-54 45-54 45-54 45-54 45-54 45-54 45-54 45-54 45-54 55-64 55-64\n",
       "[49] 55-64 55-64 55-64 55-64 55-64 55-64 55-64 55-64 55-64 55-64 55-64 55-64\n",
       "[61] 55-64 55-64 65-74 65-74 65-74 65-74 65-74 65-74 65-74 65-74 65-74 65-74\n",
       "[73] 65-74 65-74 65-74 65-74 65-74 75+   75+   75+   75+   75+   75+   75+  \n",
       "[85] 75+   75+   75+   75+  \n",
       "Levels: 25-34 35-44 45-54 55-64 65-74 75+"
      ]
     },
     "metadata": {},
     "output_type": "display_data"
    }
   ],
   "source": [
    "unique(dfcancer$agegp)[as.numeric(dfcancer$agegp)]"
   ]
  },
  {
   "cell_type": "code",
   "execution_count": null,
   "metadata": {},
   "outputs": [],
   "source": []
  }
 ],
 "metadata": {
  "kernelspec": {
   "display_name": "R",
   "language": "R",
   "name": "ir"
  },
  "language_info": {
   "codemirror_mode": "r",
   "file_extension": ".r",
   "mimetype": "text/x-r-source",
   "name": "R",
   "pygments_lexer": "r",
   "version": "3.6.0"
  }
 },
 "nbformat": 4,
 "nbformat_minor": 1
}
